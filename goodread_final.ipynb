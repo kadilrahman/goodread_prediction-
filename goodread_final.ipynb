{
  "cells": [
    {
      "cell_type": "markdown",
      "metadata": {
        "id": "view-in-github",
        "colab_type": "text"
      },
      "source": [
        "<a href=\"https://colab.research.google.com/github/kadilrahman/goodread_prediction-/blob/master/goodread_final.ipynb\" target=\"_parent\"><img src=\"https://colab.research.google.com/assets/colab-badge.svg\" alt=\"Open In Colab\"/></a>"
      ]
    },
    {
      "cell_type": "markdown",
      "metadata": {
        "id": "FV29rEdyp1Hn"
      },
      "source": [
        "# Overview\n",
        "\n",
        "My main task was to predict the rating of a random book, which I achieved by implementing the appropriate machine learning algorithms. I built three models: a Baseline Machine Learning Model where I used a Logistic Regression model, a 3-layer Neural Network Model, and a Deep Neural Network (DNN). For the Complex Neural Network, I used Long Short-Term Memory (LSTMs), which is a type of Recurrent Neural Network (RNN), Gated Recurrent Units (GRUs) which are again a type of Recurrent Neural Networks (RNN) used for modeling sequential data, and Bidirectional Encoder Representations from Transformers (BERT). BERT uses a bidirectional approach to generate contextualized word embeddings, which are representations of words that capture their meanings in the context of a sentence. This approach is beneficial because it is pre-trained on massive amounts of text data, allowing it to learn general language patterns and relationships between words."
      ]
    },
    {
      "cell_type": "code",
      "execution_count": null,
      "metadata": {
        "id": "lsFBZTS2sUHx"
      },
      "outputs": [],
      "source": [
        "import random\n",
        "import numpy as np\n",
        "import pandas as pd\n",
        "import seaborn as sns\n",
        "import matplotlib.pyplot as plt"
      ]
    },
    {
      "cell_type": "code",
      "execution_count": null,
      "metadata": {
        "colab": {
          "base_uri": "https://localhost:8080/"
        },
        "id": "PlwQC-ROsnZe",
        "outputId": "8aee9e96-4e7f-4dd0-b00f-75b34b3fa677"
      },
      "outputs": [
        {
          "name": "stdout",
          "output_type": "stream",
          "text": [
            "Mounted at /content/drive\n"
          ]
        }
      ],
      "source": [
        "from google.colab import drive\n",
        "drive.mount('/content/drive')"
      ]
    },
    {
      "cell_type": "code",
      "execution_count": null,
      "metadata": {
        "id": "SOKarYsqtU7m"
      },
      "outputs": [],
      "source": [
        "train = pd.read_csv(\"/content/drive/MyDrive/my_goodreads_train.csv\")\n",
        "test = pd.read_csv(\"/content/drive/MyDrive/my_goodreads_test.csv\")"
      ]
    },
    {
      "cell_type": "code",
      "execution_count": null,
      "metadata": {
        "colab": {
          "base_uri": "https://localhost:8080/"
        },
        "id": "rn1fPrUBtz9a",
        "outputId": "7a7d3a72-1de3-48c4-fe47-28197da824ea"
      },
      "outputs": [
        {
          "data": {
            "text/plain": [
              "(700000, 11)"
            ]
          },
          "execution_count": 70,
          "metadata": {},
          "output_type": "execute_result"
        }
      ],
      "source": [
        "train.shape"
      ]
    },
    {
      "cell_type": "code",
      "execution_count": null,
      "metadata": {
        "colab": {
          "base_uri": "https://localhost:8080/"
        },
        "id": "m0KxNIv2VUrs",
        "outputId": "409dbc11-96a3-40da-b0a8-ed99c1552fa4"
      },
      "outputs": [
        {
          "data": {
            "text/plain": [
              "(200000, 11)"
            ]
          },
          "execution_count": 71,
          "metadata": {},
          "output_type": "execute_result"
        }
      ],
      "source": [
        "test.shape"
      ]
    },
    {
      "cell_type": "markdown",
      "metadata": {
        "id": "b7I4vWLRsWhy"
      },
      "source": [
        "# Method:\n",
        "\n",
        "The data I initially received consists of two datasets, namely the training and testing datasets. Both datasets include 11 features: \"#\" which is the index, \"user_id\" that pertains to the unique identity of the user, \"review_id\" representing the ID of the review, \"rating\" which is the review of the book on a scale of 1 to 5, \"review_text\" that represents the content of the review, \"date_added\" showing when the review was added, \"date_updated\" indicating when the review was last updated, \"read_at\" representing the date and time the book was read, \"started_at\" showing when the user started reading the book, \"n_votes\" representing the number of votes the review received, and \"n_comments\" indicating the number of comments on the review.\n",
        "\n",
        "Moving forward, I began exploring the dataset and preprocessing it by checking for any missing or null values, which I then removed from the dataset."
      ]
    },
    {
      "cell_type": "code",
      "execution_count": null,
      "metadata": {
        "colab": {
          "base_uri": "https://localhost:8080/"
        },
        "id": "uULdpYyIu8dG",
        "outputId": "0b5ca7bf-c2a9-4cd5-c512-41335c67dfa6"
      },
      "outputs": [
        {
          "data": {
            "text/plain": [
              "array([5, 4, 3, 2, 1])"
            ]
          },
          "execution_count": 72,
          "metadata": {},
          "output_type": "execute_result"
        }
      ],
      "source": [
        "train['rating'].unique()"
      ]
    },
    {
      "cell_type": "code",
      "execution_count": null,
      "metadata": {
        "id": "QAuMzcC0vKV7"
      },
      "outputs": [],
      "source": [
        "train['n_votes'].unique()"
      ]
    },
    {
      "cell_type": "code",
      "execution_count": null,
      "metadata": {
        "id": "BLxn-Ms5vMaK"
      },
      "outputs": [],
      "source": [
        "train['n_comments'].unique()"
      ]
    },
    {
      "cell_type": "code",
      "execution_count": null,
      "metadata": {
        "colab": {
          "base_uri": "https://localhost:8080/"
        },
        "id": "_QjHYAUOvt2e",
        "outputId": "53cbe990-8283-482d-8f79-c112bb4360a5"
      },
      "outputs": [
        {
          "data": {
            "text/plain": [
              "Index(['user_id', 'book_id', 'review_id', 'rating', 'review_text',\n",
              "       'date_added', 'date_updated', 'read_at', 'started_at', 'n_votes',\n",
              "       'n_comments'],\n",
              "      dtype='object')"
            ]
          },
          "execution_count": 75,
          "metadata": {},
          "output_type": "execute_result"
        }
      ],
      "source": [
        "train.columns"
      ]
    },
    {
      "cell_type": "code",
      "execution_count": null,
      "metadata": {
        "colab": {
          "base_uri": "https://localhost:8080/"
        },
        "id": "mHXLNo7pvt-b",
        "outputId": "0dac08fd-e538-4f99-a474-4134db7b7af3"
      },
      "outputs": [
        {
          "data": {
            "text/plain": [
              "25469"
            ]
          },
          "execution_count": 76,
          "metadata": {},
          "output_type": "execute_result"
        }
      ],
      "source": [
        "len(train['book_id'].unique())"
      ]
    },
    {
      "cell_type": "code",
      "execution_count": null,
      "metadata": {
        "colab": {
          "base_uri": "https://localhost:8080/"
        },
        "id": "-ETc67_pvuBt",
        "outputId": "0a8ef4b3-8e1a-4cbc-d243-d445e0be6115"
      },
      "outputs": [
        {
          "data": {
            "text/plain": [
              "24074"
            ]
          },
          "execution_count": 77,
          "metadata": {},
          "output_type": "execute_result"
        }
      ],
      "source": [
        "len(test['book_id'].unique())"
      ]
    },
    {
      "cell_type": "code",
      "execution_count": null,
      "metadata": {
        "colab": {
          "base_uri": "https://localhost:8080/"
        },
        "id": "RDamPFTIvuEM",
        "outputId": "af322c5b-910a-4cbe-edd5-40e740a8346e"
      },
      "outputs": [
        {
          "data": {
            "text/plain": [
              "25474"
            ]
          },
          "execution_count": 78,
          "metadata": {},
          "output_type": "execute_result"
        }
      ],
      "source": [
        "entire_bookid_list = pd.concat((train['book_id'], test['book_id'])).reset_index(drop=True).unique()\n",
        "len(entire_bookid_list)"
      ]
    },
    {
      "cell_type": "code",
      "execution_count": null,
      "metadata": {
        "colab": {
          "base_uri": "https://localhost:8080/"
        },
        "id": "gkggfa_1v8Hv",
        "outputId": "21314d12-b789-49d9-9755-2317d52497b8"
      },
      "outputs": [
        {
          "data": {
            "text/plain": [
              "user_id              0\n",
              "book_id              0\n",
              "review_id            0\n",
              "rating               0\n",
              "review_text          0\n",
              "date_added           0\n",
              "date_updated         0\n",
              "read_at          71412\n",
              "started_at      213411\n",
              "n_votes              0\n",
              "n_comments           0\n",
              "dtype: int64"
            ]
          },
          "execution_count": 79,
          "metadata": {},
          "output_type": "execute_result"
        }
      ],
      "source": [
        "train.isna().sum()"
      ]
    },
    {
      "cell_type": "code",
      "execution_count": null,
      "metadata": {
        "colab": {
          "base_uri": "https://localhost:8080/"
        },
        "id": "LS9sfe3pv-CX",
        "outputId": "a771a26e-f428-4783-f131-ae171909b888"
      },
      "outputs": [
        {
          "data": {
            "text/plain": [
              "Unnamed: 0          0\n",
              "user_id             0\n",
              "book_id             0\n",
              "review_id           0\n",
              "review_text         0\n",
              "date_added          0\n",
              "date_updated        0\n",
              "read_at         20354\n",
              "started_at      60886\n",
              "n_votes             0\n",
              "n_comments          0\n",
              "dtype: int64"
            ]
          },
          "execution_count": 80,
          "metadata": {},
          "output_type": "execute_result"
        }
      ],
      "source": [
        "test.isna().sum()"
      ]
    },
    {
      "cell_type": "code",
      "execution_count": null,
      "metadata": {
        "id": "OXucsziEv_27"
      },
      "outputs": [],
      "source": [
        "##Checking Users' behaviour If some users reviewed too many books and if the users reviewed the same books more than once"
      ]
    },
    {
      "cell_type": "code",
      "execution_count": null,
      "metadata": {
        "colab": {
          "base_uri": "https://localhost:8080/",
          "height": 449
        },
        "id": "7HZ6UXhEwxaV",
        "outputId": "fc52ff0d-52d4-4fd9-8bc3-448fe9f41a6c"
      },
      "outputs": [
        {
          "data": {
            "image/png": "[encoded data removed]",
            "text/plain": [
              "<Figure size 640x480 with 1 Axes>"
            ]
          },
          "metadata": {},
          "output_type": "display_data"
        }
      ],
      "source": [
        "# setting default matplotlib plot style\n",
        "import matplotlib as mpl\n",
        "dist_user_reviews = sorted(list(train.user_id.value_counts().items()),key = lambda x: -x[1])\n",
        "\n",
        "default_params = mpl.rcParamsDefault\n",
        "mpl.rcParams.update(default_params)\n",
        "\n",
        "# conclusion: power law of a few users with lots of reviews\n",
        "plt.plot([x[1] for x in dist_user_reviews])\n",
        "plt.ylabel('Book_Reviewed')\n",
        "plt.xlabel('User_ID')\n",
        "plt.show()"
      ]
    },
    {
      "cell_type": "code",
      "execution_count": null,
      "metadata": {
        "colab": {
          "base_uri": "https://localhost:8080/"
        },
        "id": "lP_wPJMNxTly",
        "outputId": "5a37d9ac-ed42-453f-ca31-54a0bddab909"
      },
      "outputs": [
        {
          "data": {
            "text/plain": [
              "user_id                            book_id  \n",
              "10006c00c7d34cd88f2aac4d6ffa6a645  166417571    1\n",
              "1000adc590342f0cb89bd397ef8387ede  186742       1\n",
              "                                   11558606     1\n",
              "                                   13411266     1\n",
              "                                   15011367     1\n",
              "                                               ..\n",
              "1ffeb2fdedaded45fa3756de1a4ad0380  196712231    1\n",
              "                                   198374371    1\n",
              "1fffb57b45549698bea9af95135cf83f4  11764        1\n",
              "                                   178712       1\n",
              "                                   195092       1\n",
              "Name: review_id, Length: 700000, dtype: int64"
            ]
          },
          "execution_count": 82,
          "metadata": {},
          "output_type": "execute_result"
        }
      ],
      "source": [
        "book_per_user = train.groupby(['user_id', 'book_id']).count()['review_id']\n",
        "book_per_user"
      ]
    },
    {
      "cell_type": "code",
      "execution_count": null,
      "metadata": {
        "colab": {
          "base_uri": "https://localhost:8080/"
        },
        "id": "uanH2S61xgNb",
        "outputId": "97edf7f1-c4c7-4744-ccdb-8d3f170b7249"
      },
      "outputs": [
        {
          "data": {
            "text/plain": [
              "1"
            ]
          },
          "execution_count": 83,
          "metadata": {},
          "output_type": "execute_result"
        }
      ],
      "source": [
        "# nobody review of the same book\n",
        "book_per_user.max()"
      ]
    },
    {
      "cell_type": "code",
      "execution_count": null,
      "metadata": {
        "id": "ZvKNDyV9xvnU"
      },
      "outputs": [],
      "source": [
        "##Checking Reviews per Book"
      ]
    },
    {
      "cell_type": "code",
      "execution_count": null,
      "metadata": {
        "id": "lHRV7aTJx1Ce"
      },
      "outputs": [],
      "source": [
        "train['n_review_per_book'] = train.groupby('book_id')['book_id'].transform(len)"
      ]
    },
    {
      "cell_type": "code",
      "execution_count": null,
      "metadata": {
        "colab": {
          "base_uri": "https://localhost:8080/",
          "height": 450
        },
        "id": "VExTradHx3-g",
        "outputId": "dfb0f6fd-832d-4d05-b894-754c83bbe833"
      },
      "outputs": [
        {
          "data": {
            "image/png": "[encoded data removed]",
            "text/plain": [
              "<Figure size 640x480 with 1 Axes>"
            ]
          },
          "metadata": {},
          "output_type": "display_data"
        }
      ],
      "source": [
        "# There are a lot of reviews for some books\n",
        "reviews_x_book = [x[1] for x in sorted(list(set([(x, y) for x, y in train[['book_id', 'n_review_per_book']].values])),\n",
        "                                       key = lambda x: -x[1])]\n",
        "\n",
        "plt.plot(reviews_x_book)\n",
        "plt.ylabel('Reviews')\n",
        "plt.xlabel('Book_id')\n",
        "plt.show()"
      ]
    },
    {
      "cell_type": "code",
      "execution_count": null,
      "metadata": {
        "colab": {
          "base_uri": "https://localhost:8080/",
          "height": 424
        },
        "id": "8n4kFddWyByO",
        "outputId": "c228924f-7d85-4498-f55b-f3e9d1ab28e5"
      },
      "outputs": [
        {
          "data": {
            "text/html": [
              "\n",
              "  <div id=\"df-9b954767-e094-4fa8-a1b0-04dd2d1489dc\">\n",
              "    <div class=\"colab-df-container\">\n",
              "      <div>\n",
              "<style scoped>\n",
              "    .dataframe tbody tr th:only-of-type {\n",
              "        vertical-align: middle;\n",
              "    }\n",
              "\n",
              "    .dataframe tbody tr th {\n",
              "        vertical-align: top;\n",
              "    }\n",
              "\n",
              "    .dataframe thead th {\n",
              "        text-align: right;\n",
              "    }\n",
              "</style>\n",
              "<table border=\"1\" class=\"dataframe\">\n",
              "  <thead>\n",
              "    <tr style=\"text-align: right;\">\n",
              "      <th></th>\n",
              "      <th>book_id</th>\n",
              "      <th>review_text</th>\n",
              "      <th>n_votes</th>\n",
              "      <th>n_comments</th>\n",
              "      <th>rating</th>\n",
              "    </tr>\n",
              "  </thead>\n",
              "  <tbody>\n",
              "    <tr>\n",
              "      <th>0</th>\n",
              "      <td>182091851</td>\n",
              "      <td>I thought this was a very good historical fant...</td>\n",
              "      <td>5</td>\n",
              "      <td>6</td>\n",
              "      <td>5</td>\n",
              "    </tr>\n",
              "    <tr>\n",
              "      <th>1</th>\n",
              "      <td>1451461</td>\n",
              "      <td>I've had this book recommended to me more than...</td>\n",
              "      <td>0</td>\n",
              "      <td>0</td>\n",
              "      <td>5</td>\n",
              "    </tr>\n",
              "    <tr>\n",
              "      <th>2</th>\n",
              "      <td>13483572</td>\n",
              "      <td>Seriously! You go and throw that twist into th...</td>\n",
              "      <td>0</td>\n",
              "      <td>0</td>\n",
              "      <td>5</td>\n",
              "    </tr>\n",
              "    <tr>\n",
              "      <th>3</th>\n",
              "      <td>131585171</td>\n",
              "      <td>Gosh!!! I'm still not recovering from the effi...</td>\n",
              "      <td>5</td>\n",
              "      <td>0</td>\n",
              "      <td>4</td>\n",
              "    </tr>\n",
              "    <tr>\n",
              "      <th>4</th>\n",
              "      <td>195643271</td>\n",
              "      <td>3.5 stars rounded down. I can't help it, I jus...</td>\n",
              "      <td>0</td>\n",
              "      <td>0</td>\n",
              "      <td>3</td>\n",
              "    </tr>\n",
              "    <tr>\n",
              "      <th>...</th>\n",
              "      <td>...</td>\n",
              "      <td>...</td>\n",
              "      <td>...</td>\n",
              "      <td>...</td>\n",
              "      <td>...</td>\n",
              "    </tr>\n",
              "    <tr>\n",
              "      <th>699995</th>\n",
              "      <td>137889043</td>\n",
              "      <td>Beauty of the Beast is a slow-burn romance tha...</td>\n",
              "      <td>0</td>\n",
              "      <td>0</td>\n",
              "      <td>4</td>\n",
              "    </tr>\n",
              "    <tr>\n",
              "      <th>699996</th>\n",
              "      <td>18920506</td>\n",
              "      <td>I absolutely hate cliffhangers! \\n Dreamfever ...</td>\n",
              "      <td>0</td>\n",
              "      <td>0</td>\n",
              "      <td>5</td>\n",
              "    </tr>\n",
              "    <tr>\n",
              "      <th>699997</th>\n",
              "      <td>144000061</td>\n",
              "      <td>Actual rating: 4.5</td>\n",
              "      <td>2</td>\n",
              "      <td>0</td>\n",
              "      <td>5</td>\n",
              "    </tr>\n",
              "    <tr>\n",
              "      <th>699998</th>\n",
              "      <td>163023491</td>\n",
              "      <td>** spoiler alert ** \\n 4.0/5 \\n Predictable. \\...</td>\n",
              "      <td>0</td>\n",
              "      <td>0</td>\n",
              "      <td>4</td>\n",
              "    </tr>\n",
              "    <tr>\n",
              "      <th>699999</th>\n",
              "      <td>11759699</td>\n",
              "      <td>What a fantastic novel. I am not a gamer (the ...</td>\n",
              "      <td>1</td>\n",
              "      <td>0</td>\n",
              "      <td>5</td>\n",
              "    </tr>\n",
              "  </tbody>\n",
              "</table>\n",
              "<p>700000 rows × 5 columns</p>\n",
              "</div>\n",
              "      <button class=\"colab-df-convert\" onclick=\"convertToInteractive('df-9b954767-e094-4fa8-a1b0-04dd2d1489dc')\"\n",
              "              title=\"Convert this dataframe to an interactive table.\"\n",
              "              style=\"display:none;\">\n",
              "        \n",
              "  <svg xmlns=\"http://www.w3.org/2000/svg\" height=\"24px\"viewBox=\"0 0 24 24\"\n",
              "       width=\"24px\">\n",
              "    <path d=\"M0 0h24v24H0V0z\" fill=\"none\"/>\n",
              "    <path d=\"M18.56 5.44l.94 2.06.94-2.06 2.06-.94-2.06-.94-.94-2.06-.94 2.06-2.06.94zm-11 1L8.5 8.5l.94-2.06 2.06-.94-2.06-.94L8.5 2.5l-.94 2.06-2.06.94zm10 10l.94 2.06.94-2.06 2.06-.94-2.06-.94-.94-2.06-.94 2.06-2.06.94z\"/><path d=\"M17.41 7.96l-1.37-1.37c-.4-.4-.92-.59-1.43-.59-.52 0-1.04.2-1.43.59L10.3 9.45l-7.72 7.72c-.78.78-.78 2.05 0 2.83L4 21.41c.39.39.9.59 1.41.59.51 0 1.02-.2 1.41-.59l7.78-7.78 2.81-2.81c.8-.78.8-2.07 0-2.86zM5.41 20L4 18.59l7.72-7.72 1.47 1.35L5.41 20z\"/>\n",
              "  </svg>\n",
              "      </button>\n",
              "      \n",
              "  <style>\n",
              "    .colab-df-container {\n",
              "      display:flex;\n",
              "      flex-wrap:wrap;\n",
              "      gap: 12px;\n",
              "    }\n",
              "\n",
              "    .colab-df-convert {\n",
              "      background-color: #E8F0FE;\n",
              "      border: none;\n",
              "      border-radius: 50%;\n",
              "      cursor: pointer;\n",
              "      display: none;\n",
              "      fill: #1967D2;\n",
              "      height: 32px;\n",
              "      padding: 0 0 0 0;\n",
              "      width: 32px;\n",
              "    }\n",
              "\n",
              "    .colab-df-convert:hover {\n",
              "      background-color: #E2EBFA;\n",
              "      box-shadow: 0px 1px 2px rgba(60, 64, 67, 0.3), 0px 1px 3px 1px rgba(60, 64, 67, 0.15);\n",
              "      fill: #174EA6;\n",
              "    }\n",
              "\n",
              "    [theme=dark] .colab-df-convert {\n",
              "      background-color: #3B4455;\n",
              "      fill: #D2E3FC;\n",
              "    }\n",
              "\n",
              "    [theme=dark] .colab-df-convert:hover {\n",
              "      background-color: #434B5C;\n",
              "      box-shadow: 0px 1px 3px 1px rgba(0, 0, 0, 0.15);\n",
              "      filter: drop-shadow(0px 1px 2px rgba(0, 0, 0, 0.3));\n",
              "      fill: #FFFFFF;\n",
              "    }\n",
              "  </style>\n",
              "\n",
              "      <script>\n",
              "        const buttonEl =\n",
              "          document.querySelector('#df-9b954767-e094-4fa8-a1b0-04dd2d1489dc button.colab-df-convert');\n",
              "        buttonEl.style.display =\n",
              "          google.colab.kernel.accessAllowed ? 'block' : 'none';\n",
              "\n",
              "        async function convertToInteractive(key) {\n",
              "          const element = document.querySelector('#df-9b954767-e094-4fa8-a1b0-04dd2d1489dc');\n",
              "          const dataTable =\n",
              "            await google.colab.kernel.invokeFunction('convertToInteractive',\n",
              "                                                     [key], {});\n",
              "          if (!dataTable) return;\n",
              "\n",
              "          const docLinkHtml = 'Like what you see? Visit the ' +\n",
              "            '<a target=\"_blank\" href=https://colab.research.google.com/notebooks/data_table.ipynb>data table notebook</a>'\n",
              "            + ' to learn more about interactive tables.';\n",
              "          element.innerHTML = '';\n",
              "          dataTable['output_type'] = 'display_data';\n",
              "          await google.colab.output.renderOutput(dataTable, element);\n",
              "          const docLink = document.createElement('div');\n",
              "          docLink.innerHTML = docLinkHtml;\n",
              "          element.appendChild(docLink);\n",
              "        }\n",
              "      </script>\n",
              "    </div>\n",
              "  </div>\n",
              "  "
            ],
            "text/plain": [
              "          book_id                                        review_text  n_votes  \\\n",
              "0       182091851  I thought this was a very good historical fant...        5   \n",
              "1         1451461  I've had this book recommended to me more than...        0   \n",
              "2        13483572  Seriously! You go and throw that twist into th...        0   \n",
              "3       131585171  Gosh!!! I'm still not recovering from the effi...        5   \n",
              "4       195643271  3.5 stars rounded down. I can't help it, I jus...        0   \n",
              "...           ...                                                ...      ...   \n",
              "699995  137889043  Beauty of the Beast is a slow-burn romance tha...        0   \n",
              "699996   18920506  I absolutely hate cliffhangers! \\n Dreamfever ...        0   \n",
              "699997  144000061                                 Actual rating: 4.5        2   \n",
              "699998  163023491  ** spoiler alert ** \\n 4.0/5 \\n Predictable. \\...        0   \n",
              "699999   11759699  What a fantastic novel. I am not a gamer (the ...        1   \n",
              "\n",
              "        n_comments  rating  \n",
              "0                6       5  \n",
              "1                0       5  \n",
              "2                0       5  \n",
              "3                0       4  \n",
              "4                0       3  \n",
              "...            ...     ...  \n",
              "699995           0       4  \n",
              "699996           0       5  \n",
              "699997           0       5  \n",
              "699998           0       4  \n",
              "699999           0       5  \n",
              "\n",
              "[700000 rows x 5 columns]"
            ]
          },
          "execution_count": 86,
          "metadata": {},
          "output_type": "execute_result"
        }
      ],
      "source": [
        "train=train[['book_id','review_text','n_votes','n_comments','rating']]\n",
        "train"
      ]
    },
    {
      "cell_type": "markdown",
      "metadata": {
        "id": "7KXOj0CfyrEM"
      },
      "source": [
        "# Clean review_text\n",
        "\n",
        "I cleaned the review text and removed the noise caused by abundant punctuations, wide spaces, and invalid characters, which would otherwise have been responsible for the inefficiency in executing the algorithms I used. It's vital to get rid of unnecessary input values and classify nouns, pronouns, and verbs.\n",
        "\n",
        "I split the data into training, testing, and validation according to the best fit and kept it consistent to avoid void/inefficient results and achieve optimum efficiency."
      ]
    },
    {
      "cell_type": "code",
      "execution_count": null,
      "metadata": {
        "colab": {
          "base_uri": "https://localhost:8080/"
        },
        "id": "xNw_0_cby0rY",
        "outputId": "f5383602-de85-482e-80bb-71c4f297ec88"
      },
      "outputs": [
        {
          "name": "stdout",
          "output_type": "stream",
          "text": [
            "Looking in indexes: https://pypi.org/simple, https://us-python.pkg.dev/colab-wheels/public/simple/\n",
            "Requirement already satisfied: neattext in /usr/local/lib/python3.9/dist-packages (0.1.3)\n"
          ]
        }
      ],
      "source": [
        "!pip install neattext"
      ]
    },
    {
      "cell_type": "code",
      "execution_count": null,
      "metadata": {
        "id": "0aUYnwRdZNav"
      },
      "outputs": [],
      "source": [
        "pip install swifter"
      ]
    },
    {
      "cell_type": "code",
      "execution_count": null,
      "metadata": {
        "id": "0aS7UIcUy2q0"
      },
      "outputs": [],
      "source": [
        "import neattext as nt\n",
        "import neattext.functions as nfx"
      ]
    },
    {
      "cell_type": "code",
      "execution_count": null,
      "metadata": {
        "colab": {
          "base_uri": "https://localhost:8080/"
        },
        "id": "EAuBjDtwy4Hu",
        "outputId": "53dd35aa-99c9-4ae0-d96c-75f01ffbfab2"
      },
      "outputs": [
        {
          "data": {
            "text/plain": [
              "0         I thought this was a very good historical fant...\n",
              "1         I've had this book recommended to me more than...\n",
              "2         Seriously! You go and throw that twist into th...\n",
              "3         Gosh!!! I'm still not recovering from the effi...\n",
              "4         3.5 stars rounded down. I can't help it, I jus...\n",
              "                                ...                        \n",
              "699995    Beauty of the Beast is a slow-burn romance tha...\n",
              "699996    I absolutely hate cliffhangers! \\n Dreamfever ...\n",
              "699997                                   Actual rating: 4.5\n",
              "699998    ** spoiler alert ** \\n 4.0/5 \\n Predictable. \\...\n",
              "699999    What a fantastic novel. I am not a gamer (the ...\n",
              "Name: review_text, Length: 700000, dtype: object"
            ]
          },
          "execution_count": 90,
          "metadata": {},
          "output_type": "execute_result"
        }
      ],
      "source": [
        "train['review_text']"
      ]
    },
    {
      "cell_type": "code",
      "execution_count": null,
      "metadata": {
        "id": "aN45EQR9y6EN"
      },
      "outputs": [],
      "source": [
        "word_train=train['review_text'].str.lower()\n",
        "word_train"
      ]
    },
    {
      "cell_type": "code",
      "execution_count": null,
      "metadata": {
        "id": "C6uxTW6by7xy"
      },
      "outputs": [],
      "source": [
        "word_train_noise=word_train.apply(lambda x: nt.TextFrame(x).noise_scan()['text_noise'])# Noise Scan\n",
        "word_train_noise"
      ]
    },
    {
      "cell_type": "code",
      "execution_count": null,
      "metadata": {
        "id": "KO0cMfrR2ytE"
      },
      "outputs": [],
      "source": [
        "del word_train_noise"
      ]
    },
    {
      "cell_type": "code",
      "execution_count": null,
      "metadata": {
        "id": "YcEhI6efy-v7"
      },
      "outputs": [],
      "source": [
        "train['review_text_clean']=word_train.apply(lambda x:nfx.remove_custom_pattern(x,term_pattern=r'$&\\+'))#removing urls\n",
        "train['review_text_clean']"
      ]
    },
    {
      "cell_type": "code",
      "execution_count": null,
      "metadata": {
        "id": "hVl-Vo17zAWW"
      },
      "outputs": [],
      "source": [
        "train['review_text_clean']=train['review_text_clean'].apply(lambda x:nfx.remove_custom_pattern(x,term_pattern=r'\\n'))#removing new line characters\n",
        "train['review_text_clean']"
      ]
    },
    {
      "cell_type": "code",
      "execution_count": null,
      "metadata": {
        "id": "aRcMsZ_KzBxf"
      },
      "outputs": [],
      "source": [
        "train['review_text_clean']=train['review_text_clean'].apply(nfx.remove_special_characters)#removing special charachters\n",
        "train['review_text_clean']"
      ]
    },
    {
      "cell_type": "code",
      "execution_count": null,
      "metadata": {
        "id": "xnOfwx9jzDIV"
      },
      "outputs": [],
      "source": [
        "train['review_text_clean']=train['review_text_clean'].apply(nfx.remove_multiple_spaces)#removing multiple spaces\n",
        "train['review_text_clean']"
      ]
    },
    {
      "cell_type": "code",
      "execution_count": null,
      "metadata": {
        "colab": {
          "base_uri": "https://localhost:8080/"
        },
        "id": "TrZOpX-NzEf-",
        "outputId": "269d3a37-09c0-4d6f-a44c-8760fe94cc1a"
      },
      "outputs": [
        {
          "data": {
            "text/plain": [
              "0         thought good historical fantasy set new york c...\n",
              "1         ive book recommended decided shot turns pretty...\n",
              "2         seriously throw twist story kills love series ...\n",
              "3         gosh im recovering effing cliffhanger book way...\n",
              "4         35 stars rounded cant help dont connect theo p...\n",
              "                                ...                        \n",
              "699995    beauty beast slowburn romance features descrip...\n",
              "699996    absolutely hate cliffhangers dreamfever sucked...\n",
              "699997                                     actual rating 45\n",
              "699998    spoiler alert 405 predictable im sorry kind tr...\n",
              "699999    fantastic novel gamer game ive actually played...\n",
              "Name: review_text_clean, Length: 700000, dtype: object"
            ]
          },
          "execution_count": 98,
          "metadata": {},
          "output_type": "execute_result"
        }
      ],
      "source": [
        "train['review_text_clean']=train['review_text_clean'].apply(nfx.remove_stopwords)#removing stopwords\n",
        "train['review_text_clean']"
      ]
    },
    {
      "cell_type": "code",
      "execution_count": null,
      "metadata": {
        "colab": {
          "base_uri": "https://localhost:8080/"
        },
        "id": "uFLy4-_9zF7T",
        "outputId": "01473c6b-cbbf-496e-b316-f1c1ece45ef9"
      },
      "outputs": [
        {
          "data": {
            "text/plain": [
              "0         0\n",
              "1         0\n",
              "2         0\n",
              "3         0\n",
              "4         0\n",
              "         ..\n",
              "699995    0\n",
              "699996    0\n",
              "699997    0\n",
              "699998    0\n",
              "699999    0\n",
              "Name: review_text_clean, Length: 700000, dtype: int64"
            ]
          },
          "execution_count": 99,
          "metadata": {},
          "output_type": "execute_result"
        }
      ],
      "source": [
        "Double_check_noise=train['review_text_clean'].apply(lambda x: nt.TextFrame(x).noise_scan()['text_noise'])#Double check noise\n",
        "Double_check_noise"
      ]
    },
    {
      "cell_type": "code",
      "execution_count": null,
      "metadata": {
        "id": "fQiLCC6dOs0W"
      },
      "outputs": [],
      "source": [
        "del Double_check_noise"
      ]
    },
    {
      "cell_type": "code",
      "execution_count": null,
      "metadata": {
        "colab": {
          "base_uri": "https://localhost:8080/"
        },
        "id": "w8fpxl7XzMkC",
        "outputId": "c775cf24-8882-42a9-ff62-5a79e53cea24"
      },
      "outputs": [
        {
          "name": "stdout",
          "output_type": "stream",
          "text": [
            "Duplicates removed: 12565\n"
          ]
        }
      ],
      "source": [
        "idx_duplicated = train.loc[train.review_text_clean.duplicated()].index\n",
        "print(f'Duplicates removed: {len(idx_duplicated)}')\n",
        "train.drop(index = idx_duplicated, inplace = True)\n",
        "del idx_duplicated"
      ]
    },
    {
      "cell_type": "code",
      "execution_count": null,
      "metadata": {
        "colab": {
          "base_uri": "https://localhost:8080/"
        },
        "id": "ZDdwqtTCzOKv",
        "outputId": "aa42de5a-91ce-414a-8d6e-6e82d618af9a"
      },
      "outputs": [
        {
          "name": "stdout",
          "output_type": "stream",
          "text": [
            "Self-referencing reviews removed: 125568\n"
          ]
        }
      ],
      "source": [
        "idx_selfref = [(idx) for idx, row in train.iterrows() if ('review' in row.review_text_clean)]\n",
        "print(f'Self-referencing reviews removed: {len(idx_selfref)}')\n",
        "train.drop(index = idx_selfref, inplace = True)\n",
        "del idx_selfref"
      ]
    },
    {
      "cell_type": "code",
      "execution_count": null,
      "metadata": {
        "id": "QLbKzaeyzPqP"
      },
      "outputs": [],
      "source": [
        "#Checking avg and max length of reviews"
      ]
    },
    {
      "cell_type": "code",
      "execution_count": null,
      "metadata": {
        "id": "b6DLLtlozROX"
      },
      "outputs": [],
      "source": [
        "review_length = train.review_text_clean.transform(len)"
      ]
    },
    {
      "cell_type": "code",
      "execution_count": null,
      "metadata": {
        "colab": {
          "base_uri": "https://localhost:8080/"
        },
        "id": "YIu5H_FbzSsj",
        "outputId": "111d3c23-474e-4ef5-ea4e-618631dcfc7a"
      },
      "outputs": [
        {
          "data": {
            "text/plain": [
              "0"
            ]
          },
          "execution_count": 105,
          "metadata": {},
          "output_type": "execute_result"
        }
      ],
      "source": [
        "min_revlen = review_length.min()\n",
        "min_revlen"
      ]
    },
    {
      "cell_type": "code",
      "execution_count": null,
      "metadata": {
        "id": "PeCof3JM-yRV"
      },
      "outputs": [],
      "source": [
        "del min_revlen"
      ]
    },
    {
      "cell_type": "code",
      "execution_count": null,
      "metadata": {
        "colab": {
          "base_uri": "https://localhost:8080/"
        },
        "id": "3SwtXJZOzUfp",
        "outputId": "bb64187b-d804-478b-c959-a790d903a262"
      },
      "outputs": [
        {
          "data": {
            "text/plain": [
              "472.9166955881018"
            ]
          },
          "execution_count": 107,
          "metadata": {},
          "output_type": "execute_result"
        }
      ],
      "source": [
        "mean_revlen = review_length.mean()\n",
        "mean_revlen"
      ]
    },
    {
      "cell_type": "code",
      "execution_count": null,
      "metadata": {
        "id": "vhugdVfT-1mR"
      },
      "outputs": [],
      "source": [
        "del mean_revlen"
      ]
    },
    {
      "cell_type": "code",
      "execution_count": null,
      "metadata": {
        "colab": {
          "base_uri": "https://localhost:8080/"
        },
        "id": "-WxoOk0jzVsB",
        "outputId": "202800d3-0bef-4869-eb16-21fb529ada41"
      },
      "outputs": [
        {
          "data": {
            "text/plain": [
              "275.0"
            ]
          },
          "execution_count": 109,
          "metadata": {},
          "output_type": "execute_result"
        }
      ],
      "source": [
        "median_revlen = review_length.median()\n",
        "median_revlen"
      ]
    },
    {
      "cell_type": "code",
      "execution_count": null,
      "metadata": {
        "id": "MDwMuydi-8tG"
      },
      "outputs": [],
      "source": [
        "del median_revlen"
      ]
    },
    {
      "cell_type": "code",
      "execution_count": null,
      "metadata": {
        "colab": {
          "base_uri": "https://localhost:8080/"
        },
        "id": "WgTZmRvbzW0Z",
        "outputId": "25a999c2-afd7-4140-d7c4-a5401e0b4b8c"
      },
      "outputs": [
        {
          "data": {
            "text/plain": [
              "10595"
            ]
          },
          "execution_count": 111,
          "metadata": {},
          "output_type": "execute_result"
        }
      ],
      "source": [
        "max_revlen = review_length.max()\n",
        "max_revlen"
      ]
    },
    {
      "cell_type": "code",
      "execution_count": null,
      "metadata": {
        "id": "-UuTK2S2_BHM"
      },
      "outputs": [],
      "source": [
        "del max_revlen"
      ]
    },
    {
      "cell_type": "code",
      "execution_count": null,
      "metadata": {
        "id": "R6cWI5mszX2O"
      },
      "outputs": [],
      "source": [
        "#Dropping too short and too long reviews At least they should be contained between the median and 90th percentile"
      ]
    },
    {
      "cell_type": "code",
      "execution_count": null,
      "metadata": {
        "colab": {
          "base_uri": "https://localhost:8080/"
        },
        "id": "mftTDPWTzZo_",
        "outputId": "2d970ff1-1437-4d0d-9811-8182881785db"
      },
      "outputs": [
        {
          "data": {
            "text/plain": [
              "275.0"
            ]
          },
          "execution_count": 113,
          "metadata": {},
          "output_type": "execute_result"
        }
      ],
      "source": [
        "fiftieth_percentile = review_length.quantile(0.50)\n",
        "fiftieth_percentile"
      ]
    },
    {
      "cell_type": "code",
      "execution_count": null,
      "metadata": {
        "colab": {
          "base_uri": "https://localhost:8080/"
        },
        "id": "A-WWLWzqzbIi",
        "outputId": "2ff433da-cfdf-4eb0-db2c-01afc3ea77bc"
      },
      "outputs": [
        {
          "data": {
            "text/plain": [
              "1167.0"
            ]
          },
          "execution_count": 114,
          "metadata": {},
          "output_type": "execute_result"
        }
      ],
      "source": [
        "ninetieth_percentile = review_length.quantile(0.90)\n",
        "ninetieth_percentile"
      ]
    },
    {
      "cell_type": "code",
      "execution_count": null,
      "metadata": {
        "id": "HUbCMxtrzcQF"
      },
      "outputs": [],
      "source": [
        "greater_than_fiftieth = review_length.values > fiftieth_percentile\n",
        "lower_than_last = review_length.values < ninetieth_percentile"
      ]
    },
    {
      "cell_type": "code",
      "execution_count": null,
      "metadata": {
        "id": "jAnL0dCfzdx2"
      },
      "outputs": [],
      "source": [
        "indices = [train.index[x] for x in np.where(greater_than_fiftieth & lower_than_last)[0]]"
      ]
    },
    {
      "cell_type": "code",
      "execution_count": null,
      "metadata": {
        "colab": {
          "base_uri": "https://localhost:8080/"
        },
        "id": "WQ8o3xigzfR3",
        "outputId": "5555a5b1-feaf-4c22-aa12-ba8a0ddcbe51"
      },
      "outputs": [
        {
          "name": "stdout",
          "output_type": "stream",
          "text": [
            "New Dataset Length: 224278\n"
          ]
        }
      ],
      "source": [
        "train = train.loc[indices]\n",
        "train_len = len(train)\n",
        "print(f'New Dataset Length: {train_len}')"
      ]
    },
    {
      "cell_type": "code",
      "execution_count": null,
      "metadata": {
        "colab": {
          "base_uri": "https://localhost:8080/"
        },
        "id": "WDvCMLCbzgdT",
        "outputId": "04b7d994-5d33-4670-b5f5-343364f34d69"
      },
      "outputs": [
        {
          "data": {
            "text/plain": [
              "0         thought good historical fantasy set new york c...\n",
              "4         35 stars rounded cant help dont connect theo p...\n",
              "5         read wasp factory scottish literature class ye...\n",
              "7         unexpected read venture world contemporary rom...\n",
              "8         dnf 49 dont know expecting bookmaybe dealing s...\n",
              "                                ...                        \n",
              "699986    good book hmm slightly picked deliciously chee...\n",
              "699992    interesting look alternate timeline superman l...\n",
              "699993    series interesting classic alice wonderland st...\n",
              "699998    spoiler alert 405 predictable im sorry kind tr...\n",
              "699999    fantastic novel gamer game ive actually played...\n",
              "Name: review_text_clean, Length: 224278, dtype: object"
            ]
          },
          "execution_count": 118,
          "metadata": {},
          "output_type": "execute_result"
        }
      ],
      "source": [
        "train[\"review_text_clean\"]"
      ]
    },
    {
      "cell_type": "code",
      "execution_count": null,
      "metadata": {
        "id": "_ayQT7g3zhfb"
      },
      "outputs": [],
      "source": [
        "rev_train = train[[\"review_text_clean\", \"rating\", \"book_id\",\"n_votes\",\"n_comments\"]]\n",
        "del train"
      ]
    },
    {
      "cell_type": "code",
      "execution_count": null,
      "metadata": {
        "colab": {
          "base_uri": "https://localhost:8080/",
          "height": 206
        },
        "id": "Bhxxs5LMziwG",
        "outputId": "7a9136aa-d9f3-4bc0-db57-9a97e1115510"
      },
      "outputs": [
        {
          "data": {
            "text/html": [
              "\n",
              "  <div id=\"df-d6b2fce9-a18a-4d79-a0a7-25b034e9085d\">\n",
              "    <div class=\"colab-df-container\">\n",
              "      <div>\n",
              "<style scoped>\n",
              "    .dataframe tbody tr th:only-of-type {\n",
              "        vertical-align: middle;\n",
              "    }\n",
              "\n",
              "    .dataframe tbody tr th {\n",
              "        vertical-align: top;\n",
              "    }\n",
              "\n",
              "    .dataframe thead th {\n",
              "        text-align: right;\n",
              "    }\n",
              "</style>\n",
              "<table border=\"1\" class=\"dataframe\">\n",
              "  <thead>\n",
              "    <tr style=\"text-align: right;\">\n",
              "      <th></th>\n",
              "      <th>review_text_clean</th>\n",
              "      <th>rating</th>\n",
              "      <th>book_id</th>\n",
              "      <th>n_votes</th>\n",
              "      <th>n_comments</th>\n",
              "    </tr>\n",
              "  </thead>\n",
              "  <tbody>\n",
              "    <tr>\n",
              "      <th>0</th>\n",
              "      <td>thought good historical fantasy set new york c...</td>\n",
              "      <td>5</td>\n",
              "      <td>182091851</td>\n",
              "      <td>5</td>\n",
              "      <td>6</td>\n",
              "    </tr>\n",
              "    <tr>\n",
              "      <th>4</th>\n",
              "      <td>35 stars rounded cant help dont connect theo p...</td>\n",
              "      <td>3</td>\n",
              "      <td>195643271</td>\n",
              "      <td>0</td>\n",
              "      <td>0</td>\n",
              "    </tr>\n",
              "    <tr>\n",
              "      <th>5</th>\n",
              "      <td>read wasp factory scottish literature class ye...</td>\n",
              "      <td>2</td>\n",
              "      <td>1876765</td>\n",
              "      <td>0</td>\n",
              "      <td>0</td>\n",
              "    </tr>\n",
              "    <tr>\n",
              "      <th>7</th>\n",
              "      <td>unexpected read venture world contemporary rom...</td>\n",
              "      <td>5</td>\n",
              "      <td>100833271</td>\n",
              "      <td>0</td>\n",
              "      <td>0</td>\n",
              "    </tr>\n",
              "    <tr>\n",
              "      <th>8</th>\n",
              "      <td>dnf 49 dont know expecting bookmaybe dealing s...</td>\n",
              "      <td>1</td>\n",
              "      <td>133218621</td>\n",
              "      <td>0</td>\n",
              "      <td>0</td>\n",
              "    </tr>\n",
              "  </tbody>\n",
              "</table>\n",
              "</div>\n",
              "      <button class=\"colab-df-convert\" onclick=\"convertToInteractive('df-d6b2fce9-a18a-4d79-a0a7-25b034e9085d')\"\n",
              "              title=\"Convert this dataframe to an interactive table.\"\n",
              "              style=\"display:none;\">\n",
              "        \n",
              "  <svg xmlns=\"http://www.w3.org/2000/svg\" height=\"24px\"viewBox=\"0 0 24 24\"\n",
              "       width=\"24px\">\n",
              "    <path d=\"M0 0h24v24H0V0z\" fill=\"none\"/>\n",
              "    <path d=\"M18.56 5.44l.94 2.06.94-2.06 2.06-.94-2.06-.94-.94-2.06-.94 2.06-2.06.94zm-11 1L8.5 8.5l.94-2.06 2.06-.94-2.06-.94L8.5 2.5l-.94 2.06-2.06.94zm10 10l.94 2.06.94-2.06 2.06-.94-2.06-.94-.94-2.06-.94 2.06-2.06.94z\"/><path d=\"M17.41 7.96l-1.37-1.37c-.4-.4-.92-.59-1.43-.59-.52 0-1.04.2-1.43.59L10.3 9.45l-7.72 7.72c-.78.78-.78 2.05 0 2.83L4 21.41c.39.39.9.59 1.41.59.51 0 1.02-.2 1.41-.59l7.78-7.78 2.81-2.81c.8-.78.8-2.07 0-2.86zM5.41 20L4 18.59l7.72-7.72 1.47 1.35L5.41 20z\"/>\n",
              "  </svg>\n",
              "      </button>\n",
              "      \n",
              "  <style>\n",
              "    .colab-df-container {\n",
              "      display:flex;\n",
              "      flex-wrap:wrap;\n",
              "      gap: 12px;\n",
              "    }\n",
              "\n",
              "    .colab-df-convert {\n",
              "      background-color: #E8F0FE;\n",
              "      border: none;\n",
              "      border-radius: 50%;\n",
              "      cursor: pointer;\n",
              "      display: none;\n",
              "      fill: #1967D2;\n",
              "      height: 32px;\n",
              "      padding: 0 0 0 0;\n",
              "      width: 32px;\n",
              "    }\n",
              "\n",
              "    .colab-df-convert:hover {\n",
              "      background-color: #E2EBFA;\n",
              "      box-shadow: 0px 1px 2px rgba(60, 64, 67, 0.3), 0px 1px 3px 1px rgba(60, 64, 67, 0.15);\n",
              "      fill: #174EA6;\n",
              "    }\n",
              "\n",
              "    [theme=dark] .colab-df-convert {\n",
              "      background-color: #3B4455;\n",
              "      fill: #D2E3FC;\n",
              "    }\n",
              "\n",
              "    [theme=dark] .colab-df-convert:hover {\n",
              "      background-color: #434B5C;\n",
              "      box-shadow: 0px 1px 3px 1px rgba(0, 0, 0, 0.15);\n",
              "      filter: drop-shadow(0px 1px 2px rgba(0, 0, 0, 0.3));\n",
              "      fill: #FFFFFF;\n",
              "    }\n",
              "  </style>\n",
              "\n",
              "      <script>\n",
              "        const buttonEl =\n",
              "          document.querySelector('#df-d6b2fce9-a18a-4d79-a0a7-25b034e9085d button.colab-df-convert');\n",
              "        buttonEl.style.display =\n",
              "          google.colab.kernel.accessAllowed ? 'block' : 'none';\n",
              "\n",
              "        async function convertToInteractive(key) {\n",
              "          const element = document.querySelector('#df-d6b2fce9-a18a-4d79-a0a7-25b034e9085d');\n",
              "          const dataTable =\n",
              "            await google.colab.kernel.invokeFunction('convertToInteractive',\n",
              "                                                     [key], {});\n",
              "          if (!dataTable) return;\n",
              "\n",
              "          const docLinkHtml = 'Like what you see? Visit the ' +\n",
              "            '<a target=\"_blank\" href=https://colab.research.google.com/notebooks/data_table.ipynb>data table notebook</a>'\n",
              "            + ' to learn more about interactive tables.';\n",
              "          element.innerHTML = '';\n",
              "          dataTable['output_type'] = 'display_data';\n",
              "          await google.colab.output.renderOutput(dataTable, element);\n",
              "          const docLink = document.createElement('div');\n",
              "          docLink.innerHTML = docLinkHtml;\n",
              "          element.appendChild(docLink);\n",
              "        }\n",
              "      </script>\n",
              "    </div>\n",
              "  </div>\n",
              "  "
            ],
            "text/plain": [
              "                                   review_text_clean  rating    book_id  \\\n",
              "0  thought good historical fantasy set new york c...       5  182091851   \n",
              "4  35 stars rounded cant help dont connect theo p...       3  195643271   \n",
              "5  read wasp factory scottish literature class ye...       2    1876765   \n",
              "7  unexpected read venture world contemporary rom...       5  100833271   \n",
              "8  dnf 49 dont know expecting bookmaybe dealing s...       1  133218621   \n",
              "\n",
              "   n_votes  n_comments  \n",
              "0        5           6  \n",
              "4        0           0  \n",
              "5        0           0  \n",
              "7        0           0  \n",
              "8        0           0  "
            ]
          },
          "execution_count": 120,
          "metadata": {},
          "output_type": "execute_result"
        }
      ],
      "source": [
        "rev_train.head()"
      ]
    },
    {
      "cell_type": "code",
      "execution_count": null,
      "metadata": {
        "colab": {
          "base_uri": "https://localhost:8080/"
        },
        "id": "ixkZnxxKzj4_",
        "outputId": "2f637195-0976-42d8-b47a-242572a58db2"
      },
      "outputs": [
        {
          "data": {
            "text/plain": [
              "224278"
            ]
          },
          "execution_count": 121,
          "metadata": {},
          "output_type": "execute_result"
        }
      ],
      "source": [
        "len(rev_train)"
      ]
    },
    {
      "cell_type": "code",
      "execution_count": null,
      "metadata": {
        "id": "43XbsnVfzlFf"
      },
      "outputs": [],
      "source": [
        "###Tokeninzing the Text"
      ]
    },
    {
      "cell_type": "code",
      "execution_count": null,
      "metadata": {
        "id": "iidkoDBNYsTw"
      },
      "outputs": [],
      "source": [
        "%%capture\n",
        "pip install --user -U nltk"
      ]
    },
    {
      "cell_type": "code",
      "execution_count": null,
      "metadata": {
        "id": "Eo2hF8I0hbcU"
      },
      "outputs": [],
      "source": [
        "%%capture\n",
        "!pip install swifter"
      ]
    },
    {
      "cell_type": "code",
      "execution_count": null,
      "metadata": {
        "colab": {
          "base_uri": "https://localhost:8080/"
        },
        "id": "A9_A4tRnznuV",
        "outputId": "ee4eed1f-4fb9-4691-9760-f152bd620143"
      },
      "outputs": [
        {
          "name": "stderr",
          "output_type": "stream",
          "text": [
            "[nltk_data] Downloading package punkt to /root/nltk_data...\n",
            "[nltk_data]   Unzipping tokenizers/punkt.zip.\n"
          ]
        }
      ],
      "source": [
        "import swifter\n",
        "import nltk\n",
        "nltk.download('punkt')\n",
        "from nltk import word_tokenize"
      ]
    },
    {
      "cell_type": "code",
      "execution_count": null,
      "metadata": {
        "colab": {
          "base_uri": "https://localhost:8080/",
          "height": 282,
          "referenced_widgets": [
            "2db1ccf51fa24b85b265281598dcd0f0",
            "787e15bf9620478ca43410a501d09b5c",
            "18eea12738e64dd9beaf0f7ba5aae240",
            "9c69310ab97149149380aa7907d078ff",
            "fd8df7e64eed4853a74e1a528eecfd97",
            "26ed9e79462342af80a0b880bf7ac9fc",
            "f04e055e05f14cb984a9bd97c5261ae6",
            "a6b5bb7711d74cea935b80c35897b194",
            "d847fa011d984b668a8b2ded25422a22",
            "59197cb2752642feb475f7faa92f6120",
            "074966743b6c4434ace0ef4e8ebae020"
          ]
        },
        "id": "SOPelQ4Wzo8-",
        "outputId": "72937da0-6d44-4021-dd75-c955a1643dff"
      },
      "outputs": [
        {
          "data": {
            "application/vnd.jupyter.widget-view+json": {
              "model_id": "2db1ccf51fa24b85b265281598dcd0f0",
              "version_major": 2,
              "version_minor": 0
            },
            "text/plain": [
              "Pandas Apply:   0%|          | 0/224278 [00:00<?, ?it/s]"
            ]
          },
          "metadata": {},
          "output_type": "display_data"
        },
        {
          "data": {
            "text/html": [
              "\n",
              "  <div id=\"df-247ad58b-b475-4f77-82dd-99ca023d3a78\">\n",
              "    <div class=\"colab-df-container\">\n",
              "      <div>\n",
              "<style scoped>\n",
              "    .dataframe tbody tr th:only-of-type {\n",
              "        vertical-align: middle;\n",
              "    }\n",
              "\n",
              "    .dataframe tbody tr th {\n",
              "        vertical-align: top;\n",
              "    }\n",
              "\n",
              "    .dataframe thead th {\n",
              "        text-align: right;\n",
              "    }\n",
              "</style>\n",
              "<table border=\"1\" class=\"dataframe\">\n",
              "  <thead>\n",
              "    <tr style=\"text-align: right;\">\n",
              "      <th></th>\n",
              "      <th>review_text_clean</th>\n",
              "      <th>rating</th>\n",
              "      <th>book_id</th>\n",
              "      <th>n_votes</th>\n",
              "      <th>n_comments</th>\n",
              "      <th>tokenized_text</th>\n",
              "    </tr>\n",
              "  </thead>\n",
              "  <tbody>\n",
              "    <tr>\n",
              "      <th>0</th>\n",
              "      <td>thought good historical fantasy set new york c...</td>\n",
              "      <td>5</td>\n",
              "      <td>182091851</td>\n",
              "      <td>5</td>\n",
              "      <td>6</td>\n",
              "      <td>[thought, good, historical, fantasy, set, new,...</td>\n",
              "    </tr>\n",
              "    <tr>\n",
              "      <th>4</th>\n",
              "      <td>35 stars rounded cant help dont connect theo p...</td>\n",
              "      <td>3</td>\n",
              "      <td>195643271</td>\n",
              "      <td>0</td>\n",
              "      <td>0</td>\n",
              "      <td>[35, stars, rounded, cant, help, dont, connect...</td>\n",
              "    </tr>\n",
              "    <tr>\n",
              "      <th>5</th>\n",
              "      <td>read wasp factory scottish literature class ye...</td>\n",
              "      <td>2</td>\n",
              "      <td>1876765</td>\n",
              "      <td>0</td>\n",
              "      <td>0</td>\n",
              "      <td>[read, wasp, factory, scottish, literature, cl...</td>\n",
              "    </tr>\n",
              "    <tr>\n",
              "      <th>7</th>\n",
              "      <td>unexpected read venture world contemporary rom...</td>\n",
              "      <td>5</td>\n",
              "      <td>100833271</td>\n",
              "      <td>0</td>\n",
              "      <td>0</td>\n",
              "      <td>[unexpected, read, venture, world, contemporar...</td>\n",
              "    </tr>\n",
              "    <tr>\n",
              "      <th>8</th>\n",
              "      <td>dnf 49 dont know expecting bookmaybe dealing s...</td>\n",
              "      <td>1</td>\n",
              "      <td>133218621</td>\n",
              "      <td>0</td>\n",
              "      <td>0</td>\n",
              "      <td>[dnf, 49, dont, know, expecting, bookmaybe, de...</td>\n",
              "    </tr>\n",
              "  </tbody>\n",
              "</table>\n",
              "</div>\n",
              "      <button class=\"colab-df-convert\" onclick=\"convertToInteractive('df-247ad58b-b475-4f77-82dd-99ca023d3a78')\"\n",
              "              title=\"Convert this dataframe to an interactive table.\"\n",
              "              style=\"display:none;\">\n",
              "        \n",
              "  <svg xmlns=\"http://www.w3.org/2000/svg\" height=\"24px\"viewBox=\"0 0 24 24\"\n",
              "       width=\"24px\">\n",
              "    <path d=\"M0 0h24v24H0V0z\" fill=\"none\"/>\n",
              "    <path d=\"M18.56 5.44l.94 2.06.94-2.06 2.06-.94-2.06-.94-.94-2.06-.94 2.06-2.06.94zm-11 1L8.5 8.5l.94-2.06 2.06-.94-2.06-.94L8.5 2.5l-.94 2.06-2.06.94zm10 10l.94 2.06.94-2.06 2.06-.94-2.06-.94-.94-2.06-.94 2.06-2.06.94z\"/><path d=\"M17.41 7.96l-1.37-1.37c-.4-.4-.92-.59-1.43-.59-.52 0-1.04.2-1.43.59L10.3 9.45l-7.72 7.72c-.78.78-.78 2.05 0 2.83L4 21.41c.39.39.9.59 1.41.59.51 0 1.02-.2 1.41-.59l7.78-7.78 2.81-2.81c.8-.78.8-2.07 0-2.86zM5.41 20L4 18.59l7.72-7.72 1.47 1.35L5.41 20z\"/>\n",
              "  </svg>\n",
              "      </button>\n",
              "      \n",
              "  <style>\n",
              "    .colab-df-container {\n",
              "      display:flex;\n",
              "      flex-wrap:wrap;\n",
              "      gap: 12px;\n",
              "    }\n",
              "\n",
              "    .colab-df-convert {\n",
              "      background-color: #E8F0FE;\n",
              "      border: none;\n",
              "      border-radius: 50%;\n",
              "      cursor: pointer;\n",
              "      display: none;\n",
              "      fill: #1967D2;\n",
              "      height: 32px;\n",
              "      padding: 0 0 0 0;\n",
              "      width: 32px;\n",
              "    }\n",
              "\n",
              "    .colab-df-convert:hover {\n",
              "      background-color: #E2EBFA;\n",
              "      box-shadow: 0px 1px 2px rgba(60, 64, 67, 0.3), 0px 1px 3px 1px rgba(60, 64, 67, 0.15);\n",
              "      fill: #174EA6;\n",
              "    }\n",
              "\n",
              "    [theme=dark] .colab-df-convert {\n",
              "      background-color: #3B4455;\n",
              "      fill: #D2E3FC;\n",
              "    }\n",
              "\n",
              "    [theme=dark] .colab-df-convert:hover {\n",
              "      background-color: #434B5C;\n",
              "      box-shadow: 0px 1px 3px 1px rgba(0, 0, 0, 0.15);\n",
              "      filter: drop-shadow(0px 1px 2px rgba(0, 0, 0, 0.3));\n",
              "      fill: #FFFFFF;\n",
              "    }\n",
              "  </style>\n",
              "\n",
              "      <script>\n",
              "        const buttonEl =\n",
              "          document.querySelector('#df-247ad58b-b475-4f77-82dd-99ca023d3a78 button.colab-df-convert');\n",
              "        buttonEl.style.display =\n",
              "          google.colab.kernel.accessAllowed ? 'block' : 'none';\n",
              "\n",
              "        async function convertToInteractive(key) {\n",
              "          const element = document.querySelector('#df-247ad58b-b475-4f77-82dd-99ca023d3a78');\n",
              "          const dataTable =\n",
              "            await google.colab.kernel.invokeFunction('convertToInteractive',\n",
              "                                                     [key], {});\n",
              "          if (!dataTable) return;\n",
              "\n",
              "          const docLinkHtml = 'Like what you see? Visit the ' +\n",
              "            '<a target=\"_blank\" href=https://colab.research.google.com/notebooks/data_table.ipynb>data table notebook</a>'\n",
              "            + ' to learn more about interactive tables.';\n",
              "          element.innerHTML = '';\n",
              "          dataTable['output_type'] = 'display_data';\n",
              "          await google.colab.output.renderOutput(dataTable, element);\n",
              "          const docLink = document.createElement('div');\n",
              "          docLink.innerHTML = docLinkHtml;\n",
              "          element.appendChild(docLink);\n",
              "        }\n",
              "      </script>\n",
              "    </div>\n",
              "  </div>\n",
              "  "
            ],
            "text/plain": [
              "                                   review_text_clean  rating    book_id  \\\n",
              "0  thought good historical fantasy set new york c...       5  182091851   \n",
              "4  35 stars rounded cant help dont connect theo p...       3  195643271   \n",
              "5  read wasp factory scottish literature class ye...       2    1876765   \n",
              "7  unexpected read venture world contemporary rom...       5  100833271   \n",
              "8  dnf 49 dont know expecting bookmaybe dealing s...       1  133218621   \n",
              "\n",
              "   n_votes  n_comments                                     tokenized_text  \n",
              "0        5           6  [thought, good, historical, fantasy, set, new,...  \n",
              "4        0           0  [35, stars, rounded, cant, help, dont, connect...  \n",
              "5        0           0  [read, wasp, factory, scottish, literature, cl...  \n",
              "7        0           0  [unexpected, read, venture, world, contemporar...  \n",
              "8        0           0  [dnf, 49, dont, know, expecting, bookmaybe, de...  "
            ]
          },
          "execution_count": 125,
          "metadata": {},
          "output_type": "execute_result"
        }
      ],
      "source": [
        "rev_train[\"tokenized_text\"] = rev_train.review_text_clean.swifter.apply(lambda x: word_tokenize(x))\n",
        "rev_train.head()"
      ]
    },
    {
      "cell_type": "code",
      "execution_count": null,
      "metadata": {
        "id": "qdbKbPNrzqNj"
      },
      "outputs": [],
      "source": [
        "##POS tagging The Part Of Speech tag. Valid options are \"n\" for nouns, \"v\" for verbs, \"a\" for adjectives, \"r\" for adverbs and \"s\" for satellite adjectives."
      ]
    },
    {
      "cell_type": "code",
      "execution_count": null,
      "metadata": {
        "colab": {
          "base_uri": "https://localhost:8080/"
        },
        "id": "-rNxY13hzsWR",
        "outputId": "103b0ca6-59ba-48c6-d858-24d8e6593d31"
      },
      "outputs": [
        {
          "name": "stderr",
          "output_type": "stream",
          "text": [
            "[nltk_data] Downloading package averaged_perceptron_tagger to\n",
            "[nltk_data]     /root/nltk_data...\n",
            "[nltk_data]   Unzipping taggers/averaged_perceptron_tagger.zip.\n"
          ]
        },
        {
          "data": {
            "text/plain": [
              "True"
            ]
          },
          "execution_count": 126,
          "metadata": {},
          "output_type": "execute_result"
        }
      ],
      "source": [
        "nltk.download('averaged_perceptron_tagger')"
      ]
    },
    {
      "cell_type": "code",
      "execution_count": null,
      "metadata": {
        "colab": {
          "base_uri": "https://localhost:8080/"
        },
        "id": "KJZD0LUrztqi",
        "outputId": "4a6574ef-8442-4d5b-e87e-4029ff6a6f16"
      },
      "outputs": [
        {
          "name": "stderr",
          "output_type": "stream",
          "text": [
            "[nltk_data] Downloading package wordnet to /root/nltk_data...\n",
            "[nltk_data] Downloading package omw-1.4 to /root/nltk_data...\n"
          ]
        },
        {
          "data": {
            "text/plain": [
              "True"
            ]
          },
          "execution_count": 127,
          "metadata": {},
          "output_type": "execute_result"
        }
      ],
      "source": [
        "from nltk.corpus import wordnet\n",
        "import nltk\n",
        "nltk.download('wordnet')\n",
        "nltk.download('omw-1.4')"
      ]
    },
    {
      "cell_type": "code",
      "execution_count": null,
      "metadata": {
        "id": "QdF8xFVqzu6N"
      },
      "outputs": [],
      "source": [
        "def get_wordnet_pos(treebank_tag):\n",
        "\n",
        "    if treebank_tag.startswith('J'):\n",
        "        return wordnet.ADJ\n",
        "    elif treebank_tag.startswith('V'):\n",
        "        return wordnet.VERB\n",
        "    elif treebank_tag.startswith('N'):\n",
        "        return wordnet.NOUN\n",
        "    elif treebank_tag.startswith('R'):\n",
        "        return wordnet.ADV\n",
        "    else:\n",
        "        return None"
      ]
    },
    {
      "cell_type": "code",
      "execution_count": null,
      "metadata": {
        "colab": {
          "base_uri": "https://localhost:8080/",
          "height": 49,
          "referenced_widgets": [
            "4e7283a6c1614bd9a1b4ecdf5be2b21e",
            "4132ecc3e7734b8f92b3a32c3366c512",
            "0ab91c4d1c5d42a18be82fd8631f52fa",
            "5874f5bd5ef34b05a580399eed64730c",
            "5d824562190a4e0badadd53f02ed463b",
            "b92e78bd686e4533aed5f55974ae414f",
            "de345f63e4e94a928c01a3b33b6b4996",
            "1bfd68a88ee8444fa379731b17a341e8",
            "0c53f98d4bfc42afa9c03ec03d8ac570",
            "66f512c978f949eca17f46a5a60ce7bb",
            "31c27114a031462ab6d67dafce677a0f"
          ]
        },
        "id": "uL-hqhTMzwhR",
        "outputId": "ff1033de-b14c-49e8-e12b-ac1eabc12445"
      },
      "outputs": [
        {
          "data": {
            "application/vnd.jupyter.widget-view+json": {
              "model_id": "4e7283a6c1614bd9a1b4ecdf5be2b21e",
              "version_major": 2,
              "version_minor": 0
            },
            "text/plain": [
              "Pandas Apply:   0%|          | 0/224278 [00:00<?, ?it/s]"
            ]
          },
          "metadata": {},
          "output_type": "display_data"
        }
      ],
      "source": [
        "rev_train[\"postagged_text\"] = rev_train.tokenized_text.swifter.apply(lambda x: nltk.pos_tag(x))"
      ]
    },
    {
      "cell_type": "code",
      "execution_count": null,
      "metadata": {
        "colab": {
          "base_uri": "https://localhost:8080/",
          "height": 49,
          "referenced_widgets": [
            "dfc5f44a92ce4f959b024c10639f74d7",
            "41ed0b3cf5d743ceb228d56944a1a1e1",
            "42d0603a70034b8eb4123ee52598b690",
            "dcb7150bf66d41b487a62052cab04be5",
            "10e274fb48fe43c88eb40a68b41c3c12",
            "dcb3354043bf483887954e5d939ae63e",
            "d2f54aa9ae884e3492e6939a10baf77f",
            "22a5631ac93b42b2bf6bb9263343ce40",
            "dee149c05f1444d2b69834134c8beeeb",
            "dafb450ffc884a2eab2cd096502acd47",
            "eded7ec892e14eccb65baafd2ac60b92"
          ]
        },
        "id": "-kx68PW8zx31",
        "outputId": "6d27bf8b-4fb5-4a86-8556-5860a76dcd7b"
      },
      "outputs": [
        {
          "data": {
            "application/vnd.jupyter.widget-view+json": {
              "model_id": "dfc5f44a92ce4f959b024c10639f74d7",
              "version_major": 2,
              "version_minor": 0
            },
            "text/plain": [
              "Pandas Apply:   0%|          | 0/224278 [00:00<?, ?it/s]"
            ]
          },
          "metadata": {},
          "output_type": "display_data"
        }
      ],
      "source": [
        "rev_train.drop('tokenized_text', axis = 1, inplace = True)\n",
        "list_of_tags = rev_train.postagged_text.swifter.apply(lambda x: [el[1] for el in x if len(el) == 2]).tolist()\n",
        "set_of_tags = set()\n",
        "\n",
        "for ls in list_of_tags:\n",
        "    for tag in ls:\n",
        "        set_of_tags.add(tag)"
      ]
    },
    {
      "cell_type": "code",
      "execution_count": null,
      "metadata": {
        "colab": {
          "base_uri": "https://localhost:8080/"
        },
        "id": "9DDHT6FUzzfb",
        "outputId": "3061ec34-fd04-4310-d622-a027e4de965f"
      },
      "outputs": [
        {
          "name": "stderr",
          "output_type": "stream",
          "text": [
            "[nltk_data] Downloading package wordnet to /root/nltk_data...\n",
            "[nltk_data]   Package wordnet is already up-to-date!\n",
            "[nltk_data] Downloading package omw-1.4 to /root/nltk_data...\n",
            "[nltk_data]   Package omw-1.4 is already up-to-date!\n"
          ]
        },
        {
          "data": {
            "text/plain": [
              "True"
            ]
          },
          "execution_count": 131,
          "metadata": {},
          "output_type": "execute_result"
        }
      ],
      "source": [
        "from nltk.corpus import wordnet\n",
        "import nltk\n",
        "nltk.download('wordnet')\n",
        "nltk.download('omw-1.4')"
      ]
    },
    {
      "cell_type": "code",
      "execution_count": null,
      "metadata": {
        "id": "fGnLMJwRz0zk"
      },
      "outputs": [],
      "source": [
        "pos_mapper = {k : get_wordnet_pos(k) for k in set_of_tags}"
      ]
    },
    {
      "cell_type": "code",
      "execution_count": null,
      "metadata": {
        "colab": {
          "base_uri": "https://localhost:8080/"
        },
        "id": "NekNPc03z2AB",
        "outputId": "2e0a5ce6-8090-45dc-bf93-213a62e523af"
      },
      "outputs": [
        {
          "data": {
            "text/plain": [
              "[('RBS', 'r'), ('DT', None), ('VBG', 'v'), ('NNS', 'n'), ('$', None)]"
            ]
          },
          "execution_count": 133,
          "metadata": {},
          "output_type": "execute_result"
        }
      ],
      "source": [
        "list(pos_mapper.items())[:5]"
      ]
    },
    {
      "cell_type": "code",
      "execution_count": null,
      "metadata": {
        "colab": {
          "base_uri": "https://localhost:8080/",
          "height": 250
        },
        "id": "Mvm4eQU1z3V8",
        "outputId": "8c191c8c-0b73-4882-ec25-f8975cbebabe"
      },
      "outputs": [
        {
          "data": {
            "text/html": [
              "\n",
              "  <div id=\"df-8b963b58-c1ac-473d-adbb-77fa978ff97b\">\n",
              "    <div class=\"colab-df-container\">\n",
              "      <div>\n",
              "<style scoped>\n",
              "    .dataframe tbody tr th:only-of-type {\n",
              "        vertical-align: middle;\n",
              "    }\n",
              "\n",
              "    .dataframe tbody tr th {\n",
              "        vertical-align: top;\n",
              "    }\n",
              "\n",
              "    .dataframe thead th {\n",
              "        text-align: right;\n",
              "    }\n",
              "</style>\n",
              "<table border=\"1\" class=\"dataframe\">\n",
              "  <thead>\n",
              "    <tr style=\"text-align: right;\">\n",
              "      <th></th>\n",
              "      <th>review_text_clean</th>\n",
              "      <th>rating</th>\n",
              "      <th>book_id</th>\n",
              "      <th>n_votes</th>\n",
              "      <th>n_comments</th>\n",
              "      <th>postagged_text</th>\n",
              "    </tr>\n",
              "  </thead>\n",
              "  <tbody>\n",
              "    <tr>\n",
              "      <th>0</th>\n",
              "      <td>thought good historical fantasy set new york c...</td>\n",
              "      <td>5</td>\n",
              "      <td>182091851</td>\n",
              "      <td>5</td>\n",
              "      <td>6</td>\n",
              "      <td>[(thought, RB), (good, JJ), (historical, JJ), ...</td>\n",
              "    </tr>\n",
              "    <tr>\n",
              "      <th>4</th>\n",
              "      <td>35 stars rounded cant help dont connect theo p...</td>\n",
              "      <td>3</td>\n",
              "      <td>195643271</td>\n",
              "      <td>0</td>\n",
              "      <td>0</td>\n",
              "      <td>[(35, CD), (stars, NNS), (rounded, VBD), (cant...</td>\n",
              "    </tr>\n",
              "    <tr>\n",
              "      <th>5</th>\n",
              "      <td>read wasp factory scottish literature class ye...</td>\n",
              "      <td>2</td>\n",
              "      <td>1876765</td>\n",
              "      <td>0</td>\n",
              "      <td>0</td>\n",
              "      <td>[(read, VB), (wasp, JJ), (factory, JJ), (scott...</td>\n",
              "    </tr>\n",
              "    <tr>\n",
              "      <th>7</th>\n",
              "      <td>unexpected read venture world contemporary rom...</td>\n",
              "      <td>5</td>\n",
              "      <td>100833271</td>\n",
              "      <td>0</td>\n",
              "      <td>0</td>\n",
              "      <td>[(unexpected, JJ), (read, JJ), (venture, NN), ...</td>\n",
              "    </tr>\n",
              "    <tr>\n",
              "      <th>8</th>\n",
              "      <td>dnf 49 dont know expecting bookmaybe dealing s...</td>\n",
              "      <td>1</td>\n",
              "      <td>133218621</td>\n",
              "      <td>0</td>\n",
              "      <td>0</td>\n",
              "      <td>[(dnf, NN), (49, CD), (dont, NN), (know, VBP),...</td>\n",
              "    </tr>\n",
              "  </tbody>\n",
              "</table>\n",
              "</div>\n",
              "      <button class=\"colab-df-convert\" onclick=\"convertToInteractive('df-8b963b58-c1ac-473d-adbb-77fa978ff97b')\"\n",
              "              title=\"Convert this dataframe to an interactive table.\"\n",
              "              style=\"display:none;\">\n",
              "        \n",
              "  <svg xmlns=\"http://www.w3.org/2000/svg\" height=\"24px\"viewBox=\"0 0 24 24\"\n",
              "       width=\"24px\">\n",
              "    <path d=\"M0 0h24v24H0V0z\" fill=\"none\"/>\n",
              "    <path d=\"M18.56 5.44l.94 2.06.94-2.06 2.06-.94-2.06-.94-.94-2.06-.94 2.06-2.06.94zm-11 1L8.5 8.5l.94-2.06 2.06-.94-2.06-.94L8.5 2.5l-.94 2.06-2.06.94zm10 10l.94 2.06.94-2.06 2.06-.94-2.06-.94-.94-2.06-.94 2.06-2.06.94z\"/><path d=\"M17.41 7.96l-1.37-1.37c-.4-.4-.92-.59-1.43-.59-.52 0-1.04.2-1.43.59L10.3 9.45l-7.72 7.72c-.78.78-.78 2.05 0 2.83L4 21.41c.39.39.9.59 1.41.59.51 0 1.02-.2 1.41-.59l7.78-7.78 2.81-2.81c.8-.78.8-2.07 0-2.86zM5.41 20L4 18.59l7.72-7.72 1.47 1.35L5.41 20z\"/>\n",
              "  </svg>\n",
              "      </button>\n",
              "      \n",
              "  <style>\n",
              "    .colab-df-container {\n",
              "      display:flex;\n",
              "      flex-wrap:wrap;\n",
              "      gap: 12px;\n",
              "    }\n",
              "\n",
              "    .colab-df-convert {\n",
              "      background-color: #E8F0FE;\n",
              "      border: none;\n",
              "      border-radius: 50%;\n",
              "      cursor: pointer;\n",
              "      display: none;\n",
              "      fill: #1967D2;\n",
              "      height: 32px;\n",
              "      padding: 0 0 0 0;\n",
              "      width: 32px;\n",
              "    }\n",
              "\n",
              "    .colab-df-convert:hover {\n",
              "      background-color: #E2EBFA;\n",
              "      box-shadow: 0px 1px 2px rgba(60, 64, 67, 0.3), 0px 1px 3px 1px rgba(60, 64, 67, 0.15);\n",
              "      fill: #174EA6;\n",
              "    }\n",
              "\n",
              "    [theme=dark] .colab-df-convert {\n",
              "      background-color: #3B4455;\n",
              "      fill: #D2E3FC;\n",
              "    }\n",
              "\n",
              "    [theme=dark] .colab-df-convert:hover {\n",
              "      background-color: #434B5C;\n",
              "      box-shadow: 0px 1px 3px 1px rgba(0, 0, 0, 0.15);\n",
              "      filter: drop-shadow(0px 1px 2px rgba(0, 0, 0, 0.3));\n",
              "      fill: #FFFFFF;\n",
              "    }\n",
              "  </style>\n",
              "\n",
              "      <script>\n",
              "        const buttonEl =\n",
              "          document.querySelector('#df-8b963b58-c1ac-473d-adbb-77fa978ff97b button.colab-df-convert');\n",
              "        buttonEl.style.display =\n",
              "          google.colab.kernel.accessAllowed ? 'block' : 'none';\n",
              "\n",
              "        async function convertToInteractive(key) {\n",
              "          const element = document.querySelector('#df-8b963b58-c1ac-473d-adbb-77fa978ff97b');\n",
              "          const dataTable =\n",
              "            await google.colab.kernel.invokeFunction('convertToInteractive',\n",
              "                                                     [key], {});\n",
              "          if (!dataTable) return;\n",
              "\n",
              "          const docLinkHtml = 'Like what you see? Visit the ' +\n",
              "            '<a target=\"_blank\" href=https://colab.research.google.com/notebooks/data_table.ipynb>data table notebook</a>'\n",
              "            + ' to learn more about interactive tables.';\n",
              "          element.innerHTML = '';\n",
              "          dataTable['output_type'] = 'display_data';\n",
              "          await google.colab.output.renderOutput(dataTable, element);\n",
              "          const docLink = document.createElement('div');\n",
              "          docLink.innerHTML = docLinkHtml;\n",
              "          element.appendChild(docLink);\n",
              "        }\n",
              "      </script>\n",
              "    </div>\n",
              "  </div>\n",
              "  "
            ],
            "text/plain": [
              "                                   review_text_clean  rating    book_id  \\\n",
              "0  thought good historical fantasy set new york c...       5  182091851   \n",
              "4  35 stars rounded cant help dont connect theo p...       3  195643271   \n",
              "5  read wasp factory scottish literature class ye...       2    1876765   \n",
              "7  unexpected read venture world contemporary rom...       5  100833271   \n",
              "8  dnf 49 dont know expecting bookmaybe dealing s...       1  133218621   \n",
              "\n",
              "   n_votes  n_comments                                     postagged_text  \n",
              "0        5           6  [(thought, RB), (good, JJ), (historical, JJ), ...  \n",
              "4        0           0  [(35, CD), (stars, NNS), (rounded, VBD), (cant...  \n",
              "5        0           0  [(read, VB), (wasp, JJ), (factory, JJ), (scott...  \n",
              "7        0           0  [(unexpected, JJ), (read, JJ), (venture, NN), ...  \n",
              "8        0           0  [(dnf, NN), (49, CD), (dont, NN), (know, VBP),...  "
            ]
          },
          "execution_count": 134,
          "metadata": {},
          "output_type": "execute_result"
        }
      ],
      "source": [
        "rev_train.head()"
      ]
    },
    {
      "cell_type": "code",
      "execution_count": null,
      "metadata": {
        "colab": {
          "base_uri": "https://localhost:8080/"
        },
        "id": "MZ6nubTIz5eR",
        "outputId": "dd9261a5-3cb4-44a6-fd25-b90cb39358a1"
      },
      "outputs": [
        {
          "name": "stdout",
          "output_type": "stream",
          "text": [
            "Minimum Length of a Word in the Dataset: "
          ]
        },
        {
          "data": {
            "text/plain": [
              "1"
            ]
          },
          "execution_count": 135,
          "metadata": {},
          "output_type": "execute_result"
        }
      ],
      "source": [
        "# minimum length of the remaining words of the fixed tokenized text\n",
        "print('Minimum Length of a Word in the Dataset:', end=' ')\n",
        "min([min(x) for x in rev_train.postagged_text.map(lambda x: ([len(el[0]) for el in x])) if x != []])"
      ]
    },
    {
      "cell_type": "code",
      "execution_count": null,
      "metadata": {
        "id": "GIJLHWX0z8eP"
      },
      "outputs": [],
      "source": [
        "#filtering the words with a length less than 2\n",
        "rev_train[\"postagged_text\"] = rev_train.postagged_text.map(lambda x: [el for el in x if len(el[0]) > 2])"
      ]
    },
    {
      "cell_type": "code",
      "execution_count": null,
      "metadata": {
        "colab": {
          "base_uri": "https://localhost:8080/"
        },
        "id": "mzMHq0ndz-CU",
        "outputId": "5176f631-48f0-44cb-a0e6-9ca2746a9046"
      },
      "outputs": [
        {
          "name": "stdout",
          "output_type": "stream",
          "text": [
            "Minimum Length of a Word in the Dataset: "
          ]
        },
        {
          "data": {
            "text/plain": [
              "3"
            ]
          },
          "execution_count": 137,
          "metadata": {},
          "output_type": "execute_result"
        }
      ],
      "source": [
        "# minimum length of the remaining words of the fixed tokenized text after update\n",
        "print('Minimum Length of a Word in the Dataset:', end=' ')\n",
        "min([min(x) for x in rev_train.postagged_text.map(lambda x: ([len(el[0]) for el in x])) if x != []])"
      ]
    },
    {
      "cell_type": "code",
      "execution_count": null,
      "metadata": {
        "id": "4NT9fP_3z_ee"
      },
      "outputs": [],
      "source": [
        "###Lemmatize the Tokens"
      ]
    },
    {
      "cell_type": "code",
      "execution_count": null,
      "metadata": {
        "id": "XjIjUCRC0Ayz"
      },
      "outputs": [],
      "source": [
        "from nltk.stem.wordnet import WordNetLemmatizer\n",
        "def lemmatize_row(row):\n",
        "    lemmatizer = WordNetLemmatizer()\n",
        "    lemmatized_row = list()\n",
        "\n",
        "    for token, pos in row:\n",
        "        if pos_mapper[pos] is None:\n",
        "            lemma = lemmatizer.lemmatize(token)\n",
        "        else:\n",
        "            lemma = lemmatizer.lemmatize(token, pos = pos_mapper[pos])\n",
        "\n",
        "        lemmatized_row.append(lemma) # we discarded the pos here\n",
        "\n",
        "    return lemmatized_row"
      ]
    },
    {
      "cell_type": "code",
      "execution_count": null,
      "metadata": {
        "colab": {
          "base_uri": "https://localhost:8080/",
          "height": 49,
          "referenced_widgets": [
            "8d29ba20fe1748c28786cb3503625ee0",
            "84b73a4b926d4c2dbb83a3a04742ba4f",
            "4e52b90fe5084caf8a69034b12187274",
            "41a7431738e848439a15f03b0087f1da",
            "d8696bb25e8c46f9b99eb6d2b23561e1",
            "38edc07d7bdd44fca1bcb36529c13f09",
            "aec939121307473d887265ab70d2b1ee",
            "5baf0bb2e5f24faebed561d1092f2c51",
            "2fa020f29b564636866875f377acc974",
            "6a68aa6067454e108a933831632a94af",
            "08c390e04bf44c68abe64826196520c7"
          ]
        },
        "id": "feDBUN-C0CNz",
        "outputId": "a326880e-e14f-4834-ca18-331171819368"
      },
      "outputs": [
        {
          "data": {
            "application/vnd.jupyter.widget-view+json": {
              "model_id": "8d29ba20fe1748c28786cb3503625ee0",
              "version_major": 2,
              "version_minor": 0
            },
            "text/plain": [
              "Pandas Apply:   0%|          | 0/224278 [00:00<?, ?it/s]"
            ]
          },
          "metadata": {},
          "output_type": "display_data"
        }
      ],
      "source": [
        "#lemmatizing\n",
        "rev_train['lemmatized_text'] = rev_train.postagged_text.swifter.apply(lambda x: lemmatize_row(x))"
      ]
    },
    {
      "cell_type": "code",
      "execution_count": null,
      "metadata": {
        "id": "_ICWea3u0D8T"
      },
      "outputs": [],
      "source": [
        "rev_train.drop('postagged_text', axis = 1, inplace = True)"
      ]
    },
    {
      "cell_type": "code",
      "execution_count": null,
      "metadata": {
        "colab": {
          "base_uri": "https://localhost:8080/",
          "height": 250
        },
        "id": "artXZZ3y0FS4",
        "outputId": "f89416ba-8556-4924-bc9a-eca58128de9a"
      },
      "outputs": [
        {
          "data": {
            "text/html": [
              "\n",
              "  <div id=\"df-04d8352e-34c6-4b7d-adac-210d09b6602e\">\n",
              "    <div class=\"colab-df-container\">\n",
              "      <div>\n",
              "<style scoped>\n",
              "    .dataframe tbody tr th:only-of-type {\n",
              "        vertical-align: middle;\n",
              "    }\n",
              "\n",
              "    .dataframe tbody tr th {\n",
              "        vertical-align: top;\n",
              "    }\n",
              "\n",
              "    .dataframe thead th {\n",
              "        text-align: right;\n",
              "    }\n",
              "</style>\n",
              "<table border=\"1\" class=\"dataframe\">\n",
              "  <thead>\n",
              "    <tr style=\"text-align: right;\">\n",
              "      <th></th>\n",
              "      <th>review_text_clean</th>\n",
              "      <th>rating</th>\n",
              "      <th>book_id</th>\n",
              "      <th>n_votes</th>\n",
              "      <th>n_comments</th>\n",
              "      <th>lemmatized_text</th>\n",
              "    </tr>\n",
              "  </thead>\n",
              "  <tbody>\n",
              "    <tr>\n",
              "      <th>0</th>\n",
              "      <td>thought good historical fantasy set new york c...</td>\n",
              "      <td>5</td>\n",
              "      <td>182091851</td>\n",
              "      <td>5</td>\n",
              "      <td>6</td>\n",
              "      <td>[thought, good, historical, fantasy, set, new,...</td>\n",
              "    </tr>\n",
              "    <tr>\n",
              "      <th>4</th>\n",
              "      <td>35 stars rounded cant help dont connect theo p...</td>\n",
              "      <td>3</td>\n",
              "      <td>195643271</td>\n",
              "      <td>0</td>\n",
              "      <td>0</td>\n",
              "      <td>[star, round, cant, help, dont, connect, theo,...</td>\n",
              "    </tr>\n",
              "    <tr>\n",
              "      <th>5</th>\n",
              "      <td>read wasp factory scottish literature class ye...</td>\n",
              "      <td>2</td>\n",
              "      <td>1876765</td>\n",
              "      <td>0</td>\n",
              "      <td>0</td>\n",
              "      <td>[read, wasp, factory, scottish, literature, cl...</td>\n",
              "    </tr>\n",
              "    <tr>\n",
              "      <th>7</th>\n",
              "      <td>unexpected read venture world contemporary rom...</td>\n",
              "      <td>5</td>\n",
              "      <td>100833271</td>\n",
              "      <td>0</td>\n",
              "      <td>0</td>\n",
              "      <td>[unexpected, read, venture, world, contemporar...</td>\n",
              "    </tr>\n",
              "    <tr>\n",
              "      <th>8</th>\n",
              "      <td>dnf 49 dont know expecting bookmaybe dealing s...</td>\n",
              "      <td>1</td>\n",
              "      <td>133218621</td>\n",
              "      <td>0</td>\n",
              "      <td>0</td>\n",
              "      <td>[dnf, dont, know, expect, bookmaybe, deal, sup...</td>\n",
              "    </tr>\n",
              "  </tbody>\n",
              "</table>\n",
              "</div>\n",
              "      <button class=\"colab-df-convert\" onclick=\"convertToInteractive('df-04d8352e-34c6-4b7d-adac-210d09b6602e')\"\n",
              "              title=\"Convert this dataframe to an interactive table.\"\n",
              "              style=\"display:none;\">\n",
              "        \n",
              "  <svg xmlns=\"http://www.w3.org/2000/svg\" height=\"24px\"viewBox=\"0 0 24 24\"\n",
              "       width=\"24px\">\n",
              "    <path d=\"M0 0h24v24H0V0z\" fill=\"none\"/>\n",
              "    <path d=\"M18.56 5.44l.94 2.06.94-2.06 2.06-.94-2.06-.94-.94-2.06-.94 2.06-2.06.94zm-11 1L8.5 8.5l.94-2.06 2.06-.94-2.06-.94L8.5 2.5l-.94 2.06-2.06.94zm10 10l.94 2.06.94-2.06 2.06-.94-2.06-.94-.94-2.06-.94 2.06-2.06.94z\"/><path d=\"M17.41 7.96l-1.37-1.37c-.4-.4-.92-.59-1.43-.59-.52 0-1.04.2-1.43.59L10.3 9.45l-7.72 7.72c-.78.78-.78 2.05 0 2.83L4 21.41c.39.39.9.59 1.41.59.51 0 1.02-.2 1.41-.59l7.78-7.78 2.81-2.81c.8-.78.8-2.07 0-2.86zM5.41 20L4 18.59l7.72-7.72 1.47 1.35L5.41 20z\"/>\n",
              "  </svg>\n",
              "      </button>\n",
              "      \n",
              "  <style>\n",
              "    .colab-df-container {\n",
              "      display:flex;\n",
              "      flex-wrap:wrap;\n",
              "      gap: 12px;\n",
              "    }\n",
              "\n",
              "    .colab-df-convert {\n",
              "      background-color: #E8F0FE;\n",
              "      border: none;\n",
              "      border-radius: 50%;\n",
              "      cursor: pointer;\n",
              "      display: none;\n",
              "      fill: #1967D2;\n",
              "      height: 32px;\n",
              "      padding: 0 0 0 0;\n",
              "      width: 32px;\n",
              "    }\n",
              "\n",
              "    .colab-df-convert:hover {\n",
              "      background-color: #E2EBFA;\n",
              "      box-shadow: 0px 1px 2px rgba(60, 64, 67, 0.3), 0px 1px 3px 1px rgba(60, 64, 67, 0.15);\n",
              "      fill: #174EA6;\n",
              "    }\n",
              "\n",
              "    [theme=dark] .colab-df-convert {\n",
              "      background-color: #3B4455;\n",
              "      fill: #D2E3FC;\n",
              "    }\n",
              "\n",
              "    [theme=dark] .colab-df-convert:hover {\n",
              "      background-color: #434B5C;\n",
              "      box-shadow: 0px 1px 3px 1px rgba(0, 0, 0, 0.15);\n",
              "      filter: drop-shadow(0px 1px 2px rgba(0, 0, 0, 0.3));\n",
              "      fill: #FFFFFF;\n",
              "    }\n",
              "  </style>\n",
              "\n",
              "      <script>\n",
              "        const buttonEl =\n",
              "          document.querySelector('#df-04d8352e-34c6-4b7d-adac-210d09b6602e button.colab-df-convert');\n",
              "        buttonEl.style.display =\n",
              "          google.colab.kernel.accessAllowed ? 'block' : 'none';\n",
              "\n",
              "        async function convertToInteractive(key) {\n",
              "          const element = document.querySelector('#df-04d8352e-34c6-4b7d-adac-210d09b6602e');\n",
              "          const dataTable =\n",
              "            await google.colab.kernel.invokeFunction('convertToInteractive',\n",
              "                                                     [key], {});\n",
              "          if (!dataTable) return;\n",
              "\n",
              "          const docLinkHtml = 'Like what you see? Visit the ' +\n",
              "            '<a target=\"_blank\" href=https://colab.research.google.com/notebooks/data_table.ipynb>data table notebook</a>'\n",
              "            + ' to learn more about interactive tables.';\n",
              "          element.innerHTML = '';\n",
              "          dataTable['output_type'] = 'display_data';\n",
              "          await google.colab.output.renderOutput(dataTable, element);\n",
              "          const docLink = document.createElement('div');\n",
              "          docLink.innerHTML = docLinkHtml;\n",
              "          element.appendChild(docLink);\n",
              "        }\n",
              "      </script>\n",
              "    </div>\n",
              "  </div>\n",
              "  "
            ],
            "text/plain": [
              "                                   review_text_clean  rating    book_id  \\\n",
              "0  thought good historical fantasy set new york c...       5  182091851   \n",
              "4  35 stars rounded cant help dont connect theo p...       3  195643271   \n",
              "5  read wasp factory scottish literature class ye...       2    1876765   \n",
              "7  unexpected read venture world contemporary rom...       5  100833271   \n",
              "8  dnf 49 dont know expecting bookmaybe dealing s...       1  133218621   \n",
              "\n",
              "   n_votes  n_comments                                    lemmatized_text  \n",
              "0        5           6  [thought, good, historical, fantasy, set, new,...  \n",
              "4        0           0  [star, round, cant, help, dont, connect, theo,...  \n",
              "5        0           0  [read, wasp, factory, scottish, literature, cl...  \n",
              "7        0           0  [unexpected, read, venture, world, contemporar...  \n",
              "8        0           0  [dnf, dont, know, expect, bookmaybe, deal, sup...  "
            ]
          },
          "execution_count": 141,
          "metadata": {},
          "output_type": "execute_result"
        }
      ],
      "source": [
        "rev_train.head()"
      ]
    },
    {
      "cell_type": "code",
      "execution_count": null,
      "metadata": {
        "colab": {
          "base_uri": "https://localhost:8080/"
        },
        "id": "T9k1TQEHWHhz",
        "outputId": "3aee7726-2655-480a-d620-89b1ad00b19d"
      },
      "outputs": [
        {
          "data": {
            "text/plain": [
              "(224278, 6)"
            ]
          },
          "execution_count": 142,
          "metadata": {},
          "output_type": "execute_result"
        }
      ],
      "source": [
        "rev_train.shape"
      ]
    },
    {
      "cell_type": "markdown",
      "metadata": {
        "id": "zOIWNCFE0J_P"
      },
      "source": [
        "# Saving the Training Set"
      ]
    },
    {
      "cell_type": "code",
      "execution_count": null,
      "metadata": {
        "id": "jRR3uSGL0Me7"
      },
      "outputs": [],
      "source": [
        "rev_train.to_csv('/content/drive/MyDrive/Dataset/training_set_preprocessed.csv', index = False)"
      ]
    },
    {
      "cell_type": "code",
      "execution_count": null,
      "metadata": {
        "id": "SB_AgREvbRdB"
      },
      "outputs": [],
      "source": [
        "del rev_train"
      ]
    },
    {
      "cell_type": "code",
      "execution_count": null,
      "metadata": {
        "id": "ydCbnpQBPJI6"
      },
      "outputs": [],
      "source": [
        "train = pd.read_csv('/content/drive/MyDrive/Dataset/training_set_preprocessed.csv')"
      ]
    },
    {
      "cell_type": "code",
      "execution_count": null,
      "metadata": {
        "id": "yTAnRnB5K10l"
      },
      "outputs": [],
      "source": [
        "train= train.astype(\"str\")"
      ]
    },
    {
      "cell_type": "code",
      "execution_count": null,
      "metadata": {
        "id": "Csr7v9mqO-R-"
      },
      "outputs": [],
      "source": [
        "train.to_csv('/content/drive/MyDrive/Dataset/training_set_preprocessed_str.csv', index = False)"
      ]
    },
    {
      "cell_type": "code",
      "execution_count": null,
      "metadata": {
        "id": "9lh1reDP0PHc"
      },
      "outputs": [],
      "source": [
        "del train"
      ]
    },
    {
      "cell_type": "markdown",
      "metadata": {
        "id": "hlpS7uGF0TUw"
      },
      "source": [
        "# Deal Test dataset"
      ]
    },
    {
      "cell_type": "code",
      "execution_count": null,
      "metadata": {
        "id": "5cFEAtZIxk-8"
      },
      "outputs": [],
      "source": [
        "import random\n",
        "import numpy as np\n",
        "import pandas as pd\n",
        "import seaborn as sns\n",
        "import matplotlib.pyplot as plt"
      ]
    },
    {
      "cell_type": "code",
      "execution_count": null,
      "metadata": {
        "id": "_rKMz6QHvPPn"
      },
      "outputs": [],
      "source": [
        "test = pd.read_csv(\"/content/drive/MyDrive/Dataset/my_goodreads_test.csv\")"
      ]
    },
    {
      "cell_type": "code",
      "execution_count": null,
      "metadata": {
        "id": "4PAwSk0SsIXb"
      },
      "outputs": [],
      "source": [
        "test.shape"
      ]
    },
    {
      "cell_type": "code",
      "execution_count": null,
      "metadata": {
        "id": "CckrAWo40UkG"
      },
      "outputs": [],
      "source": [
        "test.head()"
      ]
    },
    {
      "cell_type": "code",
      "execution_count": null,
      "metadata": {
        "id": "TeeB_cz_0V1i"
      },
      "outputs": [],
      "source": [
        "test['review_text']"
      ]
    },
    {
      "cell_type": "code",
      "execution_count": null,
      "metadata": {
        "id": "WWtJFA740XM4"
      },
      "outputs": [],
      "source": [
        "word_test=test['review_text'].str.lower()"
      ]
    },
    {
      "cell_type": "code",
      "execution_count": null,
      "metadata": {
        "id": "fvXQPORzs2DD"
      },
      "outputs": [],
      "source": [
        "import neattext as nt\n",
        "import neattext.functions as nfx"
      ]
    },
    {
      "cell_type": "code",
      "execution_count": null,
      "metadata": {
        "id": "7dWhIXIr0Yct"
      },
      "outputs": [],
      "source": [
        "Noise_Scan_test=word_test.apply(lambda x: nt.TextFrame(x).noise_scan()['text_noise'])# Noise Scan"
      ]
    },
    {
      "cell_type": "code",
      "execution_count": null,
      "metadata": {
        "id": "8ZWUFx97u5He"
      },
      "outputs": [],
      "source": [
        "Noise_Scan_test"
      ]
    },
    {
      "cell_type": "code",
      "execution_count": null,
      "metadata": {
        "id": "i7kEdQh2vWb1"
      },
      "outputs": [],
      "source": [
        "del Noise_Scan_test"
      ]
    },
    {
      "cell_type": "code",
      "execution_count": null,
      "metadata": {
        "id": "AQp0L8Br0aI9"
      },
      "outputs": [],
      "source": [
        "test['review_text_clean']=word_test.apply(lambda x:nfx.remove_custom_pattern(x,term_pattern=r'$&\\+'))#removing urls\n",
        "test['review_text_clean']=test['review_text_clean'].apply(lambda x:nfx.remove_custom_pattern(x,term_pattern=r'\\n'))#removing new line characters\n",
        "test['review_text_clean']=test['review_text_clean'].apply(nfx.remove_special_characters)#removing special charachters\n",
        "test['review_text_clean']=test['review_text_clean'].apply(nfx.remove_multiple_spaces)#removing multiple spaces\n",
        "test['review_text_clean']=test['review_text_clean'].apply(nfx.remove_stopwords)"
      ]
    },
    {
      "cell_type": "code",
      "execution_count": null,
      "metadata": {
        "id": "2hG0R8jx0bt6"
      },
      "outputs": [],
      "source": [
        "test['review_text_clean'].apply(lambda x: nt.TextFrame(x).noise_scan()['text_noise'])#check noise"
      ]
    },
    {
      "cell_type": "code",
      "execution_count": null,
      "metadata": {
        "id": "Tqt2rTYj0dQE"
      },
      "outputs": [],
      "source": [
        "test['review_text_clean']"
      ]
    },
    {
      "cell_type": "code",
      "execution_count": null,
      "metadata": {
        "id": "pekSYcTU0wZ9"
      },
      "outputs": [],
      "source": [
        "rev_test = test[[\"review_id\",\"review_text_clean\", \"book_id\",\"n_votes\",\"n_comments\"]]\n",
        "del test"
      ]
    },
    {
      "cell_type": "code",
      "execution_count": null,
      "metadata": {
        "id": "-Tv18mNz0z0a"
      },
      "outputs": [],
      "source": [
        "len(rev_test)"
      ]
    },
    {
      "cell_type": "code",
      "execution_count": null,
      "metadata": {
        "id": "ruCwhEvN01Sz"
      },
      "outputs": [],
      "source": [
        "import swifter\n",
        "import nltk\n",
        "from nltk import word_tokenize\n",
        "rev_test[\"tokenized_text\"] = rev_test.review_text_clean.swifter.apply(lambda x: word_tokenize(x))"
      ]
    },
    {
      "cell_type": "code",
      "execution_count": null,
      "metadata": {
        "id": "djp0bBcr6Fzl"
      },
      "outputs": [],
      "source": [
        "nltk.download('averaged_perceptron_tagger')"
      ]
    },
    {
      "cell_type": "code",
      "execution_count": null,
      "metadata": {
        "id": "popwZHV36F-5"
      },
      "outputs": [],
      "source": [
        "from nltk.corpus import wordnet\n",
        "import nltk\n",
        "nltk.download('wordnet')\n",
        "nltk.download('omw-1.4')"
      ]
    },
    {
      "cell_type": "code",
      "execution_count": null,
      "metadata": {
        "id": "Np-Gt2LM6GOK"
      },
      "outputs": [],
      "source": [
        "def get_wordnet_pos(treebank_tag):\n",
        "\n",
        "    if treebank_tag.startswith('J'):\n",
        "        return wordnet.ADJ\n",
        "    elif treebank_tag.startswith('V'):\n",
        "        return wordnet.VERB\n",
        "    elif treebank_tag.startswith('N'):\n",
        "        return wordnet.NOUN\n",
        "    elif treebank_tag.startswith('R'):\n",
        "        return wordnet.ADV\n",
        "    else:\n",
        "        return None"
      ]
    },
    {
      "cell_type": "code",
      "execution_count": null,
      "metadata": {
        "id": "lvr4HX9a02lb"
      },
      "outputs": [],
      "source": [
        "rev_test[\"postagged_text\"] = rev_test.tokenized_text.swifter.apply(lambda x: nltk.pos_tag(x))"
      ]
    },
    {
      "cell_type": "code",
      "execution_count": null,
      "metadata": {
        "id": "9MPvmX-q9xSP"
      },
      "outputs": [],
      "source": [
        "rev_test[\"postagged_text\"].shape"
      ]
    },
    {
      "cell_type": "code",
      "execution_count": null,
      "metadata": {
        "id": "3iR-CEWj04Vw"
      },
      "outputs": [],
      "source": [
        "rev_test.drop('tokenized_text', axis = 1, inplace = True)\n",
        "list_of_tags = rev_test.postagged_text.swifter.apply(lambda x: [el[1] for el in x if len(el) == 2]).tolist()\n",
        "set_of_tags = set()\n",
        "\n",
        "for ls in list_of_tags:\n",
        "    for tag in ls:\n",
        "        set_of_tags.add(tag)"
      ]
    },
    {
      "cell_type": "code",
      "execution_count": null,
      "metadata": {
        "id": "owRmVFBD05hy"
      },
      "outputs": [],
      "source": [
        "pos_mapper_test = {k : get_wordnet_pos(k) for k in set_of_tags}"
      ]
    },
    {
      "cell_type": "code",
      "execution_count": null,
      "metadata": {
        "id": "Ca2eJ5NJ066G"
      },
      "outputs": [],
      "source": [
        "list(pos_mapper_test.items())[:5]"
      ]
    },
    {
      "cell_type": "code",
      "execution_count": null,
      "metadata": {
        "id": "TV13sfkF08Jc"
      },
      "outputs": [],
      "source": [
        "rev_test.head()"
      ]
    },
    {
      "cell_type": "code",
      "execution_count": null,
      "metadata": {
        "id": "M_tVvq5K43Z0"
      },
      "outputs": [],
      "source": [
        "from nltk.corpus import wordnet\n",
        "import nltk\n",
        "nltk.download('wordnet')\n",
        "nltk.download('omw-1.4')"
      ]
    },
    {
      "cell_type": "code",
      "execution_count": null,
      "metadata": {
        "id": "debx7fIU09SC"
      },
      "outputs": [],
      "source": [
        "# minimum length of the remaining words of the fixed tokenized text\n",
        "print('Minimum Length of a Word in the Dataset:', end=' ')\n",
        "min([min(x) for x in rev_test.postagged_text.map(lambda x: ([len(el[0]) for el in x])) if x != []])"
      ]
    },
    {
      "cell_type": "code",
      "execution_count": null,
      "metadata": {
        "id": "WN_L7zKt0-px"
      },
      "outputs": [],
      "source": [
        "#filtering the words with a length less than 2\n",
        "rev_test[\"postagged_text\"] = rev_test.postagged_text.map(lambda x: [el for el in x if len(el[0]) > 2])"
      ]
    },
    {
      "cell_type": "code",
      "execution_count": null,
      "metadata": {
        "id": "H7ukB9Nm0_52"
      },
      "outputs": [],
      "source": [
        "# minimum length of the remaining words of the fixed tokenized text after update\n",
        "print('Minimum Length of a Word in the Dataset:', end=' ')\n",
        "min([min(x) for x in rev_test.postagged_text.map(lambda x: ([len(el[0]) for el in x])) if x != []])"
      ]
    },
    {
      "cell_type": "code",
      "execution_count": null,
      "metadata": {
        "id": "Kz0rjfeb1BCs"
      },
      "outputs": [],
      "source": [
        "from nltk.stem.wordnet import WordNetLemmatizer\n",
        "def lemmatize_row(row):\n",
        "    lemmatizer = WordNetLemmatizer()\n",
        "    lemmatized_row = list()\n",
        "\n",
        "    for token, pos in row:\n",
        "        if pos_mapper_test[pos] is None:\n",
        "            lemma = lemmatizer.lemmatize(token)\n",
        "        else:\n",
        "            lemma = lemmatizer.lemmatize(token, pos = pos_mapper_test[pos])\n",
        "\n",
        "        lemmatized_row.append(lemma) # we discarded the pos here\n",
        "\n",
        "    return lemmatized_row"
      ]
    },
    {
      "cell_type": "code",
      "execution_count": null,
      "metadata": {
        "id": "5sEUF8uf1Cys"
      },
      "outputs": [],
      "source": [
        "#lemmatizing\n",
        "rev_test['lemmatized_text'] = rev_test.postagged_text.swifter.apply(lambda x: lemmatize_row(x))"
      ]
    },
    {
      "cell_type": "code",
      "execution_count": null,
      "metadata": {
        "id": "6RlV9Dy6AqtK"
      },
      "outputs": [],
      "source": [
        "rev_test['lemmatized_text'].shape"
      ]
    },
    {
      "cell_type": "code",
      "execution_count": null,
      "metadata": {
        "id": "ONuLAhNWAzDX"
      },
      "outputs": [],
      "source": [
        "rev_test.head()"
      ]
    },
    {
      "cell_type": "code",
      "execution_count": null,
      "metadata": {
        "id": "PQPLdgAG1Eao"
      },
      "outputs": [],
      "source": [
        "rev_test.drop('postagged_text', axis = 1, inplace = True)"
      ]
    },
    {
      "cell_type": "code",
      "execution_count": null,
      "metadata": {
        "id": "iwp3vqKX1GiP"
      },
      "outputs": [],
      "source": [
        "rev_test.to_csv('/content/drive/MyDrive/Dataset/testing_set_preprocessed.csv', index = False)"
      ]
    },
    {
      "cell_type": "code",
      "execution_count": null,
      "metadata": {
        "id": "wxWBJNdeLJ59"
      },
      "outputs": [],
      "source": [
        "del rev_test"
      ]
    },
    {
      "cell_type": "code",
      "execution_count": null,
      "metadata": {
        "id": "CWHwPPW9Jq9-"
      },
      "outputs": [],
      "source": [
        "rev_test = pd.read_csv('/content/drive/MyDrive/Dataset/testing_set_preprocessed.csv')"
      ]
    },
    {
      "cell_type": "code",
      "execution_count": null,
      "metadata": {
        "id": "z6Lk11wUwAuu"
      },
      "outputs": [],
      "source": [
        "rev_test= rev_test.astype(\"str\")"
      ]
    },
    {
      "cell_type": "code",
      "execution_count": null,
      "metadata": {
        "id": "6Aa01gx4x6qY"
      },
      "outputs": [],
      "source": [
        "rev_test.to_csv('/content/drive/MyDrive/Dataset/testing_set_preprocessed_str.csv', index = False)"
      ]
    },
    {
      "cell_type": "code",
      "execution_count": null,
      "metadata": {
        "id": "vCGuISku1IET"
      },
      "outputs": [],
      "source": [
        "del rev_test"
      ]
    },
    {
      "cell_type": "markdown",
      "metadata": {
        "id": "YaS-10sgHgx3"
      },
      "source": [
        "#Standard ML Baseline: Logistic regression\n",
        "\n",
        "For my standard machine learning baseline model, I chose to use the Logistic Regression Model. It's a widely used statistical method for binary classification tasks, where the goal is to predict a binary outcome, such as whether a book is highly rated or not. I believe it can be a useful method for classification tasks, and its performance can be easily assessed using performance metrics like the F1 Score, among others.\n",
        "\n"
      ]
    },
    {
      "cell_type": "code",
      "execution_count": null,
      "metadata": {
        "id": "T2hI_FxgHlSG"
      },
      "outputs": [],
      "source": [
        "import pandas as pd\n",
        "import re\n",
        "import string\n",
        "import nltk\n",
        "import random\n",
        "import numpy as np\n",
        "import seaborn as sns\n",
        "import matplotlib.pyplot as plt\n",
        "from nltk.corpus import stopwords\n",
        "from sklearn.feature_extraction.text import TfidfVectorizer\n",
        "from sklearn.linear_model import LogisticRegression\n",
        "from sklearn.metrics import classification_report"
      ]
    },
    {
      "cell_type": "code",
      "execution_count": null,
      "metadata": {
        "id": "tjS41QVFHlVB"
      },
      "outputs": [],
      "source": [
        "train = pd.read_csv(\"/content/drive/MyDrive/Dataset/my_goodreads_train.csv\")\n",
        "test = pd.read_csv(\"/content/drive/MyDrive/Dataset/my_goodreads_test.csv\")"
      ]
    },
    {
      "cell_type": "code",
      "execution_count": null,
      "metadata": {
        "colab": {
          "base_uri": "https://localhost:8080/"
        },
        "id": "wk_QGmbqtDnC",
        "outputId": "7d540a4b-f309-4865-edc0-662cb8431ec7"
      },
      "outputs": [
        {
          "name": "stdout",
          "output_type": "stream",
          "text": [
            "Looking in indexes: https://pypi.org/simple, https://us-python.pkg.dev/colab-wheels/public/simple/\n",
            "Requirement already satisfied: neattext in /usr/local/lib/python3.9/dist-packages (0.1.3)\n"
          ]
        }
      ],
      "source": [
        "!pip install neattext"
      ]
    },
    {
      "cell_type": "code",
      "execution_count": null,
      "metadata": {
        "id": "A5g5kuRTtLLP"
      },
      "outputs": [],
      "source": [
        "import neattext as nt\n",
        "import neattext.functions as nfx"
      ]
    },
    {
      "cell_type": "code",
      "execution_count": null,
      "metadata": {
        "id": "b4YHe9cRBe8m"
      },
      "outputs": [],
      "source": [
        "#removing custom patterns like $&\\+\n",
        "train['review_text_clean']=train['review_text'].apply(lambda x:nfx.remove_custom_pattern(x,term_pattern=r'$&\\+'))\n",
        "\n",
        "#removing new lines\n",
        "train['review_text_clean']=train['review_text_clean'].apply(lambda x:nfx.remove_custom_pattern(x,term_pattern=r'\\n'))\n",
        "\n",
        "#ewmoving special characters\n",
        "train['review_text_clean']=train['review_text_clean'].apply(nfx.remove_special_characters)\n",
        "\n",
        "#removing multiple spacing\n",
        "train['review_text_clean']=train['review_text_clean'].apply(nfx.remove_multiple_spaces)\n",
        "\n",
        "train['review_text_clean']=train['review_text_clean'].apply(nfx.remove_stopwords)"
      ]
    },
    {
      "cell_type": "code",
      "execution_count": null,
      "metadata": {
        "id": "cJ5sjIp8HAiL"
      },
      "outputs": [],
      "source": [
        "test['review_text_clean']=test['review_text'].apply(lambda x:nfx.remove_custom_pattern(x,term_pattern=r'$&\\+'))\n",
        "test['review_text_clean']=test['review_text_clean'].apply(lambda x:nfx.remove_custom_pattern(x,term_pattern=r'\\n'))\n",
        "test['review_text_clean']=test['review_text_clean'].apply(nfx.remove_special_characters)\n",
        "test['review_text_clean']=test['review_text_clean'].apply(nfx.remove_multiple_spaces)\n",
        "test['review_text_clean']=test['review_text_clean'].apply(nfx.remove_stopwords)"
      ]
    },
    {
      "cell_type": "code",
      "execution_count": null,
      "metadata": {
        "id": "mEfdjPHaHAtu"
      },
      "outputs": [],
      "source": [
        "#split the train data into smaller pieces\n",
        "from sklearn.model_selection import train_test_split\n",
        "\n",
        "X_train, X_value, y_train, y_value = train_test_split(train['review_text_clean'], train['rating'], test_size=0.2, random_state=42)"
      ]
    },
    {
      "cell_type": "code",
      "execution_count": null,
      "metadata": {
        "id": "pJ9BkaKCBqPe"
      },
      "outputs": [],
      "source": [
        "#vectorizing our review_text_clean data\n",
        "v = TfidfVectorizer()\n",
        "X_train = v.fit_transform(X_train)\n",
        "X_value = v.transform(X_value)"
      ]
    },
    {
      "cell_type": "code",
      "execution_count": null,
      "metadata": {
        "id": "G4DrU1KDCLEz"
      },
      "outputs": [],
      "source": [
        "# Train the logistic regression model\n",
        "from sklearn.linear_model import LogisticRegression\n",
        "mod = LogisticRegression(max_iter=1000)"
      ]
    },
    {
      "cell_type": "code",
      "execution_count": null,
      "metadata": {
        "colab": {
          "base_uri": "https://localhost:8080/",
          "height": 75
        },
        "id": "PNSoyiyZCLHq",
        "outputId": "95d47859-18d7-4c98-930c-c00c329e53b2"
      },
      "outputs": [
        {
          "data": {
            "text/html": [
              "<style>#sk-container-id-1 {color: black;background-color: white;}#sk-container-id-1 pre{padding: 0;}#sk-container-id-1 div.sk-toggleable {background-color: white;}#sk-container-id-1 label.sk-toggleable__label {cursor: pointer;display: block;width: 100%;margin-bottom: 0;padding: 0.3em;box-sizing: border-box;text-align: center;}#sk-container-id-1 label.sk-toggleable__label-arrow:before {content: \"▸\";float: left;margin-right: 0.25em;color: #696969;}#sk-container-id-1 label.sk-toggleable__label-arrow:hover:before {color: black;}#sk-container-id-1 div.sk-estimator:hover label.sk-toggleable__label-arrow:before {color: black;}#sk-container-id-1 div.sk-toggleable__content {max-height: 0;max-width: 0;overflow: hidden;text-align: left;background-color: #f0f8ff;}#sk-container-id-1 div.sk-toggleable__content pre {margin: 0.2em;color: black;border-radius: 0.25em;background-color: #f0f8ff;}#sk-container-id-1 input.sk-toggleable__control:checked~div.sk-toggleable__content {max-height: 200px;max-width: 100%;overflow: auto;}#sk-container-id-1 input.sk-toggleable__control:checked~label.sk-toggleable__label-arrow:before {content: \"▾\";}#sk-container-id-1 div.sk-estimator input.sk-toggleable__control:checked~label.sk-toggleable__label {background-color: #d4ebff;}#sk-container-id-1 div.sk-label input.sk-toggleable__control:checked~label.sk-toggleable__label {background-color: #d4ebff;}#sk-container-id-1 input.sk-hidden--visually {border: 0;clip: rect(1px 1px 1px 1px);clip: rect(1px, 1px, 1px, 1px);height: 1px;margin: -1px;overflow: hidden;padding: 0;position: absolute;width: 1px;}#sk-container-id-1 div.sk-estimator {font-family: monospace;background-color: #f0f8ff;border: 1px dotted black;border-radius: 0.25em;box-sizing: border-box;margin-bottom: 0.5em;}#sk-container-id-1 div.sk-estimator:hover {background-color: #d4ebff;}#sk-container-id-1 div.sk-parallel-item::after {content: \"\";width: 100%;border-bottom: 1px solid gray;flex-grow: 1;}#sk-container-id-1 div.sk-label:hover label.sk-toggleable__label {background-color: #d4ebff;}#sk-container-id-1 div.sk-serial::before {content: \"\";position: absolute;border-left: 1px solid gray;box-sizing: border-box;top: 0;bottom: 0;left: 50%;z-index: 0;}#sk-container-id-1 div.sk-serial {display: flex;flex-direction: column;align-items: center;background-color: white;padding-right: 0.2em;padding-left: 0.2em;position: relative;}#sk-container-id-1 div.sk-item {position: relative;z-index: 1;}#sk-container-id-1 div.sk-parallel {display: flex;align-items: stretch;justify-content: center;background-color: white;position: relative;}#sk-container-id-1 div.sk-item::before, #sk-container-id-1 div.sk-parallel-item::before {content: \"\";position: absolute;border-left: 1px solid gray;box-sizing: border-box;top: 0;bottom: 0;left: 50%;z-index: -1;}#sk-container-id-1 div.sk-parallel-item {display: flex;flex-direction: column;z-index: 1;position: relative;background-color: white;}#sk-container-id-1 div.sk-parallel-item:first-child::after {align-self: flex-end;width: 50%;}#sk-container-id-1 div.sk-parallel-item:last-child::after {align-self: flex-start;width: 50%;}#sk-container-id-1 div.sk-parallel-item:only-child::after {width: 0;}#sk-container-id-1 div.sk-dashed-wrapped {border: 1px dashed gray;margin: 0 0.4em 0.5em 0.4em;box-sizing: border-box;padding-bottom: 0.4em;background-color: white;}#sk-container-id-1 div.sk-label label {font-family: monospace;font-weight: bold;display: inline-block;line-height: 1.2em;}#sk-container-id-1 div.sk-label-container {text-align: center;}#sk-container-id-1 div.sk-container {/* jupyter's `normalize.less` sets `[hidden] { display: none; }` but bootstrap.min.css set `[hidden] { display: none !important; }` so we also need the `!important` here to be able to override the default hidden behavior on the sphinx rendered scikit-learn.org. See: https://github.com/scikit-learn/scikit-learn/issues/21755 */display: inline-block !important;position: relative;}#sk-container-id-1 div.sk-text-repr-fallback {display: none;}</style><div id=\"sk-container-id-1\" class=\"sk-top-container\"><div class=\"sk-text-repr-fallback\"><pre>LogisticRegression(max_iter=1000)</pre><b>In a Jupyter environment, please rerun this cell to show the HTML representation or trust the notebook. <br />On GitHub, the HTML representation is unable to render, please try loading this page with nbviewer.org.</b></div><div class=\"sk-container\" hidden><div class=\"sk-item\"><div class=\"sk-estimator sk-toggleable\"><input class=\"sk-toggleable__control sk-hidden--visually\" id=\"sk-estimator-id-1\" type=\"checkbox\" checked><label for=\"sk-estimator-id-1\" class=\"sk-toggleable__label sk-toggleable__label-arrow\">LogisticRegression</label><div class=\"sk-toggleable__content\"><pre>LogisticRegression(max_iter=1000)</pre></div></div></div></div></div>"
            ],
            "text/plain": [
              "LogisticRegression(max_iter=1000)"
            ]
          },
          "execution_count": 12,
          "metadata": {},
          "output_type": "execute_result"
        }
      ],
      "source": [
        "#Fitting the model\n",
        "mod.fit(X_train, y_train)"
      ]
    },
    {
      "cell_type": "code",
      "execution_count": null,
      "metadata": {
        "id": "PaB2-aKlCLKr"
      },
      "outputs": [],
      "source": [
        "#Predicting model\n",
        "y_pred = mod.predict(X_value)"
      ]
    },
    {
      "cell_type": "code",
      "execution_count": null,
      "metadata": {
        "colab": {
          "base_uri": "https://localhost:8080/"
        },
        "id": "Ai5zf-Y8CLNd",
        "outputId": "ec4b1cfc-987d-4b92-bcb5-caeb195e8fee"
      },
      "outputs": [
        {
          "name": "stdout",
          "output_type": "stream",
          "text": [
            "              precision    recall  f1-score   support\n",
            "\n",
            "           1       0.56      0.39      0.46      9185\n",
            "           2       0.45      0.28      0.35     11220\n",
            "           3       0.49      0.43      0.46     29579\n",
            "           4       0.51      0.60      0.55     48848\n",
            "           5       0.63      0.65      0.64     41168\n",
            "\n",
            "    accuracy                           0.54    140000\n",
            "   macro avg       0.53      0.47      0.49    140000\n",
            "weighted avg       0.54      0.54      0.53    140000\n",
            "\n"
          ]
        }
      ],
      "source": [
        "from sklearn.metrics import classification_report\n",
        "\n",
        "print(classification_report(y_value, y_pred))"
      ]
    },
    {
      "cell_type": "code",
      "execution_count": null,
      "metadata": {
        "colab": {
          "base_uri": "https://localhost:8080/",
          "height": 472
        },
        "id": "1ckuZeMDBqTI",
        "outputId": "01b58c8d-9d2d-4315-fe80-ae7e688e4073"
      },
      "outputs": [
        {
          "data": {
            "image/png": "[encoded data removed]",
            "text/plain": [
              "<Figure size 640x480 with 2 Axes>"
            ]
          },
          "metadata": {},
          "output_type": "display_data"
        }
      ],
      "source": [
        "from sklearn.metrics import confusion_matrix\n",
        "import seaborn as sns\n",
        "import matplotlib.pyplot as plt\n",
        "\n",
        "cm = confusion_matrix(y_value, y_pred)\n",
        "\n",
        "sns.heatmap(cm, annot=True, fmt='g', cmap='Blues')\n",
        "plt.xlabel('Predicted labels')\n",
        "plt.ylabel('True labels')\n",
        "plt.title('Confusion Matrix')\n",
        "plt.show()"
      ]
    },
    {
      "cell_type": "code",
      "execution_count": null,
      "metadata": {
        "id": "caZRVpRNFLDe"
      },
      "outputs": [],
      "source": [
        "X_test = v.transform(test['review_text_clean'])"
      ]
    },
    {
      "cell_type": "code",
      "execution_count": null,
      "metadata": {
        "id": "2sB7WtrtIusx"
      },
      "outputs": [],
      "source": [
        "pred_test = mod.predict(X_test)"
      ]
    },
    {
      "cell_type": "code",
      "execution_count": null,
      "metadata": {
        "colab": {
          "base_uri": "https://localhost:8080/"
        },
        "id": "Wrx3fIxrBqW_",
        "outputId": "3b8db5cb-b7e5-48de-9f1f-28667fe03c13"
      },
      "outputs": [
        {
          "name": "stdout",
          "output_type": "stream",
          "text": [
            "[3 5 5 ... 3 4 4]\n"
          ]
        }
      ],
      "source": [
        "print(pred_test)"
      ]
    },
    {
      "cell_type": "code",
      "execution_count": null,
      "metadata": {
        "colab": {
          "base_uri": "https://localhost:8080/"
        },
        "id": "UW3xUAEnNeK_",
        "outputId": "ec9e8762-b249-437c-8702-30ef1151a56d"
      },
      "outputs": [
        {
          "data": {
            "text/plain": [
              "(200000,)"
            ]
          },
          "execution_count": 19,
          "metadata": {},
          "output_type": "execute_result"
        }
      ],
      "source": [
        "pred_test.shape"
      ]
    },
    {
      "cell_type": "code",
      "execution_count": null,
      "metadata": {
        "id": "hy2qf2-zC3CK"
      },
      "outputs": [],
      "source": [
        "test['rating']=pred_test\n",
        "test['rating']=pred_test\n",
        "df_output=test[['review_id','rating']]"
      ]
    },
    {
      "cell_type": "code",
      "execution_count": null,
      "metadata": {
        "id": "EOc2X9mNJBRD"
      },
      "outputs": [],
      "source": [
        "df_output.to_csv(\"/content/drive/MyDrive/Dataset/Rrgression_5.CSV\",index=False)"
      ]
    },
    {
      "cell_type": "markdown",
      "metadata": {
        "id": "wD8F38Ai1O5N"
      },
      "source": [
        "# 3Layer NN Baseline:\n",
        "\n",
        "My 3-Layer Neural Network Model consists of an input layer, a hidden layer, and an output layer, where each layer contains one or more neurons. These neurons are computational units that perform mathematical operations on the input data. Given the necessity to experiment with different parameters for the task at hand, I find this model to be the best fit for such tasks."
      ]
    },
    {
      "cell_type": "code",
      "execution_count": null,
      "metadata": {
        "id": "UKOPm4Ro1RzY"
      },
      "outputs": [],
      "source": [
        "import random\n",
        "import numpy as np\n",
        "import pandas as pd\n",
        "import seaborn as sns\n",
        "import tensorflow as tf\n",
        "from tensorflow import keras\n",
        "import matplotlib.pyplot as plt\n",
        "from tensorflow.keras.layers import Input, Dense, Concatenate, Flatten\n",
        "from tensorflow.keras.models import Model\n",
        "from tensorflow.keras.preprocessing.text import Tokenizer\n",
        "from tensorflow.keras.preprocessing.sequence import pad_sequences\n",
        "from sklearn.model_selection import train_test_split\n",
        "from tensorflow.keras.optimizers import Adam\n",
        "from tensorflow.keras.utils import to_categorical"
      ]
    },
    {
      "cell_type": "code",
      "execution_count": null,
      "metadata": {
        "id": "ggLTfs_8S5pu"
      },
      "outputs": [],
      "source": [
        "train = pd.read_csv(\"/content/drive/MyDrive/Dataset/my_goodreads_train.csv\")\n",
        "test = pd.read_csv(\"/content/drive/MyDrive/Dataset/my_goodreads_test.csv\")"
      ]
    },
    {
      "cell_type": "code",
      "execution_count": null,
      "metadata": {
        "id": "pU2LhVoOl27R"
      },
      "outputs": [],
      "source": [
        "pip install neattext"
      ]
    },
    {
      "cell_type": "code",
      "execution_count": null,
      "metadata": {
        "id": "x2Rcq40bfacc"
      },
      "outputs": [],
      "source": [
        "import neattext as nt\n",
        "import neattext.functions as nfx\n",
        "#removing custom patterns like $&\\+\n",
        "train['review_text_clean']=train['review_text'].apply(lambda x:nfx.remove_custom_pattern(x,term_pattern=r'$&\\+'))\n",
        "\n",
        "#removing'\\n'\n",
        "train['review_text_clean']=train['review_text_clean'].apply(lambda x:nfx.remove_custom_pattern(x,term_pattern=r'\\n'))\n",
        "\n",
        "#removing special characters\n",
        "train['review_text_clean']=train['review_text_clean'].apply(nfx.remove_special_characters)\n",
        "\n",
        "#removing multiple spacing\n",
        "train['review_text_clean']=train['review_text_clean'].apply(nfx.remove_multiple_spaces)\n",
        "\n",
        "train['review_text_clean']=train['review_text_clean'].apply(nfx.remove_stopwords)\n"
      ]
    },
    {
      "cell_type": "code",
      "execution_count": null,
      "metadata": {
        "id": "7GuO9w_vtvCi"
      },
      "outputs": [],
      "source": [
        "max_words = 10000\n",
        "max_len = 500\n",
        "tokenizer = Tokenizer(num_words=max_words)\n",
        "tokenizer.fit_on_texts(train['review_text_clean']) # lemmatized_text is a list of strings\n",
        "sequences = tokenizer.texts_to_sequences(train['review_text_clean'])\n",
        "text_data = pad_sequences(sequences,maxlen=max_len)"
      ]
    },
    {
      "cell_type": "code",
      "execution_count": null,
      "metadata": {
        "id": "VZlM3KpSpOcV"
      },
      "outputs": [],
      "source": [
        "train_f = pd.concat([pd.DataFrame(text_data)], axis=1)"
      ]
    },
    {
      "cell_type": "code",
      "execution_count": null,
      "metadata": {
        "id": "jN_poVXMfalR"
      },
      "outputs": [],
      "source": [
        "from sklearn.model_selection import train_test_split\n",
        "x_train = train_f\n",
        "y_train = np.array(train[['rating']])\n",
        "\n",
        "X_train_full, X_test, y_train_full, y_test = train_test_split(x_train, y_train)\n",
        "X_train, X_valid, y_train, y_valid = train_test_split(X_train_full, y_train_full)"
      ]
    },
    {
      "cell_type": "code",
      "execution_count": null,
      "metadata": {
        "id": "V4ypg3Czfjhs"
      },
      "outputs": [],
      "source": [
        "model = keras.models.Sequential([\n",
        "    keras.layers.Flatten(input_shape=x_train.shape[1:]),\n",
        "    keras.layers.Dense(300, activation=\"relu\"),\n",
        "    keras.layers.Dense(6, activation=\"softmax\")\n",
        "])"
      ]
    },
    {
      "cell_type": "code",
      "execution_count": null,
      "metadata": {
        "id": "DHZUrz-_fjkh"
      },
      "outputs": [],
      "source": [
        "model.compile(optimizer=Adam(learning_rate=0.001), loss='binary_crossentropy', metrics=['accuracy'])"
      ]
    },
    {
      "cell_type": "code",
      "execution_count": null,
      "metadata": {
        "id": "POmXI0oefjoZ"
      },
      "outputs": [],
      "source": [
        "# One-hot encode the y_train and y_valid variables\n",
        "y_train = to_categorical(y_train)\n",
        "y_valid = to_categorical(y_valid)\n",
        "y_test = to_categorical(y_test)"
      ]
    },
    {
      "cell_type": "code",
      "execution_count": null,
      "metadata": {
        "colab": {
          "base_uri": "https://localhost:8080/"
        },
        "id": "qC0IwbcFfjro",
        "outputId": "3f723318-971a-487b-ba53-df8b6753be26"
      },
      "outputs": [
        {
          "name": "stdout",
          "output_type": "stream",
          "text": [
            "Batch Size: 23\n",
            "Epoch 1/5\n",
            "17120/17120 [==============================] - 62s 3ms/step - loss: 2.0868 - accuracy: 0.3346 - val_loss: 0.3836 - val_accuracy: 0.3487\n",
            "Epoch 2/5\n",
            "17120/17120 [==============================] - 56s 3ms/step - loss: 0.3827 - accuracy: 0.3487 - val_loss: 0.3828 - val_accuracy: 0.3484\n",
            "Epoch 3/5\n",
            "17120/17120 [==============================] - 56s 3ms/step - loss: 0.3819 - accuracy: 0.3489 - val_loss: 0.3827 - val_accuracy: 0.3485\n",
            "Epoch 4/5\n",
            "17120/17120 [==============================] - 56s 3ms/step - loss: 0.3820 - accuracy: 0.3491 - val_loss: 0.3828 - val_accuracy: 0.3484\n",
            "Epoch 5/5\n",
            "17120/17120 [==============================] - 55s 3ms/step - loss: 0.3819 - accuracy: 0.3490 - val_loss: 0.3827 - val_accuracy: 0.3487\n"
          ]
        }
      ],
      "source": [
        "batch_size = 23\n",
        "print(\"Batch Size: {}\".format(batch_size))\n",
        "history = model.fit(X_train, y_train, epochs=5, batch_size=batch_size, validation_data=(X_valid, y_valid))"
      ]
    },
    {
      "cell_type": "code",
      "execution_count": null,
      "metadata": {
        "colab": {
          "base_uri": "https://localhost:8080/",
          "height": 468
        },
        "id": "PcHHKZeqToob",
        "outputId": "18deee81-fbc5-4c43-e199-4228f916ea68"
      },
      "outputs": [
        {
          "data": {
            "text/plain": [
              "(0.0, 1.0)"
            ]
          },
          "execution_count": 16,
          "metadata": {},
          "output_type": "execute_result"
        },
        {
          "data": {
            "image/png": "[encoded data removed]",
            "text/plain": [
              "<Figure size 800x500 with 1 Axes>"
            ]
          },
          "metadata": {},
          "output_type": "display_data"
        }
      ],
      "source": [
        "pd.DataFrame(history.history).plot(figsize=(8, 5))\n",
        "plt.grid(True)\n",
        "plt.gca().set_ylim(0, 1) # set the vertical range to [0-1] plt.show()"
      ]
    },
    {
      "cell_type": "code",
      "execution_count": null,
      "metadata": {
        "colab": {
          "base_uri": "https://localhost:8080/"
        },
        "id": "yaygkKLkgAUL",
        "outputId": "30ab0570-d5b8-4085-b4ca-ba2661ad0166"
      },
      "outputs": [
        {
          "name": "stdout",
          "output_type": "stream",
          "text": [
            "5469/5469 [==============================] - 11s 2ms/step - loss: 0.3822 - accuracy: 0.3499\n"
          ]
        },
        {
          "data": {
            "text/plain": [
              "0.34994858503341675"
            ]
          },
          "execution_count": 17,
          "metadata": {},
          "output_type": "execute_result"
        }
      ],
      "source": [
        "test_loss, test_acc = model.evaluate(X_test, y_test)\n",
        "test_acc"
      ]
    },
    {
      "cell_type": "code",
      "execution_count": null,
      "metadata": {
        "colab": {
          "base_uri": "https://localhost:8080/"
        },
        "id": "xWrTxrFTgAXY",
        "outputId": "827285e1-b2d6-48cf-fe24-1d11c5580127"
      },
      "outputs": [
        {
          "name": "stdout",
          "output_type": "stream",
          "text": [
            "Batch Size: 23\n",
            "Epoch 1/5\n",
            "12305/12305 [==============================] - 44s 4ms/step - loss: 1.8122 - accuracy: 0.2943 - val_loss: 1.7865 - val_accuracy: 0.2935\n",
            "Epoch 2/5\n",
            "12305/12305 [==============================] - 42s 3ms/step - loss: 1.7830 - accuracy: 0.2953 - val_loss: 1.7865 - val_accuracy: 0.2935\n",
            "Epoch 3/5\n",
            "12305/12305 [==============================] - 42s 3ms/step - loss: 1.7829 - accuracy: 0.2953 - val_loss: 1.7865 - val_accuracy: 0.2935\n",
            "Epoch 4/5\n",
            "12305/12305 [==============================] - 42s 3ms/step - loss: 1.7830 - accuracy: 0.2953 - val_loss: 1.7868 - val_accuracy: 0.2935\n",
            "Epoch 5/5\n",
            "12305/12305 [==============================] - 43s 3ms/step - loss: 1.7966 - accuracy: 0.2952 - val_loss: 1.7871 - val_accuracy: 0.2935\n",
            "Batch Size: 23\n",
            "Epoch 1/5\n",
            "12305/12305 [==============================] - 44s 3ms/step - loss: 3.7128 - accuracy: 0.2589 - val_loss: 2.5659 - val_accuracy: 0.2117\n",
            "Epoch 2/5\n",
            "12305/12305 [==============================] - 43s 3ms/step - loss: 2.5469 - accuracy: 0.2223 - val_loss: 2.3624 - val_accuracy: 0.2865\n",
            "Epoch 3/5\n",
            "12305/12305 [==============================] - 43s 3ms/step - loss: 1.6811 - accuracy: 0.3243 - val_loss: 1.1419 - val_accuracy: 0.3469\n",
            "Epoch 4/5\n",
            "12305/12305 [==============================] - 42s 3ms/step - loss: 1.2499 - accuracy: 0.3426 - val_loss: 1.1188 - val_accuracy: 0.3476\n",
            "Epoch 5/5\n",
            "12305/12305 [==============================] - 42s 3ms/step - loss: 1.0461 - accuracy: 0.3481 - val_loss: 0.9996 - val_accuracy: 0.3480\n",
            "Batch Size: 23\n",
            "Epoch 1/5\n",
            "12305/12305 [==============================] - 44s 3ms/step - loss: 3.6079 - accuracy: 0.2448 - val_loss: 2.5741 - val_accuracy: 0.1133\n",
            "Epoch 2/5\n",
            "12305/12305 [==============================] - 42s 3ms/step - loss: 2.5786 - accuracy: 0.1249 - val_loss: 2.5695 - val_accuracy: 0.0748\n",
            "Epoch 3/5\n",
            "12305/12305 [==============================] - 42s 3ms/step - loss: 2.5692 - accuracy: 0.0857 - val_loss: 2.5728 - val_accuracy: 0.0720\n",
            "Epoch 4/5\n",
            "12305/12305 [==============================] - 42s 3ms/step - loss: 2.9767 - accuracy: 0.1894 - val_loss: 4.3664 - val_accuracy: 0.3485\n",
            "Epoch 5/5\n",
            "12305/12305 [==============================] - 42s 3ms/step - loss: 3.2600 - accuracy: 0.2628 - val_loss: 2.4517 - val_accuracy: 0.1878\n",
            "Batch Size: 23\n",
            "Epoch 1/5\n",
            "12305/12305 [==============================] - 44s 3ms/step - loss: 2.9930 - accuracy: 0.1696 - val_loss: 2.5694 - val_accuracy: 0.1348\n",
            "Epoch 2/5\n",
            "12305/12305 [==============================] - 42s 3ms/step - loss: 2.5694 - accuracy: 0.1063 - val_loss: 2.5693 - val_accuracy: 0.0943\n",
            "Epoch 3/5\n",
            "12305/12305 [==============================] - 42s 3ms/step - loss: 2.5693 - accuracy: 0.1167 - val_loss: 2.5693 - val_accuracy: 0.1231\n",
            "Epoch 4/5\n",
            "12305/12305 [==============================] - 42s 3ms/step - loss: 2.5694 - accuracy: 0.1055 - val_loss: 2.5696 - val_accuracy: 0.1084\n",
            "Epoch 5/5\n",
            "12305/12305 [==============================] - 42s 3ms/step - loss: 2.5697 - accuracy: 0.1124 - val_loss: 2.5696 - val_accuracy: 0.1628\n",
            "Batch Size: 23\n",
            "Epoch 1/5\n",
            "12305/12305 [==============================] - 44s 3ms/step - loss: 2.9592 - accuracy: 0.0832 - val_loss: 2.5693 - val_accuracy: 0.0819\n",
            "Epoch 2/5\n",
            "12305/12305 [==============================] - 42s 3ms/step - loss: 2.5690 - accuracy: 0.0810 - val_loss: 2.5689 - val_accuracy: 0.0823\n",
            "Epoch 3/5\n",
            "12305/12305 [==============================] - 42s 3ms/step - loss: 2.5382 - accuracy: 0.0907 - val_loss: 2.3764 - val_accuracy: 0.1323\n",
            "Epoch 4/5\n",
            "12305/12305 [==============================] - 42s 3ms/step - loss: 2.3567 - accuracy: 0.1369 - val_loss: 2.3724 - val_accuracy: 0.1334\n",
            "Epoch 5/5\n",
            "12305/12305 [==============================] - 42s 3ms/step - loss: 2.2921 - accuracy: 0.1914 - val_loss: 2.3301 - val_accuracy: 0.2593\n"
          ]
        }
      ],
      "source": [
        "# Define the number of neurons to experiment with\n",
        "n_neurons_list = [1, 20, 50,80,100]\n",
        "# Create lists to store results\n",
        "val_scores = []\n",
        "# Define the model architecture with 3 layers\n",
        "def build_model(n_neurons):\n",
        "    model1 = keras.models.Sequential([\n",
        "        keras.layers.Dense(n_neurons, activation=\"relu\", input_shape=X_train.shape[1:]),\n",
        "        keras.layers.Dense(10, activation=\"relu\"),\n",
        "        keras.layers.Dense(6)\n",
        "    ])\n",
        "    model1.compile(optimizer=Adam(learning_rate=0.001), loss='binary_crossentropy', metrics=['accuracy'])\n",
        "    batch_size = 23\n",
        "    print(\"Batch Size: {}\".format(batch_size))\n",
        "    return model1\n",
        "\n",
        "\n",
        "# Train the model for each number of neurons and store the validation score\n",
        "for n_neurons in n_neurons_list:\n",
        "    model1 = build_model(n_neurons)\n",
        "    history = model1.fit(X_train, y_train, epochs=5, validation_data=(X_valid, y_valid), verbose=1)\n",
        "    val_scores.append(history.history['val_loss'][-1])"
      ]
    },
    {
      "cell_type": "code",
      "execution_count": null,
      "metadata": {
        "colab": {
          "base_uri": "https://localhost:8080/",
          "height": 449
        },
        "id": "rFkxNoomgAc4",
        "outputId": "2991aabe-09e1-4f1b-a70a-29a4ba5eabe2"
      },
      "outputs": [
        {
          "data": {
            "image/png": "[encoded data removed]",
            "text/plain": [
              "<Figure size 640x480 with 1 Axes>"
            ]
          },
          "metadata": {},
          "output_type": "display_data"
        }
      ],
      "source": [
        "# Plot the validation score for each number of neurons\n",
        "plt.plot(n_neurons_list, val_scores, \"bo-\")\n",
        "plt.xlabel(\"Number of neurons in the hidden layer\")\n",
        "plt.ylabel(\"Validation accuracy\")\n",
        "plt.show()"
      ]
    },
    {
      "cell_type": "code",
      "execution_count": null,
      "metadata": {
        "colab": {
          "base_uri": "https://localhost:8080/"
        },
        "id": "7LJr8nIufLsD",
        "outputId": "93e7d096-5589-4eb4-8a96-bf15a0d21c32"
      },
      "outputs": [
        {
          "name": "stdout",
          "output_type": "stream",
          "text": [
            "Epoch 1/10\n",
            "12305/12305 [==============================] - 42s 3ms/step - loss: 0.3824 - accuracy: 0.3493 - val_loss: 0.3819 - val_accuracy: 0.3503\n",
            "Epoch 2/10\n",
            "12305/12305 [==============================] - 40s 3ms/step - loss: 0.3821 - accuracy: 0.3493 - val_loss: 0.3817 - val_accuracy: 0.3501\n",
            "Epoch 3/10\n",
            "12305/12305 [==============================] - 40s 3ms/step - loss: 0.3820 - accuracy: 0.3494 - val_loss: 0.3816 - val_accuracy: 0.3499\n",
            "Epoch 4/10\n",
            "12305/12305 [==============================] - 40s 3ms/step - loss: 0.3820 - accuracy: 0.3493 - val_loss: 0.3816 - val_accuracy: 0.3498\n",
            "Epoch 5/10\n",
            "12305/12305 [==============================] - 39s 3ms/step - loss: 0.3820 - accuracy: 0.3494 - val_loss: 0.3816 - val_accuracy: 0.3501\n",
            "Epoch 6/10\n",
            "12305/12305 [==============================] - 39s 3ms/step - loss: 0.3821 - accuracy: 0.3494 - val_loss: 0.3815 - val_accuracy: 0.3505\n",
            "Epoch 7/10\n",
            "12305/12305 [==============================] - 39s 3ms/step - loss: 0.3820 - accuracy: 0.3493 - val_loss: 0.3815 - val_accuracy: 0.3502\n",
            "Epoch 8/10\n",
            "12305/12305 [==============================] - 39s 3ms/step - loss: 0.3819 - accuracy: 0.3493 - val_loss: 0.3815 - val_accuracy: 0.3501\n",
            "Epoch 9/10\n",
            "12305/12305 [==============================] - 40s 3ms/step - loss: 0.3819 - accuracy: 0.3494 - val_loss: 0.3815 - val_accuracy: 0.3500\n",
            "Epoch 10/10\n",
            "12305/12305 [==============================] - 39s 3ms/step - loss: 0.3819 - accuracy: 0.3494 - val_loss: 0.3815 - val_accuracy: 0.3502\n"
          ]
        }
      ],
      "source": [
        "# Best result for neurons\n",
        "x_train = train_f\n",
        "y_train = np.array(train[['rating']])\n",
        "\n",
        "X_train_full, X_test, y_train_full, y_test = train_test_split(x_train, y_train)\n",
        "X_train, X_valid, y_train, y_valid = train_test_split(X_train_full, y_train_full)\n",
        "\n",
        "y_train = to_categorical(y_train)\n",
        "y_valid = to_categorical(y_valid)\n",
        "y_test = to_categorical(y_test)\n",
        "\n",
        "model2= keras.models.Sequential([\n",
        "    keras.layers.Flatten(input_shape=x_train.shape[1:]),\n",
        "    keras.layers.Dense(80, activation=\"relu\"),\n",
        "    keras.layers.Dense(6, activation=\"softmax\")\n",
        "])\n",
        "\n",
        "model2.compile(optimizer=Adam(learning_rate=0.001), loss='binary_crossentropy', metrics=['accuracy'])\n",
        "history = model.fit(X_train, y_train, epochs=10, validation_data=(X_valid, y_valid))"
      ]
    },
    {
      "cell_type": "code",
      "execution_count": null,
      "metadata": {
        "id": "GoUiKxFhoym0"
      },
      "outputs": [],
      "source": [
        "test['review_text_clean']=test['review_text'].apply(lambda x:nfx.remove_custom_pattern(x,term_pattern=r'$&\\+'))\n",
        "test['review_text_clean']=test['review_text_clean'].apply(lambda x:nfx.remove_custom_pattern(x,term_pattern=r'\\n'))\n",
        "test['review_text_clean']=test['review_text_clean'].apply(nfx.remove_special_characters)\n",
        "test['review_text_clean']=test['review_text_clean'].apply(nfx.remove_multiple_spaces)\n",
        "test['review_text_clean']=test['review_text_clean'].apply(nfx.remove_stopwords)\n"
      ]
    },
    {
      "cell_type": "code",
      "execution_count": null,
      "metadata": {
        "colab": {
          "base_uri": "https://localhost:8080/"
        },
        "id": "dwXqIq-Jxxp-",
        "outputId": "a1ed9c86-7c84-4be8-ab9e-daeccee5635b"
      },
      "outputs": [
        {
          "name": "stdout",
          "output_type": "stream",
          "text": [
            "6250/6250 [==============================] - 8s 1ms/step\n"
          ]
        },
        {
          "data": {
            "text/plain": [
              "array([5, 5, 0, ..., 2, 5, 5])"
            ]
          },
          "execution_count": 22,
          "metadata": {},
          "output_type": "execute_result"
        }
      ],
      "source": [
        "#deal test (y_predit)\n",
        "max_words = 10000\n",
        "max_len = 500\n",
        "tokenizer = Tokenizer(num_words=max_words)\n",
        "tokenizer.fit_on_texts(test['review_text_clean']) # lemmatized_text is a list of strings\n",
        "sequences = tokenizer.texts_to_sequences(test['review_text_clean'])\n",
        "text_data_test = pad_sequences(sequences,maxlen=max_len)\n",
        "\n",
        "Y_testdata= pd.concat([pd.DataFrame(text_data_test)], axis=1)\n",
        "\n",
        "Y_pred=model2.predict(Y_testdata)\n",
        "Y_predit_convert=np.argmax(Y_pred,axis=-1)\n",
        "Y_predit_convert"
      ]
    },
    {
      "cell_type": "code",
      "execution_count": null,
      "metadata": {
        "colab": {
          "base_uri": "https://localhost:8080/"
        },
        "id": "DW7oer1br_Gn",
        "outputId": "1e5faed2-95d8-4259-9bb3-033dba22b703"
      },
      "outputs": [
        {
          "data": {
            "text/plain": [
              "1.837725871586946"
            ]
          },
          "execution_count": 23,
          "metadata": {},
          "output_type": "execute_result"
        }
      ],
      "source": [
        "std_dev=np.std(Y_predit_convert)\n",
        "std_dev"
      ]
    },
    {
      "cell_type": "code",
      "execution_count": null,
      "metadata": {
        "id": "zX8Rg0FDgd3w"
      },
      "outputs": [],
      "source": [
        "test['rating']= Y_predit_convert"
      ]
    },
    {
      "cell_type": "code",
      "execution_count": null,
      "metadata": {
        "id": "zuBSgZeZgd8B"
      },
      "outputs": [],
      "source": [
        "df_output=test[['review_id','rating']]\n",
        "df_output.to_csv(\"/content/drive/MyDrive/Dataset/3NN_5.CSV\",index=False)"
      ]
    },
    {
      "cell_type": "markdown",
      "metadata": {
        "id": "6jllA6375Cq7"
      },
      "source": [
        "# Deep NN\n",
        "\n",
        "For my deep neural networks model, I decided to create a 7-layer DNN model that includes 3 base layers of neurons. I explored the optimum number of layers needed and concluded that adding more layers would incrementally improve performance. Based on my best result, which was achieved with 15 layers and 55 neurons (the best configuration from the initial 3 layers), I tested various activation functions like relu, sigmoid, tanh, and elu. I did this to gain a better understanding of the model and to enhance its performance."
      ]
    },
    {
      "cell_type": "code",
      "execution_count": null,
      "metadata": {
        "id": "k9FT_d-z5KSZ"
      },
      "outputs": [],
      "source": [
        "import random\n",
        "import numpy as np\n",
        "import pandas as pd\n",
        "import seaborn as sns\n",
        "import matplotlib.pyplot as plt"
      ]
    },
    {
      "cell_type": "code",
      "execution_count": null,
      "metadata": {
        "id": "FfDDMh5v5OZG"
      },
      "outputs": [],
      "source": [
        "import tensorflow as tf\n",
        "import os\n",
        "from tensorflow.keras.layers import Input, Dense, Embedding, Concatenate, Flatten\n",
        "from tensorflow.keras.models import Model\n",
        "from tensorflow.keras.preprocessing.text import Tokenizer\n",
        "from sklearn.preprocessing import LabelEncoder\n",
        "from tensorflow.keras.preprocessing.sequence import pad_sequences\n",
        "from sklearn.model_selection import train_test_split\n",
        "from tensorflow import keras\n",
        "from tensorflow.keras.optimizers import Adam\n",
        "from tensorflow.keras.utils import to_categorical"
      ]
    },
    {
      "cell_type": "code",
      "execution_count": null,
      "metadata": {
        "id": "NdHWoHXn5OeA"
      },
      "outputs": [],
      "source": [
        "train = pd.read_csv(\"/content/drive/MyDrive/Dataset/my_goodreads_train.csv\")\n",
        "test = pd.read_csv(\"/content/drive/MyDrive/Dataset/my_goodreads_test.csv\")"
      ]
    },
    {
      "cell_type": "code",
      "execution_count": null,
      "metadata": {
        "id": "lIARx-e33mIJ"
      },
      "outputs": [],
      "source": [
        "import neattext as nt\n",
        "import neattext.functions as nfx\n",
        "#removing custom patterns like $&\\+\n",
        "train['review_text_clean']=train['review_text'].apply(lambda x:nfx.remove_custom_pattern(x,term_pattern=r'$&\\+'))\n",
        "\n",
        "#removing'\\n'\n",
        "train['review_text_clean']=train['review_text_clean'].apply(lambda x:nfx.remove_custom_pattern(x,term_pattern=r'\\n'))\n",
        "\n",
        "#removing special characters\n",
        "train['review_text_clean']=train['review_text_clean'].apply(nfx.remove_special_characters)\n",
        "\n",
        "#removing multiple spacing\n",
        "train['review_text_clean']=train['review_text_clean'].apply(nfx.remove_multiple_spaces)\n",
        "\n",
        "train['review_text_clean']=train['review_text_clean'].apply(nfx.remove_stopwords)\n"
      ]
    },
    {
      "cell_type": "code",
      "execution_count": null,
      "metadata": {
        "id": "SIZEnSJd3mLr"
      },
      "outputs": [],
      "source": [
        "max_words = 10000\n",
        "max_len = 110\n",
        "tokenizer = Tokenizer(num_words=max_words)\n",
        "tokenizer.fit_on_texts(train['review_text_clean']) # lemmatized_text is a list of strings\n",
        "sequences = tokenizer.texts_to_sequences(train['review_text_clean'])\n",
        "text_data = pad_sequences(sequences,maxlen=max_len)"
      ]
    },
    {
      "cell_type": "code",
      "execution_count": null,
      "metadata": {
        "id": "g308LGiH3mO5"
      },
      "outputs": [],
      "source": [
        "train_f = pd.concat([pd.DataFrame(text_data)], axis=1)"
      ]
    },
    {
      "cell_type": "code",
      "execution_count": null,
      "metadata": {
        "id": "mkVl80Od3mTK"
      },
      "outputs": [],
      "source": [
        "from sklearn.model_selection import train_test_split\n",
        "x_train = train_f\n",
        "y_train = np.array(train[['rating']])\n",
        "\n",
        "X_train_full, X_test, y_train_full, y_test = train_test_split(x_train, y_train)\n",
        "X_train, X_valid, y_train, y_valid = train_test_split(X_train_full, y_train_full)"
      ]
    },
    {
      "cell_type": "code",
      "execution_count": null,
      "metadata": {
        "id": "xhqrto6X3ml_"
      },
      "outputs": [],
      "source": [
        "model = keras.models.Sequential([\n",
        "    keras.layers.Flatten(input_shape=x_train.shape[1:]),\n",
        "    keras.layers.Dense(80, activation=\"relu\"),\n",
        "    keras.layers.Dense(80, activation=\"relu\"),\n",
        "    keras.layers.Dense(80, activation=\"relu\"),\n",
        "    keras.layers.Dense(80, activation=\"relu\"),\n",
        "    keras.layers.Dense(80, activation=\"relu\"),\n",
        "    keras.layers.Dense(80, activation=\"relu\"),\n",
        "    keras.layers.Dense(6, activation=\"softmax\")\n",
        "])"
      ]
    },
    {
      "cell_type": "code",
      "execution_count": null,
      "metadata": {
        "id": "-Odg1z0U3mpV"
      },
      "outputs": [],
      "source": [
        "model.compile(optimizer=Adam(learning_rate=0.001), loss='binary_crossentropy', metrics=['accuracy'])"
      ]
    },
    {
      "cell_type": "code",
      "execution_count": null,
      "metadata": {
        "id": "VI1JCLYH3ms7"
      },
      "outputs": [],
      "source": [
        "# One-hot encode the y_train and y_valid variables\n",
        "y_train = to_categorical(y_train)\n",
        "y_valid = to_categorical(y_valid)\n",
        "y_test = to_categorical(y_test)"
      ]
    },
    {
      "cell_type": "code",
      "execution_count": null,
      "metadata": {
        "colab": {
          "base_uri": "https://localhost:8080/"
        },
        "id": "quuHxAYp3mwg",
        "outputId": "9b387759-ea99-4bb3-fd2d-a2a64a7e6df4"
      },
      "outputs": [
        {
          "name": "stdout",
          "output_type": "stream",
          "text": [
            "Batch Size: 23\n",
            "Epoch 1/5\n",
            "17120/17120 [==============================] - 76s 4ms/step - loss: 0.4432 - accuracy: 0.3421 - val_loss: 0.3814 - val_accuracy: 0.3443\n",
            "Epoch 2/5\n",
            "17120/17120 [==============================] - 71s 4ms/step - loss: 0.3814 - accuracy: 0.3490 - val_loss: 0.3809 - val_accuracy: 0.3471\n",
            "Epoch 3/5\n",
            "17120/17120 [==============================] - 71s 4ms/step - loss: 0.3812 - accuracy: 0.3497 - val_loss: 0.3817 - val_accuracy: 0.3469\n",
            "Epoch 4/5\n",
            "17120/17120 [==============================] - 71s 4ms/step - loss: 0.3812 - accuracy: 0.3495 - val_loss: 0.3815 - val_accuracy: 0.3468\n",
            "Epoch 5/5\n",
            "17120/17120 [==============================] - 71s 4ms/step - loss: 0.3814 - accuracy: 0.3499 - val_loss: 0.3819 - val_accuracy: 0.3470\n"
          ]
        }
      ],
      "source": [
        "batch_size = 23\n",
        "print(\"Batch Size: {}\".format(batch_size))\n",
        "history = model.fit(X_train, y_train, epochs=5, batch_size=batch_size, validation_data=(X_valid, y_valid))"
      ]
    },
    {
      "cell_type": "code",
      "execution_count": null,
      "metadata": {
        "colab": {
          "base_uri": "https://localhost:8080/",
          "height": 468
        },
        "id": "pIsOY_Zo3m6o",
        "outputId": "91cc31f0-9c46-4e6b-cf4f-758298f69554"
      },
      "outputs": [
        {
          "data": {
            "text/plain": [
              "(0.0, 1.0)"
            ]
          },
          "execution_count": 12,
          "metadata": {},
          "output_type": "execute_result"
        },
        {
          "data": {
            "image/png": "[encoded data removed]",
            "text/plain": [
              "<Figure size 800x500 with 1 Axes>"
            ]
          },
          "metadata": {},
          "output_type": "display_data"
        }
      ],
      "source": [
        "pd.DataFrame(history.history).plot(figsize=(8, 5))\n",
        "plt.grid(True)\n",
        "plt.gca().set_ylim(0, 1) # set the vertical range to [0-1] plt.show()"
      ]
    },
    {
      "cell_type": "code",
      "execution_count": null,
      "metadata": {
        "colab": {
          "base_uri": "https://localhost:8080/"
        },
        "id": "iOIBxjmD3m97",
        "outputId": "c950bc2a-bfac-47ed-802b-e3ebd47ff770"
      },
      "outputs": [
        {
          "name": "stdout",
          "output_type": "stream",
          "text": [
            "5469/5469 [==============================] - 11s 2ms/step - loss: 0.3819 - accuracy: 0.3491\n"
          ]
        },
        {
          "data": {
            "text/plain": [
              "0.34914857149124146"
            ]
          },
          "execution_count": 13,
          "metadata": {},
          "output_type": "execute_result"
        }
      ],
      "source": [
        "test_loss, test_acc = model.evaluate(X_test, y_test)\n",
        "test_acc"
      ]
    },
    {
      "cell_type": "code",
      "execution_count": null,
      "metadata": {
        "colab": {
          "base_uri": "https://localhost:8080/"
        },
        "id": "hpyJnUmn3nBM",
        "outputId": "72491242-f18f-497e-ab1d-11151ef0373a"
      },
      "outputs": [
        {
          "name": "stdout",
          "output_type": "stream",
          "text": [
            "Epoch 1/5\n",
            "17120/17120 [==============================] - 71s 4ms/step - loss: 0.3816 - accuracy: 0.3498 - val_loss: 0.3821 - val_accuracy: 0.3470\n",
            "Epoch 2/5\n",
            "17120/17120 [==============================] - 70s 4ms/step - loss: 0.3816 - accuracy: 0.3503 - val_loss: 0.4077 - val_accuracy: 0.3476\n",
            "Epoch 3/5\n",
            "17120/17120 [==============================] - 70s 4ms/step - loss: 0.3816 - accuracy: 0.3497 - val_loss: 0.3817 - val_accuracy: 0.3472\n",
            "Epoch 4/5\n",
            "17120/17120 [==============================] - 70s 4ms/step - loss: 0.3816 - accuracy: 0.3495 - val_loss: 0.3819 - val_accuracy: 0.3468\n",
            "Epoch 5/5\n",
            "17120/17120 [==============================] - 70s 4ms/step - loss: 0.3814 - accuracy: 0.3498 - val_loss: 0.3817 - val_accuracy: 0.3473\n",
            "Epoch 1/5\n",
            "17120/17120 [==============================] - 70s 4ms/step - loss: 0.3830 - accuracy: 0.3498 - val_loss: 0.3816 - val_accuracy: 0.3469\n",
            "Epoch 2/5\n",
            "17120/17120 [==============================] - 70s 4ms/step - loss: 0.3828 - accuracy: 0.3505 - val_loss: 0.3815 - val_accuracy: 0.3474\n",
            "Epoch 3/5\n",
            "17120/17120 [==============================] - 71s 4ms/step - loss: 0.3811 - accuracy: 0.3503 - val_loss: 0.3815 - val_accuracy: 0.3471\n",
            "Epoch 4/5\n",
            "17120/17120 [==============================] - 70s 4ms/step - loss: 0.3811 - accuracy: 0.3503 - val_loss: 0.3813 - val_accuracy: 0.3471\n",
            "Epoch 5/5\n",
            "17120/17120 [==============================] - 70s 4ms/step - loss: 0.3813 - accuracy: 0.3503 - val_loss: 0.3816 - val_accuracy: 0.3467\n",
            "Epoch 1/5\n",
            "17120/17120 [==============================] - 70s 4ms/step - loss: 0.3811 - accuracy: 0.3501 - val_loss: 0.3815 - val_accuracy: 0.3477\n",
            "Epoch 2/5\n",
            "17120/17120 [==============================] - 70s 4ms/step - loss: 0.3812 - accuracy: 0.3506 - val_loss: 0.3819 - val_accuracy: 0.3471\n",
            "Epoch 3/5\n",
            "17120/17120 [==============================] - 70s 4ms/step - loss: 0.3817 - accuracy: 0.3496 - val_loss: 0.3818 - val_accuracy: 0.3476\n",
            "Epoch 4/5\n",
            "17120/17120 [==============================] - 71s 4ms/step - loss: 0.3813 - accuracy: 0.3504 - val_loss: 0.3816 - val_accuracy: 0.3479\n",
            "Epoch 5/5\n",
            "17120/17120 [==============================] - 70s 4ms/step - loss: 0.3848 - accuracy: 0.3504 - val_loss: 0.3817 - val_accuracy: 0.3483\n",
            "Epoch 1/5\n",
            "17120/17120 [==============================] - 71s 4ms/step - loss: 0.3812 - accuracy: 0.3503 - val_loss: 0.3818 - val_accuracy: 0.3477\n",
            "Epoch 2/5\n",
            "17120/17120 [==============================] - 71s 4ms/step - loss: 0.3813 - accuracy: 0.3502 - val_loss: 0.3816 - val_accuracy: 0.3473\n",
            "Epoch 3/5\n",
            "17120/17120 [==============================] - 70s 4ms/step - loss: 0.3812 - accuracy: 0.3500 - val_loss: 0.3814 - val_accuracy: 0.3475\n",
            "Epoch 4/5\n",
            "17120/17120 [==============================] - 70s 4ms/step - loss: 0.3814 - accuracy: 0.3495 - val_loss: 0.3819 - val_accuracy: 0.3469\n",
            "Epoch 5/5\n",
            "17120/17120 [==============================] - 70s 4ms/step - loss: 0.3813 - accuracy: 0.3502 - val_loss: 0.3814 - val_accuracy: 0.3475\n",
            "Epoch 1/5\n",
            "17120/17120 [==============================] - 71s 4ms/step - loss: 0.3814 - accuracy: 0.3503 - val_loss: 0.3818 - val_accuracy: 0.3474\n",
            "Epoch 2/5\n",
            "17120/17120 [==============================] - 72s 4ms/step - loss: 0.3812 - accuracy: 0.3503 - val_loss: 0.3813 - val_accuracy: 0.3476\n",
            "Epoch 3/5\n",
            "17120/17120 [==============================] - 70s 4ms/step - loss: 0.3812 - accuracy: 0.3504 - val_loss: 0.3819 - val_accuracy: 0.3471\n",
            "Epoch 4/5\n",
            "17120/17120 [==============================] - 70s 4ms/step - loss: 0.3813 - accuracy: 0.3501 - val_loss: 0.3814 - val_accuracy: 0.3478\n",
            "Epoch 5/5\n",
            "17120/17120 [==============================] - 70s 4ms/step - loss: 0.3812 - accuracy: 0.3503 - val_loss: 0.3815 - val_accuracy: 0.3467\n"
          ]
        }
      ],
      "source": [
        "# Define the number of layers\n",
        "n_layers_list = [1, 3, 5, 10, 15]\n",
        "\n",
        "val_scores = []\n",
        "\n",
        "def build_model(n_layers, n_neurons):\n",
        "    model_L = keras.models.Sequential()\n",
        "    model_L.add(keras.layers.Dense(80, activation=\"relu\", input_shape=X_train.shape[1:]))\n",
        "    for i in range(n_layers):\n",
        "        model_L.add(keras.layers.Dense(80, activation=\"relu\"))\n",
        "    model_L.add(keras.layers.Dense(6, activation=\"softmax\"))\n",
        "    model_L.compile(optimizer=keras.optimizers.Adam(learning_rate=0.001), loss='binary_crossentropy', metrics=['accuracy'])\n",
        "    return model_L\n",
        "\n",
        "\n",
        "for n in n_layers_list:\n",
        "    model_L = build_model(n, n_neurons=80)\n",
        "    history = model.fit(X_train, y_train, epochs=5, batch_size=23, validation_data=(X_valid, y_valid), verbose=1)\n",
        "    val_scores.append(history.history['val_loss'][-1])"
      ]
    },
    {
      "cell_type": "code",
      "execution_count": null,
      "metadata": {
        "colab": {
          "base_uri": "https://localhost:8080/",
          "height": 449
        },
        "id": "Y3MyZEzt_DLD",
        "outputId": "df30168a-ca11-43b5-a3fb-78b120ba3813"
      },
      "outputs": [
        {
          "data": {
            "image/png": "[encoded data removed]",
            "text/plain": [
              "<Figure size 640x480 with 1 Axes>"
            ]
          },
          "metadata": {},
          "output_type": "display_data"
        }
      ],
      "source": [
        "plt.plot(n_layers_list, val_scores, \"bo-\")\n",
        "plt.xlabel(\"Number of hidden layer\")\n",
        "plt.ylabel(\"Validation accuracy\")\n",
        "\n",
        "plt.show()"
      ]
    },
    {
      "cell_type": "code",
      "execution_count": null,
      "metadata": {
        "colab": {
          "base_uri": "https://localhost:8080/"
        },
        "id": "1ScI7luS_DOk",
        "outputId": "fa8e40a9-7f4c-4906-d1c1-621a46b9d0a2"
      },
      "outputs": [
        {
          "name": "stdout",
          "output_type": "stream",
          "text": [
            "Epoch 1/5\n",
            "17120/17120 [==============================] - 75s 4ms/step - loss: 0.5051 - accuracy: 0.3390 - val_loss: 0.3819 - val_accuracy: 0.3475\n",
            "Epoch 2/5\n",
            "17120/17120 [==============================] - 67s 4ms/step - loss: 0.3817 - accuracy: 0.3499 - val_loss: 0.3820 - val_accuracy: 0.3479\n",
            "Epoch 3/5\n",
            "17120/17120 [==============================] - 68s 4ms/step - loss: 0.3818 - accuracy: 0.3503 - val_loss: 0.3817 - val_accuracy: 0.3477\n",
            "Epoch 4/5\n",
            "17120/17120 [==============================] - 67s 4ms/step - loss: 0.3815 - accuracy: 0.3506 - val_loss: 0.3815 - val_accuracy: 0.3483\n",
            "Epoch 5/5\n",
            "17120/17120 [==============================] - 67s 4ms/step - loss: 0.3818 - accuracy: 0.3508 - val_loss: 0.3817 - val_accuracy: 0.3474\n",
            "Epoch 1/5\n",
            "17120/17120 [==============================] - 69s 4ms/step - loss: 0.3818 - accuracy: 0.3463 - val_loss: 0.3816 - val_accuracy: 0.3462\n",
            "Epoch 2/5\n",
            "17120/17120 [==============================] - 67s 4ms/step - loss: 0.3811 - accuracy: 0.3484 - val_loss: 0.3816 - val_accuracy: 0.3483\n",
            "Epoch 3/5\n",
            "17120/17120 [==============================] - 69s 4ms/step - loss: 0.3812 - accuracy: 0.3484 - val_loss: 0.3810 - val_accuracy: 0.3470\n",
            "Epoch 4/5\n",
            "17120/17120 [==============================] - 68s 4ms/step - loss: 0.3811 - accuracy: 0.3490 - val_loss: 0.3813 - val_accuracy: 0.3471\n",
            "Epoch 5/5\n",
            "17120/17120 [==============================] - 68s 4ms/step - loss: 0.3812 - accuracy: 0.3487 - val_loss: 0.3811 - val_accuracy: 0.3482\n",
            "Epoch 1/5\n",
            "17120/17120 [==============================] - 69s 4ms/step - loss: 0.3823 - accuracy: 0.3428 - val_loss: 0.3813 - val_accuracy: 0.3432\n",
            "Epoch 2/5\n",
            "17120/17120 [==============================] - 67s 4ms/step - loss: 0.3819 - accuracy: 0.3430 - val_loss: 0.3822 - val_accuracy: 0.3463\n",
            "Epoch 3/5\n",
            "17120/17120 [==============================] - 66s 4ms/step - loss: 0.3819 - accuracy: 0.3435 - val_loss: 0.3818 - val_accuracy: 0.3462\n",
            "Epoch 4/5\n",
            "17120/17120 [==============================] - 67s 4ms/step - loss: 0.3819 - accuracy: 0.3433 - val_loss: 0.3822 - val_accuracy: 0.3464\n",
            "Epoch 5/5\n",
            "17120/17120 [==============================] - 67s 4ms/step - loss: 0.3819 - accuracy: 0.3437 - val_loss: 0.3823 - val_accuracy: 0.2957\n",
            "Epoch 1/5\n",
            "17120/17120 [==============================] - 69s 4ms/step - loss: 0.5275 - accuracy: 0.3360 - val_loss: 0.3827 - val_accuracy: 0.3466\n",
            "Epoch 2/5\n",
            "17120/17120 [==============================] - 67s 4ms/step - loss: 0.3837 - accuracy: 0.3439 - val_loss: 0.3848 - val_accuracy: 0.3471\n",
            "Epoch 3/5\n",
            "17120/17120 [==============================] - 67s 4ms/step - loss: 0.3830 - accuracy: 0.3449 - val_loss: 0.3838 - val_accuracy: 0.3473\n",
            "Epoch 4/5\n",
            "17120/17120 [==============================] - 67s 4ms/step - loss: 0.3835 - accuracy: 0.3454 - val_loss: 0.3853 - val_accuracy: 0.3470\n",
            "Epoch 5/5\n",
            "17120/17120 [==============================] - 67s 4ms/step - loss: 0.3829 - accuracy: 0.3444 - val_loss: 0.3835 - val_accuracy: 0.2957\n"
          ]
        }
      ],
      "source": [
        "# Define the activation functions to test\n",
        "import matplotlib.pyplot as plt\n",
        "\n",
        "# Define the activation functions to test\n",
        "activation_functions = ['relu', 'sigmoid', 'tanh', 'elu']\n",
        "\n",
        "val_scores = {}\n",
        "\n",
        "for activation in activation_functions:\n",
        "    model_A = keras.models.Sequential([\n",
        "        keras.layers.Dense(80, activation=activation, input_shape=X_train.shape[1:])\n",
        "    ])\n",
        "\n",
        "    # Add 29 more layers with the same activation function\n",
        "    for i in range(4):\n",
        "        model_A.add(keras.layers.Dense(80, activation=activation))\n",
        "\n",
        "    model_A.add(keras.layers.Dense(6, activation='softmax'))\n",
        "\n",
        "    model_A.compile(optimizer=keras.optimizers.Adam(learning_rate=0.001), loss='binary_crossentropy', metrics=['accuracy'])\n",
        "\n",
        "    history = model_A.fit(X_train, y_train, epochs=5, batch_size=23, validation_data=(X_valid, y_valid), verbose=1)\n",
        "\n",
        "    val_scores[activation] = history.history['val_loss'][-1]"
      ]
    },
    {
      "cell_type": "code",
      "execution_count": null,
      "metadata": {
        "colab": {
          "base_uri": "https://localhost:8080/",
          "height": 452
        },
        "id": "KJ8dVCRY_DRo",
        "outputId": "e181842e-c11b-45d7-a611-38c6bdf6e2d6"
      },
      "outputs": [
        {
          "data": {
            "image/png": "[encoded data removed]",
            "text/plain": [
              "<Figure size 640x480 with 1 Axes>"
            ]
          },
          "metadata": {},
          "output_type": "display_data"
        }
      ],
      "source": [
        "# Plot the validation scores for each activation function\n",
        "plt.bar(range(len(val_scores)), list(val_scores.values()), align='center')\n",
        "plt.xticks(range(len(val_scores)), list(val_scores.keys()))\n",
        "plt.xlabel('Activation Function')\n",
        "plt.ylabel('Validation Loss')\n",
        "plt.show()"
      ]
    },
    {
      "cell_type": "code",
      "execution_count": null,
      "metadata": {
        "colab": {
          "base_uri": "https://localhost:8080/"
        },
        "id": "28F1SFJw_DU9",
        "outputId": "3702d99d-5e79-4746-b141-3ed44e26c674"
      },
      "outputs": [
        {
          "name": "stdout",
          "output_type": "stream",
          "text": [
            "Epoch 1/5\n",
            "12305/12305 [==============================] - 49s 4ms/step - loss: 0.7508 - accuracy: 0.3282 - val_loss: 0.3810 - val_accuracy: 0.3496\n",
            "Epoch 2/5\n",
            "12305/12305 [==============================] - 46s 4ms/step - loss: 0.3820 - accuracy: 0.3477 - val_loss: 0.3811 - val_accuracy: 0.3512\n",
            "Epoch 3/5\n",
            "12305/12305 [==============================] - 46s 4ms/step - loss: 0.3818 - accuracy: 0.3483 - val_loss: 0.3811 - val_accuracy: 0.3512\n",
            "Epoch 4/5\n",
            "12305/12305 [==============================] - 46s 4ms/step - loss: 0.3818 - accuracy: 0.3486 - val_loss: 0.3808 - val_accuracy: 0.3501\n",
            "Epoch 5/5\n",
            "12305/12305 [==============================] - 46s 4ms/step - loss: 0.3815 - accuracy: 0.3487 - val_loss: 0.3808 - val_accuracy: 0.3504\n"
          ]
        }
      ],
      "source": [
        "x_train = train_f\n",
        "y_train = np.array(train[['rating']])\n",
        "\n",
        "X_train_full, X_test, y_train_full, y_test = train_test_split(x_train, y_train)\n",
        "X_train, X_valid, y_train, y_valid = train_test_split(X_train_full, y_train_full)\n",
        "\n",
        "train_f = pd.concat([ pd.DataFrame(text_data)], axis=1)\n",
        "\n",
        "model_R = keras.models.Sequential([\n",
        "    keras.layers.Flatten(input_shape=x_train.shape[1:]),\n",
        "    keras.layers.Dense(80, activation=\"relu\"),\n",
        "    keras.layers.Dense(80, activation=\"relu\"),\n",
        "    keras.layers.Dense(80, activation=\"relu\"),\n",
        "    keras.layers.Dense(80, activation=\"relu\"),\n",
        "    keras.layers.Dense(6, activation=\"softmax\")\n",
        "])\n",
        "model_R.compile(optimizer=Adam(learning_rate=0.001), loss='binary_crossentropy', metrics=['accuracy'])\n",
        "\n",
        "y_train = to_categorical(y_train)\n",
        "y_valid = to_categorical(y_valid)\n",
        "y_test = to_categorical(y_test)\n",
        "\n",
        "history = model_R.fit(X_train, y_train, epochs=5, validation_data=(X_valid, y_valid))"
      ]
    },
    {
      "cell_type": "code",
      "execution_count": null,
      "metadata": {
        "id": "rtEP9oLw_DX_"
      },
      "outputs": [],
      "source": [
        "test['review_text_clean']=test['review_text'].apply(lambda x:nfx.remove_custom_pattern(x,term_pattern=r'$&\\+'))\n",
        "test['review_text_clean']=test['review_text_clean'].apply(lambda x:nfx.remove_custom_pattern(x,term_pattern=r'\\n'))\n",
        "test['review_text_clean']=test['review_text_clean'].apply(nfx.remove_special_characters)\n",
        "test['review_text_clean']=test['review_text_clean'].apply(nfx.remove_multiple_spaces)\n",
        "test['review_text_clean']=test['review_text_clean'].apply(nfx.remove_stopwords)"
      ]
    },
    {
      "cell_type": "code",
      "execution_count": null,
      "metadata": {
        "colab": {
          "base_uri": "https://localhost:8080/"
        },
        "id": "mzWQhXETFdTu",
        "outputId": "94b28ebf-940e-465f-9c53-f00d94c9c847"
      },
      "outputs": [
        {
          "name": "stdout",
          "output_type": "stream",
          "text": [
            "6250/6250 [==============================] - 9s 1ms/step\n"
          ]
        },
        {
          "data": {
            "text/plain": [
              "array([4, 4, 4, ..., 4, 4, 4])"
            ]
          },
          "execution_count": 24,
          "metadata": {},
          "output_type": "execute_result"
        }
      ],
      "source": [
        "#deal test (y_predit)\n",
        "max_words = 10000\n",
        "max_len = 110\n",
        "tokenizer = Tokenizer(num_words=max_words)\n",
        "tokenizer.fit_on_texts(test['review_text_clean']) # lemmatized_text is a list of strings\n",
        "sequences = tokenizer.texts_to_sequences(test['review_text_clean'])\n",
        "text_data_test = pad_sequences(sequences,maxlen=max_len)\n",
        "\n",
        "Y_testdata= pd.concat([pd.DataFrame(text_data_test)], axis=1)\n",
        "\n",
        "Y_pred=model_R.predict(Y_testdata)\n",
        "Y_predit_convert=np.argmax(Y_pred,axis=-1)\n",
        "Y_predit_convert"
      ]
    },
    {
      "cell_type": "code",
      "execution_count": null,
      "metadata": {
        "colab": {
          "base_uri": "https://localhost:8080/"
        },
        "id": "_zD5xdSXnczb",
        "outputId": "5a4d1fe1-2909-48af-ad7a-12a9fc9bdd9d"
      },
      "outputs": [
        {
          "data": {
            "text/plain": [
              "0.1628110484580208"
            ]
          },
          "execution_count": 25,
          "metadata": {},
          "output_type": "execute_result"
        }
      ],
      "source": [
        "std_dev=np.std(Y_predit_convert)\n",
        "std_dev"
      ]
    },
    {
      "cell_type": "markdown",
      "metadata": {
        "id": "wg34qsZ4tK2t"
      },
      "source": [
        "# Complex Neural Network Models:\n",
        "\n",
        "I have prominently used 3 Complex Neural Network Models namely, Recurrent Neural Network Model (RNN), Long Short-Term Models (LSTMs) and Bidirectional Encoder Representations from Transformer (BERT)."
      ]
    },
    {
      "cell_type": "markdown",
      "metadata": {
        "id": "wDnOWtG56CuM"
      },
      "source": [
        "## RNN\n",
        "\n",
        "Recurrent Neural Network Model (RNN): it is a type of neural network designed to handle sequential data as against the neural networks which process data in a fixed sequence of layers. I found it difficult to find the parameters to tune the model however, I was successful in generating a decent output for the same."
      ]
    },
    {
      "cell_type": "code",
      "execution_count": null,
      "metadata": {
        "id": "YgTkqW7N6BxW"
      },
      "outputs": [],
      "source": [
        "import random\n",
        "import numpy as np\n",
        "import pandas as pd\n",
        "import seaborn as sns\n",
        "import matplotlib.pyplot as plt"
      ]
    },
    {
      "cell_type": "code",
      "execution_count": null,
      "metadata": {
        "id": "vQxXKjyd6B1g"
      },
      "outputs": [],
      "source": [
        "train = pd.read_csv(\"/content/drive/MyDrive/Dataset/training_set_preprocessed_str.csv\")\n",
        "test = pd.read_csv(\"/content/drive/MyDrive/Dataset/testing_set_preprocessed_str.csv\")"
      ]
    },
    {
      "cell_type": "code",
      "execution_count": null,
      "metadata": {
        "colab": {
          "base_uri": "https://localhost:8080/",
          "height": 206
        },
        "id": "yH4Ojir5tftt",
        "outputId": "1d6d599f-b116-411f-bb35-1c4bd9c88100"
      },
      "outputs": [
        {
          "data": {
            "text/html": [
              "\n",
              "  <div id=\"df-835905d1-f05d-452f-b88a-27ef35ab4fd8\">\n",
              "    <div class=\"colab-df-container\">\n",
              "      <div>\n",
              "<style scoped>\n",
              "    .dataframe tbody tr th:only-of-type {\n",
              "        vertical-align: middle;\n",
              "    }\n",
              "\n",
              "    .dataframe tbody tr th {\n",
              "        vertical-align: top;\n",
              "    }\n",
              "\n",
              "    .dataframe thead th {\n",
              "        text-align: right;\n",
              "    }\n",
              "</style>\n",
              "<table border=\"1\" class=\"dataframe\">\n",
              "  <thead>\n",
              "    <tr style=\"text-align: right;\">\n",
              "      <th></th>\n",
              "      <th>review_text_clean</th>\n",
              "      <th>rating</th>\n",
              "      <th>book_id</th>\n",
              "      <th>n_votes</th>\n",
              "      <th>n_comments</th>\n",
              "      <th>lemmatized_text</th>\n",
              "    </tr>\n",
              "  </thead>\n",
              "  <tbody>\n",
              "    <tr>\n",
              "      <th>0</th>\n",
              "      <td>thought good historical fantasy set new york c...</td>\n",
              "      <td>5</td>\n",
              "      <td>182091851</td>\n",
              "      <td>5</td>\n",
              "      <td>6</td>\n",
              "      <td>['thought', 'good', 'historical', 'fantasy', '...</td>\n",
              "    </tr>\n",
              "    <tr>\n",
              "      <th>1</th>\n",
              "      <td>35 stars rounded cant help dont connect theo p...</td>\n",
              "      <td>3</td>\n",
              "      <td>195643271</td>\n",
              "      <td>0</td>\n",
              "      <td>0</td>\n",
              "      <td>['star', 'round', 'cant', 'help', 'dont', 'con...</td>\n",
              "    </tr>\n",
              "    <tr>\n",
              "      <th>2</th>\n",
              "      <td>read wasp factory scottish literature class ye...</td>\n",
              "      <td>2</td>\n",
              "      <td>1876765</td>\n",
              "      <td>0</td>\n",
              "      <td>0</td>\n",
              "      <td>['read', 'wasp', 'factory', 'scottish', 'liter...</td>\n",
              "    </tr>\n",
              "    <tr>\n",
              "      <th>3</th>\n",
              "      <td>unexpected read venture world contemporary rom...</td>\n",
              "      <td>5</td>\n",
              "      <td>100833271</td>\n",
              "      <td>0</td>\n",
              "      <td>0</td>\n",
              "      <td>['unexpected', 'read', 'venture', 'world', 'co...</td>\n",
              "    </tr>\n",
              "    <tr>\n",
              "      <th>4</th>\n",
              "      <td>dnf 49 dont know expecting bookmaybe dealing s...</td>\n",
              "      <td>1</td>\n",
              "      <td>133218621</td>\n",
              "      <td>0</td>\n",
              "      <td>0</td>\n",
              "      <td>['dnf', 'dont', 'know', 'expect', 'bookmaybe',...</td>\n",
              "    </tr>\n",
              "  </tbody>\n",
              "</table>\n",
              "</div>\n",
              "      <button class=\"colab-df-convert\" onclick=\"convertToInteractive('df-835905d1-f05d-452f-b88a-27ef35ab4fd8')\"\n",
              "              title=\"Convert this dataframe to an interactive table.\"\n",
              "              style=\"display:none;\">\n",
              "        \n",
              "  <svg xmlns=\"http://www.w3.org/2000/svg\" height=\"24px\"viewBox=\"0 0 24 24\"\n",
              "       width=\"24px\">\n",
              "    <path d=\"M0 0h24v24H0V0z\" fill=\"none\"/>\n",
              "    <path d=\"M18.56 5.44l.94 2.06.94-2.06 2.06-.94-2.06-.94-.94-2.06-.94 2.06-2.06.94zm-11 1L8.5 8.5l.94-2.06 2.06-.94-2.06-.94L8.5 2.5l-.94 2.06-2.06.94zm10 10l.94 2.06.94-2.06 2.06-.94-2.06-.94-.94-2.06-.94 2.06-2.06.94z\"/><path d=\"M17.41 7.96l-1.37-1.37c-.4-.4-.92-.59-1.43-.59-.52 0-1.04.2-1.43.59L10.3 9.45l-7.72 7.72c-.78.78-.78 2.05 0 2.83L4 21.41c.39.39.9.59 1.41.59.51 0 1.02-.2 1.41-.59l7.78-7.78 2.81-2.81c.8-.78.8-2.07 0-2.86zM5.41 20L4 18.59l7.72-7.72 1.47 1.35L5.41 20z\"/>\n",
              "  </svg>\n",
              "      </button>\n",
              "      \n",
              "  <style>\n",
              "    .colab-df-container {\n",
              "      display:flex;\n",
              "      flex-wrap:wrap;\n",
              "      gap: 12px;\n",
              "    }\n",
              "\n",
              "    .colab-df-convert {\n",
              "      background-color: #E8F0FE;\n",
              "      border: none;\n",
              "      border-radius: 50%;\n",
              "      cursor: pointer;\n",
              "      display: none;\n",
              "      fill: #1967D2;\n",
              "      height: 32px;\n",
              "      padding: 0 0 0 0;\n",
              "      width: 32px;\n",
              "    }\n",
              "\n",
              "    .colab-df-convert:hover {\n",
              "      background-color: #E2EBFA;\n",
              "      box-shadow: 0px 1px 2px rgba(60, 64, 67, 0.3), 0px 1px 3px 1px rgba(60, 64, 67, 0.15);\n",
              "      fill: #174EA6;\n",
              "    }\n",
              "\n",
              "    [theme=dark] .colab-df-convert {\n",
              "      background-color: #3B4455;\n",
              "      fill: #D2E3FC;\n",
              "    }\n",
              "\n",
              "    [theme=dark] .colab-df-convert:hover {\n",
              "      background-color: #434B5C;\n",
              "      box-shadow: 0px 1px 3px 1px rgba(0, 0, 0, 0.15);\n",
              "      filter: drop-shadow(0px 1px 2px rgba(0, 0, 0, 0.3));\n",
              "      fill: #FFFFFF;\n",
              "    }\n",
              "  </style>\n",
              "\n",
              "      <script>\n",
              "        const buttonEl =\n",
              "          document.querySelector('#df-835905d1-f05d-452f-b88a-27ef35ab4fd8 button.colab-df-convert');\n",
              "        buttonEl.style.display =\n",
              "          google.colab.kernel.accessAllowed ? 'block' : 'none';\n",
              "\n",
              "        async function convertToInteractive(key) {\n",
              "          const element = document.querySelector('#df-835905d1-f05d-452f-b88a-27ef35ab4fd8');\n",
              "          const dataTable =\n",
              "            await google.colab.kernel.invokeFunction('convertToInteractive',\n",
              "                                                     [key], {});\n",
              "          if (!dataTable) return;\n",
              "\n",
              "          const docLinkHtml = 'Like what you see? Visit the ' +\n",
              "            '<a target=\"_blank\" href=https://colab.research.google.com/notebooks/data_table.ipynb>data table notebook</a>'\n",
              "            + ' to learn more about interactive tables.';\n",
              "          element.innerHTML = '';\n",
              "          dataTable['output_type'] = 'display_data';\n",
              "          await google.colab.output.renderOutput(dataTable, element);\n",
              "          const docLink = document.createElement('div');\n",
              "          docLink.innerHTML = docLinkHtml;\n",
              "          element.appendChild(docLink);\n",
              "        }\n",
              "      </script>\n",
              "    </div>\n",
              "  </div>\n",
              "  "
            ],
            "text/plain": [
              "                                   review_text_clean  rating    book_id  \\\n",
              "0  thought good historical fantasy set new york c...       5  182091851   \n",
              "1  35 stars rounded cant help dont connect theo p...       3  195643271   \n",
              "2  read wasp factory scottish literature class ye...       2    1876765   \n",
              "3  unexpected read venture world contemporary rom...       5  100833271   \n",
              "4  dnf 49 dont know expecting bookmaybe dealing s...       1  133218621   \n",
              "\n",
              "   n_votes  n_comments                                    lemmatized_text  \n",
              "0        5           6  ['thought', 'good', 'historical', 'fantasy', '...  \n",
              "1        0           0  ['star', 'round', 'cant', 'help', 'dont', 'con...  \n",
              "2        0           0  ['read', 'wasp', 'factory', 'scottish', 'liter...  \n",
              "3        0           0  ['unexpected', 'read', 'venture', 'world', 'co...  \n",
              "4        0           0  ['dnf', 'dont', 'know', 'expect', 'bookmaybe',...  "
            ]
          },
          "execution_count": 3,
          "metadata": {},
          "output_type": "execute_result"
        }
      ],
      "source": [
        "train.head()"
      ]
    },
    {
      "cell_type": "code",
      "execution_count": null,
      "metadata": {
        "colab": {
          "base_uri": "https://localhost:8080/"
        },
        "id": "lgGpGIPvti9J",
        "outputId": "578349d3-ef44-42d9-f753-aafdfaea46e9"
      },
      "outputs": [
        {
          "data": {
            "text/plain": [
              "array([5, 3, 2, 1, 4])"
            ]
          },
          "execution_count": 4,
          "metadata": {},
          "output_type": "execute_result"
        }
      ],
      "source": [
        "train['rating'].unique()"
      ]
    },
    {
      "cell_type": "code",
      "execution_count": null,
      "metadata": {
        "id": "TFP00Add6B-q"
      },
      "outputs": [],
      "source": [
        "from tensorflow.keras.layers import Input, Dense, Embedding, Concatenate, Flatten\n",
        "from tensorflow.keras.models import Model\n",
        "from tensorflow.keras.preprocessing.text import Tokenizer\n",
        "from sklearn.preprocessing import LabelEncoder\n",
        "from tensorflow.keras.preprocessing.sequence import pad_sequences\n",
        "import tensorflow as tf\n",
        "from sklearn.model_selection import train_test_split\n",
        "from keras.layers import SimpleRNN"
      ]
    },
    {
      "cell_type": "code",
      "execution_count": null,
      "metadata": {
        "id": "k38D-isz6Z1B"
      },
      "outputs": [],
      "source": [
        "max_words = 10000\n",
        "max_len = 500\n",
        "tokenizer = Tokenizer(num_words=max_words)\n",
        "tokenizer.fit_on_texts(train['lemmatized_text']) # lemmatized_text is a list of strings\n",
        "sequences = tokenizer.texts_to_sequences(train['lemmatized_text'])\n",
        "text_data = pad_sequences(sequences,maxlen=max_len)"
      ]
    },
    {
      "cell_type": "code",
      "execution_count": null,
      "metadata": {
        "id": "ZzX_Mgv46Z3_"
      },
      "outputs": [],
      "source": [
        "train_f = pd.concat([ pd.DataFrame(text_data)], axis=1)"
      ]
    },
    {
      "cell_type": "code",
      "execution_count": null,
      "metadata": {
        "id": "Gxqb1lSC6Z6s"
      },
      "outputs": [],
      "source": [
        "x_train = train_f\n",
        "y_train = np.array(train[['rating']])"
      ]
    },
    {
      "cell_type": "code",
      "execution_count": null,
      "metadata": {
        "id": "2EgnbQLL6Z9t"
      },
      "outputs": [],
      "source": [
        "X_train_full, X_test, y_train_full, y_test = train_test_split(x_train, y_train)\n",
        "X_train, X_valid, y_train, y_valid = train_test_split(X_train_full, y_train_full)"
      ]
    },
    {
      "cell_type": "code",
      "execution_count": null,
      "metadata": {
        "colab": {
          "base_uri": "https://localhost:8080/"
        },
        "id": "CeD7U9Hc7h2q",
        "outputId": "8b5a0f4c-8f12-4cef-f6ba-a9d94e07eed5"
      },
      "outputs": [
        {
          "name": "stdout",
          "output_type": "stream",
          "text": [
            "Model: \"sequential\"\n",
            "_________________________________________________________________\n",
            " Layer (type)                Output Shape              Param #   \n",
            "=================================================================\n",
            " simple_rnn (SimpleRNN)      (None, None, 20)          440       \n",
            "                                                                 \n",
            " simple_rnn_1 (SimpleRNN)    (None, None, 20)          820       \n",
            "                                                                 \n",
            " simple_rnn_2 (SimpleRNN)    (None, 6)                 162       \n",
            "                                                                 \n",
            "=================================================================\n",
            "Total params: 1,422\n",
            "Trainable params: 1,422\n",
            "Non-trainable params: 0\n",
            "_________________________________________________________________\n"
          ]
        }
      ],
      "source": [
        "from tensorflow import keras\n",
        "from tensorflow.keras.optimizers import Adam\n",
        "from tensorflow.keras.utils import to_categorical\n",
        "\n",
        "y_train = tf.keras.utils.to_categorical(y_train,num_classes=6)\n",
        "y_valid = tf.keras.utils.to_categorical(y_valid,num_classes=6)\n",
        "y_test = tf.keras.utils.to_categorical(y_test,num_classes=6)\n",
        "\n",
        "\n",
        "X_train=np.expand_dims(X_train,-1)\n",
        "X_test=np.expand_dims(X_test,-1)\n",
        "X_valid=np.expand_dims(X_valid,-1)\n",
        "\n",
        "model = keras.models.Sequential([\n",
        "keras.layers.SimpleRNN(20, return_sequences=True, input_shape=[None, 1]),\n",
        "keras.layers.SimpleRNN(20, return_sequences=True),\n",
        "keras.layers.SimpleRNN(6)\n",
        "])\n",
        "\n",
        "model.compile(optimizer=Adam(), loss='categorical_crossentropy', metrics=['accuracy'])\n",
        "model.summary()"
      ]
    },
    {
      "cell_type": "code",
      "execution_count": null,
      "metadata": {
        "id": "nyu_0T1m8qew"
      },
      "outputs": [],
      "source": [
        "#batch_size = 100\n",
        "#print(\"Batch Size: {}\".format(batch_size))\n",
        "#history = model.fit(X_train, y_train, epochs=5, batch_size=batch_size, validation_data=(X_valid, y_valid))"
      ]
    },
    {
      "cell_type": "code",
      "execution_count": null,
      "metadata": {
        "id": "0AlPMhHM9Erp"
      },
      "outputs": [],
      "source": [
        "#pd.DataFrame(history.history).plot(figsize=(8, 5))\n",
        "#plt.grid(True)\n",
        "#plt.gca().set_ylim(0, 1) # set the vertical range to [0-1] plt.show()"
      ]
    },
    {
      "cell_type": "code",
      "execution_count": null,
      "metadata": {
        "id": "SirbMbFZ9HKo"
      },
      "outputs": [],
      "source": [
        "from tensorflow.keras.utils import to_categorical\n",
        "test_loss, test_acc = model.evaluate(X_test, y_test)\n",
        "test_acc"
      ]
    },
    {
      "cell_type": "code",
      "execution_count": null,
      "metadata": {
        "id": "bI0avMRZmIxu"
      },
      "outputs": [],
      "source": [
        "model.save('/content/drive/MyDrive/Dataset/RNN_model_5.h5')"
      ]
    },
    {
      "cell_type": "code",
      "execution_count": null,
      "metadata": {
        "id": "q5xPCEUAmysW"
      },
      "outputs": [],
      "source": [
        "import keras\n",
        "from keras.models import load_model\n",
        "model = load_model('/content/drive/MyDrive/Dataset/RNN_model_5.h5')"
      ]
    },
    {
      "cell_type": "code",
      "execution_count": null,
      "metadata": {
        "colab": {
          "base_uri": "https://localhost:8080/"
        },
        "id": "SnzqcsibcaY1",
        "outputId": "9a1a3727-b5f4-4d21-dd19-901235cb9ac4"
      },
      "outputs": [
        {
          "name": "stdout",
          "output_type": "stream",
          "text": [
            "6250/6250 [==============================] - 697s 111ms/step\n"
          ]
        },
        {
          "data": {
            "text/plain": [
              "array([2, 1, 2, ..., 1, 2, 2])"
            ]
          },
          "execution_count": 18,
          "metadata": {},
          "output_type": "execute_result"
        }
      ],
      "source": [
        "#deal test (y_predit)\n",
        "max_words = 10000\n",
        "max_len = 500\n",
        "tokenizer = Tokenizer(num_words=max_words)\n",
        "tokenizer.fit_on_texts(test['lemmatized_text']) # lemmatized_text is a list of strings\n",
        "sequences = tokenizer.texts_to_sequences(test['lemmatized_text'])\n",
        "text_data_test = pad_sequences(sequences,maxlen=max_len)\n",
        "\n",
        "Y_testdata= pd.concat([pd.DataFrame(text_data_test)], axis=1)\n",
        "\n",
        "Y_pred=model.predict(Y_testdata)\n",
        "Y_predit_convert=np.argmax(Y_pred,axis=-1)\n",
        "Y_predit_convert"
      ]
    },
    {
      "cell_type": "code",
      "execution_count": null,
      "metadata": {
        "colab": {
          "base_uri": "https://localhost:8080/"
        },
        "id": "Cb3vx5KEnnU_",
        "outputId": "97443e5d-8464-44ca-b776-6ae035d7be35"
      },
      "outputs": [
        {
          "data": {
            "text/plain": [
              "0.2996395851268654"
            ]
          },
          "execution_count": 19,
          "metadata": {},
          "output_type": "execute_result"
        }
      ],
      "source": [
        "std_dev=np.std(Y_predit_convert)\n",
        "std_dev"
      ]
    },
    {
      "cell_type": "code",
      "execution_count": null,
      "metadata": {
        "id": "CE6Ybd-wbVzD"
      },
      "outputs": [],
      "source": [
        "test['rating']= Y_predit_convert\n",
        "df_output=test[['review_id','rating']]\n",
        "df_output.to_csv(\"/content/drive/MyDrive/Dataset/RNN.csv\",index=False)"
      ]
    },
    {
      "cell_type": "markdown",
      "metadata": {
        "id": "u95TvTnW88_U"
      },
      "source": [
        "#GRU\n",
        "\n",
        "I've been working with Gated Recurrent Units (GRUs), which are essentially a variant of Recurrent Neural Networks designed to handle sequential data, like text and speech. They're similar to LSTMs because they also use gating mechanisms to control the flow of information through the network. However, in my experience, I've noticed that the performance of the model depends on several factors, such as the quantity/size of the input data and the choice of parameters/hyperparameters, among others."
      ]
    },
    {
      "cell_type": "code",
      "execution_count": null,
      "metadata": {
        "id": "LkZJMIEq8-56"
      },
      "outputs": [],
      "source": [
        "\n",
        "import pandas as pd\n",
        "import numpy as np\n",
        "import tensorflow as tf\n",
        "from tensorflow.keras.preprocessing.text import Tokenizer\n",
        "from tensorflow.keras.preprocessing.sequence import pad_sequences\n",
        "from tensorflow.keras.layers import Input, Embedding, GRU, Dense, Dropout\n",
        "from tensorflow.keras.models import Sequential\n",
        "import matplotlib.pyplot as plt"
      ]
    },
    {
      "cell_type": "code",
      "execution_count": null,
      "metadata": {
        "id": "-jvTVYjM9hSb"
      },
      "outputs": [],
      "source": [
        "train = pd.read_csv(\"/content/drive/MyDrive/my_goodreads_train.csv\")\n",
        "test = pd.read_csv(\"/content/drive/MyDrive/my_goodreads_test.csv\")"
      ]
    },
    {
      "cell_type": "code",
      "execution_count": null,
      "metadata": {
        "colab": {
          "base_uri": "https://localhost:8080/",
          "height": 617
        },
        "id": "YkIbZh2VbeeU",
        "outputId": "c52b6eb7-6bc9-4b5c-9453-bf5088443fe6"
      },
      "outputs": [
        {
          "data": {
            "text/html": [
              "\n",
              "  <div id=\"df-e23336e7-ac71-4616-a1bf-99ab8170e8a8\">\n",
              "    <div class=\"colab-df-container\">\n",
              "      <div>\n",
              "<style scoped>\n",
              "    .dataframe tbody tr th:only-of-type {\n",
              "        vertical-align: middle;\n",
              "    }\n",
              "\n",
              "    .dataframe tbody tr th {\n",
              "        vertical-align: top;\n",
              "    }\n",
              "\n",
              "    .dataframe thead th {\n",
              "        text-align: right;\n",
              "    }\n",
              "</style>\n",
              "<table border=\"1\" class=\"dataframe\">\n",
              "  <thead>\n",
              "    <tr style=\"text-align: right;\">\n",
              "      <th></th>\n",
              "      <th>user_id</th>\n",
              "      <th>book_id</th>\n",
              "      <th>review_id</th>\n",
              "      <th>rating</th>\n",
              "      <th>review_text</th>\n",
              "      <th>date_added</th>\n",
              "      <th>date_updated</th>\n",
              "      <th>read_at</th>\n",
              "      <th>started_at</th>\n",
              "      <th>n_votes</th>\n",
              "      <th>n_comments</th>\n",
              "    </tr>\n",
              "  </thead>\n",
              "  <tbody>\n",
              "    <tr>\n",
              "      <th>0</th>\n",
              "      <td>1da3dcc13cf360b9ecb06251e86237535</td>\n",
              "      <td>182091851</td>\n",
              "      <td>1c949b5dedf860514ec8b97ad158c9f4f</td>\n",
              "      <td>5</td>\n",
              "      <td>I thought this was a very good historical fant...</td>\n",
              "      <td>Fri Feb 01 16:44:16 -0800 2013</td>\n",
              "      <td>Tue Oct 25 18:49:25 -0700 2016</td>\n",
              "      <td>Sat May 04 00:00:00 -0700 2013</td>\n",
              "      <td>Thu Apr 25 00:00:00 -0700 2013</td>\n",
              "      <td>5</td>\n",
              "      <td>6</td>\n",
              "    </tr>\n",
              "    <tr>\n",
              "      <th>1</th>\n",
              "      <td>1ae436441b6153473ef907aed1006a159</td>\n",
              "      <td>1451461</td>\n",
              "      <td>112ee86a20d7e4308c0a054f8b03128cd</td>\n",
              "      <td>5</td>\n",
              "      <td>I've had this book recommended to me more than...</td>\n",
              "      <td>Sun Nov 08 12:10:16 -0800 2015</td>\n",
              "      <td>Sun Nov 08 12:24:59 -0800 2015</td>\n",
              "      <td>Tue May 05 00:00:00 -0700 2015</td>\n",
              "      <td>Sun May 03 00:00:00 -0700 2015</td>\n",
              "      <td>0</td>\n",
              "      <td>0</td>\n",
              "    </tr>\n",
              "    <tr>\n",
              "      <th>2</th>\n",
              "      <td>1aa5e9d859b0c0737f4b99a07edf19c88</td>\n",
              "      <td>13483572</td>\n",
              "      <td>1253729b67f301b75a0f26e85f6d6fb31</td>\n",
              "      <td>5</td>\n",
              "      <td>Seriously! You go and throw that twist into th...</td>\n",
              "      <td>Wed Oct 10 02:07:19 -0700 2012</td>\n",
              "      <td>Sat Apr 27 00:40:19 -0700 2013</td>\n",
              "      <td>Sat Apr 27 00:40:19 -0700 2013</td>\n",
              "      <td>Thu Apr 25 00:00:00 -0700 2013</td>\n",
              "      <td>0</td>\n",
              "      <td>0</td>\n",
              "    </tr>\n",
              "    <tr>\n",
              "      <th>3</th>\n",
              "      <td>1940c22aba67c3d49ccd37891c52c9f51</td>\n",
              "      <td>131585171</td>\n",
              "      <td>1ae0005e94dce0dc5c18d6ae2b4a329ab</td>\n",
              "      <td>4</td>\n",
              "      <td>Gosh!!! I'm still not recovering from the effi...</td>\n",
              "      <td>Thu Dec 05 00:45:29 -0800 2013</td>\n",
              "      <td>Thu Dec 05 00:50:17 -0800 2013</td>\n",
              "      <td>Thu Dec 05 00:50:17 -0800 2013</td>\n",
              "      <td>Wed Dec 04 00:00:00 -0800 2013</td>\n",
              "      <td>5</td>\n",
              "      <td>0</td>\n",
              "    </tr>\n",
              "    <tr>\n",
              "      <th>4</th>\n",
              "      <td>15e03534fccd0e7e1849d712ab9e44342</td>\n",
              "      <td>195643271</td>\n",
              "      <td>1d8357d2abdcc656635c5459c1feec761</td>\n",
              "      <td>3</td>\n",
              "      <td>3.5 stars rounded down. I can't help it, I jus...</td>\n",
              "      <td>Wed Mar 15 18:08:14 -0700 2017</td>\n",
              "      <td>Wed Jul 05 12:55:32 -0700 2017</td>\n",
              "      <td>Wed Apr 12 12:17:07 -0700 2017</td>\n",
              "      <td>Tue Apr 11 00:00:00 -0700 2017</td>\n",
              "      <td>0</td>\n",
              "      <td>0</td>\n",
              "    </tr>\n",
              "  </tbody>\n",
              "</table>\n",
              "</div>\n",
              "      <button class=\"colab-df-convert\" onclick=\"convertToInteractive('df-e23336e7-ac71-4616-a1bf-99ab8170e8a8')\"\n",
              "              title=\"Convert this dataframe to an interactive table.\"\n",
              "              style=\"display:none;\">\n",
              "        \n",
              "  <svg xmlns=\"http://www.w3.org/2000/svg\" height=\"24px\"viewBox=\"0 0 24 24\"\n",
              "       width=\"24px\">\n",
              "    <path d=\"M0 0h24v24H0V0z\" fill=\"none\"/>\n",
              "    <path d=\"M18.56 5.44l.94 2.06.94-2.06 2.06-.94-2.06-.94-.94-2.06-.94 2.06-2.06.94zm-11 1L8.5 8.5l.94-2.06 2.06-.94-2.06-.94L8.5 2.5l-.94 2.06-2.06.94zm10 10l.94 2.06.94-2.06 2.06-.94-2.06-.94-.94-2.06-.94 2.06-2.06.94z\"/><path d=\"M17.41 7.96l-1.37-1.37c-.4-.4-.92-.59-1.43-.59-.52 0-1.04.2-1.43.59L10.3 9.45l-7.72 7.72c-.78.78-.78 2.05 0 2.83L4 21.41c.39.39.9.59 1.41.59.51 0 1.02-.2 1.41-.59l7.78-7.78 2.81-2.81c.8-.78.8-2.07 0-2.86zM5.41 20L4 18.59l7.72-7.72 1.47 1.35L5.41 20z\"/>\n",
              "  </svg>\n",
              "      </button>\n",
              "      \n",
              "  <style>\n",
              "    .colab-df-container {\n",
              "      display:flex;\n",
              "      flex-wrap:wrap;\n",
              "      gap: 12px;\n",
              "    }\n",
              "\n",
              "    .colab-df-convert {\n",
              "      background-color: #E8F0FE;\n",
              "      border: none;\n",
              "      border-radius: 50%;\n",
              "      cursor: pointer;\n",
              "      display: none;\n",
              "      fill: #1967D2;\n",
              "      height: 32px;\n",
              "      padding: 0 0 0 0;\n",
              "      width: 32px;\n",
              "    }\n",
              "\n",
              "    .colab-df-convert:hover {\n",
              "      background-color: #E2EBFA;\n",
              "      box-shadow: 0px 1px 2px rgba(60, 64, 67, 0.3), 0px 1px 3px 1px rgba(60, 64, 67, 0.15);\n",
              "      fill: #174EA6;\n",
              "    }\n",
              "\n",
              "    [theme=dark] .colab-df-convert {\n",
              "      background-color: #3B4455;\n",
              "      fill: #D2E3FC;\n",
              "    }\n",
              "\n",
              "    [theme=dark] .colab-df-convert:hover {\n",
              "      background-color: #434B5C;\n",
              "      box-shadow: 0px 1px 3px 1px rgba(0, 0, 0, 0.15);\n",
              "      filter: drop-shadow(0px 1px 2px rgba(0, 0, 0, 0.3));\n",
              "      fill: #FFFFFF;\n",
              "    }\n",
              "  </style>\n",
              "\n",
              "      <script>\n",
              "        const buttonEl =\n",
              "          document.querySelector('#df-e23336e7-ac71-4616-a1bf-99ab8170e8a8 button.colab-df-convert');\n",
              "        buttonEl.style.display =\n",
              "          google.colab.kernel.accessAllowed ? 'block' : 'none';\n",
              "\n",
              "        async function convertToInteractive(key) {\n",
              "          const element = document.querySelector('#df-e23336e7-ac71-4616-a1bf-99ab8170e8a8');\n",
              "          const dataTable =\n",
              "            await google.colab.kernel.invokeFunction('convertToInteractive',\n",
              "                                                     [key], {});\n",
              "          if (!dataTable) return;\n",
              "\n",
              "          const docLinkHtml = 'Like what you see? Visit the ' +\n",
              "            '<a target=\"_blank\" href=https://colab.research.google.com/notebooks/data_table.ipynb>data table notebook</a>'\n",
              "            + ' to learn more about interactive tables.';\n",
              "          element.innerHTML = '';\n",
              "          dataTable['output_type'] = 'display_data';\n",
              "          await google.colab.output.renderOutput(dataTable, element);\n",
              "          const docLink = document.createElement('div');\n",
              "          docLink.innerHTML = docLinkHtml;\n",
              "          element.appendChild(docLink);\n",
              "        }\n",
              "      </script>\n",
              "    </div>\n",
              "  </div>\n",
              "  "
            ],
            "text/plain": [
              "                             user_id    book_id  \\\n",
              "0  1da3dcc13cf360b9ecb06251e86237535  182091851   \n",
              "1  1ae436441b6153473ef907aed1006a159    1451461   \n",
              "2  1aa5e9d859b0c0737f4b99a07edf19c88   13483572   \n",
              "3  1940c22aba67c3d49ccd37891c52c9f51  131585171   \n",
              "4  15e03534fccd0e7e1849d712ab9e44342  195643271   \n",
              "\n",
              "                           review_id  rating  \\\n",
              "0  1c949b5dedf860514ec8b97ad158c9f4f       5   \n",
              "1  112ee86a20d7e4308c0a054f8b03128cd       5   \n",
              "2  1253729b67f301b75a0f26e85f6d6fb31       5   \n",
              "3  1ae0005e94dce0dc5c18d6ae2b4a329ab       4   \n",
              "4  1d8357d2abdcc656635c5459c1feec761       3   \n",
              "\n",
              "                                         review_text  \\\n",
              "0  I thought this was a very good historical fant...   \n",
              "1  I've had this book recommended to me more than...   \n",
              "2  Seriously! You go and throw that twist into th...   \n",
              "3  Gosh!!! I'm still not recovering from the effi...   \n",
              "4  3.5 stars rounded down. I can't help it, I jus...   \n",
              "\n",
              "                       date_added                    date_updated  \\\n",
              "0  Fri Feb 01 16:44:16 -0800 2013  Tue Oct 25 18:49:25 -0700 2016   \n",
              "1  Sun Nov 08 12:10:16 -0800 2015  Sun Nov 08 12:24:59 -0800 2015   \n",
              "2  Wed Oct 10 02:07:19 -0700 2012  Sat Apr 27 00:40:19 -0700 2013   \n",
              "3  Thu Dec 05 00:45:29 -0800 2013  Thu Dec 05 00:50:17 -0800 2013   \n",
              "4  Wed Mar 15 18:08:14 -0700 2017  Wed Jul 05 12:55:32 -0700 2017   \n",
              "\n",
              "                          read_at                      started_at  n_votes  \\\n",
              "0  Sat May 04 00:00:00 -0700 2013  Thu Apr 25 00:00:00 -0700 2013        5   \n",
              "1  Tue May 05 00:00:00 -0700 2015  Sun May 03 00:00:00 -0700 2015        0   \n",
              "2  Sat Apr 27 00:40:19 -0700 2013  Thu Apr 25 00:00:00 -0700 2013        0   \n",
              "3  Thu Dec 05 00:50:17 -0800 2013  Wed Dec 04 00:00:00 -0800 2013        5   \n",
              "4  Wed Apr 12 12:17:07 -0700 2017  Tue Apr 11 00:00:00 -0700 2017        0   \n",
              "\n",
              "   n_comments  \n",
              "0           6  \n",
              "1           0  \n",
              "2           0  \n",
              "3           0  \n",
              "4           0  "
            ]
          },
          "execution_count": 6,
          "metadata": {},
          "output_type": "execute_result"
        }
      ],
      "source": [
        "train.head()"
      ]
    },
    {
      "cell_type": "code",
      "execution_count": null,
      "metadata": {
        "id": "s7Cfb7xlGH4o"
      },
      "outputs": [],
      "source": [
        "!pip install neattext"
      ]
    },
    {
      "cell_type": "code",
      "execution_count": null,
      "metadata": {
        "id": "ROskMbToGIVv"
      },
      "outputs": [],
      "source": [
        "import neattext as nt\n",
        "import neattext.functions as nfx"
      ]
    },
    {
      "cell_type": "code",
      "execution_count": null,
      "metadata": {
        "id": "5ctYU74YGM24"
      },
      "outputs": [],
      "source": [
        "#removing custom patterns like $&\\+\n",
        "train['review_text_clean']=train['review_text'].apply(lambda x:nfx.remove_custom_pattern(x,term_pattern=r'$&\\+'))\n",
        "\n",
        "#removing'\\n'\n",
        "train['review_text_clean']=train['review_text_clean'].apply(lambda x:nfx.remove_custom_pattern(x,term_pattern=r'\\n'))\n",
        "\n",
        "#removing special characters\n",
        "train['review_text_clean']=train['review_text_clean'].apply(nfx.remove_special_characters)\n",
        "\n",
        "#removing multiple spacing\n",
        "train['review_text_clean']=train['review_text_clean'].apply(nfx.remove_multiple_spaces)\n",
        "\n",
        "train['review_text_clean']=train['review_text_clean'].apply(nfx.remove_stopwords)\n"
      ]
    },
    {
      "cell_type": "code",
      "execution_count": null,
      "metadata": {
        "id": "uj3PE7wpGaDl"
      },
      "outputs": [],
      "source": [
        "test['review_text_clean']=test['review_text'].apply(lambda x:nfx.remove_custom_pattern(x,term_pattern=r'$&\\+'))\n",
        "test['review_text_clean']=test['review_text_clean'].apply(lambda x:nfx.remove_custom_pattern(x,term_pattern=r'\\n'))\n",
        "test['review_text_clean']=test['review_text_clean'].apply(nfx.remove_special_characters)\n",
        "test['review_text_clean']=test['review_text_clean'].apply(nfx.remove_multiple_spaces)\n",
        "test['review_text_clean']=test['review_text_clean'].apply(nfx.remove_stopwords)\n"
      ]
    },
    {
      "cell_type": "code",
      "execution_count": null,
      "metadata": {
        "id": "EOvbtA_uc5mk"
      },
      "outputs": [],
      "source": [
        "# Tokenize the text\n",
        "tokenizer = Tokenizer(num_words=5000, oov_token=\"<OOV>\")\n",
        "tokenizer.fit_on_texts(train[\"review_text_clean\"])"
      ]
    },
    {
      "cell_type": "code",
      "execution_count": null,
      "metadata": {
        "id": "Go57GQwxc6Ku"
      },
      "outputs": [],
      "source": [
        "# Convert text to sequences\n",
        "X_train = tokenizer.texts_to_sequences(train[\"review_text_clean\"])\n",
        "X_test = tokenizer.texts_to_sequences(test[\"review_text_clean\"])"
      ]
    },
    {
      "cell_type": "code",
      "execution_count": null,
      "metadata": {
        "id": "2Mv-Thfic9sZ"
      },
      "outputs": [],
      "source": [
        "# Pad sequences to the same length\n",
        "X_train = pad_sequences(X_train, padding=\"post\", maxlen=200)\n",
        "X_test = pad_sequences(X_test, padding=\"post\", maxlen=200)"
      ]
    },
    {
      "cell_type": "code",
      "execution_count": null,
      "metadata": {
        "id": "tlY8G9Qnc_oO"
      },
      "outputs": [],
      "source": [
        "# Define the model\n",
        "from tensorflow.keras.models import Sequential\n",
        "from tensorflow.keras.layers import Dense\n",
        "\n",
        "model = Sequential([\n",
        "    Input(shape=(200,)),\n",
        "    Embedding(5000, 64),\n",
        "    GRU(128, return_sequences=True),\n",
        "    Dropout(0.2),\n",
        "    GRU(64, return_sequences=True),\n",
        "    Dropout(0.2),\n",
        "    GRU(32),\n",
        "    Dropout(0.2),\n",
        "    Dense(6, activation=\"softmax\")\n",
        "])\n"
      ]
    },
    {
      "cell_type": "code",
      "execution_count": null,
      "metadata": {
        "id": "0MOtjr6-dBnd"
      },
      "outputs": [],
      "source": [
        "# Convert ratings to integers\n",
        "train[\"rating\"] = train[\"rating\"].astype(int)"
      ]
    },
    {
      "cell_type": "code",
      "execution_count": null,
      "metadata": {
        "id": "WhdnXd3SdEEw"
      },
      "outputs": [],
      "source": [
        "# Convert ratings to integers\n",
        "y_train = train[\"rating\"].astype(int)"
      ]
    },
    {
      "cell_type": "code",
      "execution_count": null,
      "metadata": {
        "id": "K3GklKjAdF3m"
      },
      "outputs": [],
      "source": [
        "# Compile the model\n",
        "model.compile(loss=\"sparse_categorical_crossentropy\", optimizer=\"adam\", metrics=[\"accuracy\"])\n"
      ]
    },
    {
      "cell_type": "code",
      "execution_count": null,
      "metadata": {
        "colab": {
          "base_uri": "https://localhost:8080/"
        },
        "id": "fa5wEV45dI-W",
        "outputId": "017df4e0-43e4-4284-b9c9-9c4d8755f1e4"
      },
      "outputs": [
        {
          "name": "stdout",
          "output_type": "stream",
          "text": [
            "Epoch 1/10\n",
            "21875/21875 [==============================] - 541s 24ms/step - loss: 1.0873 - accuracy: 0.5228\n",
            "Epoch 2/10\n",
            "21875/21875 [==============================] - 407s 19ms/step - loss: 0.9784 - accuracy: 0.5750\n",
            "Epoch 3/10\n",
            "21875/21875 [==============================] - 398s 18ms/step - loss: 0.9486 - accuracy: 0.5884\n",
            "Epoch 4/10\n",
            "21875/21875 [==============================] - 396s 18ms/step - loss: 0.9256 - accuracy: 0.5994\n",
            "Epoch 5/10\n",
            "21875/21875 [==============================] - 396s 18ms/step - loss: 0.9050 - accuracy: 0.6087\n",
            "Epoch 6/10\n",
            "21875/21875 [==============================] - 395s 18ms/step - loss: 0.8861 - accuracy: 0.6185\n",
            "Epoch 7/10\n",
            "21875/21875 [==============================] - 396s 18ms/step - loss: 0.8694 - accuracy: 0.6264\n",
            "Epoch 8/10\n",
            "21875/21875 [==============================] - 395s 18ms/step - loss: 0.8546 - accuracy: 0.6335\n",
            "Epoch 9/10\n",
            "21875/21875 [==============================] - 394s 18ms/step - loss: 0.8427 - accuracy: 0.6395\n",
            "Epoch 10/10\n",
            "21875/21875 [==============================] - 400s 18ms/step - loss: 0.8346 - accuracy: 0.6434\n"
          ]
        }
      ],
      "source": [
        "# Train the model\n",
        "history = model.fit(X_train, y_train, epochs=10, verbose=1)"
      ]
    },
    {
      "cell_type": "code",
      "execution_count": null,
      "metadata": {
        "colab": {
          "base_uri": "https://localhost:8080/",
          "height": 430
        },
        "id": "zb6zMCkCdLTQ",
        "outputId": "99f3e99a-add3-4185-ffbd-d3d88c64820e"
      },
      "outputs": [
        {
          "data": {
            "image/png": "[encoded data removed]",
            "text/plain": [
              "<Figure size 640x480 with 1 Axes>"
            ]
          },
          "metadata": {},
          "output_type": "display_data"
        }
      ],
      "source": [
        "# Plot the training loss\n",
        "plt.plot(history.history[\"loss\"], label=\"train_loss\")\n",
        "plt.legend()\n",
        "plt.show()"
      ]
    },
    {
      "cell_type": "code",
      "execution_count": null,
      "metadata": {
        "colab": {
          "base_uri": "https://localhost:8080/",
          "height": 430
        },
        "id": "RSkVKRDudLwc",
        "outputId": "43b7ec95-55b0-4302-edd8-7f0dda436fa5"
      },
      "outputs": [
        {
          "data": {
            "image/png": "[encoded data removed]",
            "text/plain": [
              "<Figure size 640x480 with 1 Axes>"
            ]
          },
          "metadata": {},
          "output_type": "display_data"
        }
      ],
      "source": [
        "# Plot the training accuracy\n",
        "plt.plot(history.history[\"accuracy\"], label=\"train_accuracy\")\n",
        "plt.legend()\n",
        "plt.show()"
      ]
    },
    {
      "cell_type": "code",
      "execution_count": null,
      "metadata": {
        "colab": {
          "base_uri": "https://localhost:8080/"
        },
        "id": "eL84tMiCdPdH",
        "outputId": "171ada4a-ae51-4896-aa2f-85ac533b19ee"
      },
      "outputs": [
        {
          "name": "stdout",
          "output_type": "stream",
          "text": [
            "Training accuracy: 0.6675828695297241\n"
          ]
        }
      ],
      "source": [
        "# Evaluate the model on the training set\n",
        "train_loss, train_acc = model.evaluate(X_train, y_train, verbose=0)\n",
        "print(\"Training accuracy:\", train_acc)"
      ]
    },
    {
      "cell_type": "code",
      "execution_count": null,
      "metadata": {
        "colab": {
          "base_uri": "https://localhost:8080/"
        },
        "id": "kV4pVox8dRb_",
        "outputId": "bf6e57a6-2f1d-43b0-faea-96216a02f415"
      },
      "outputs": [
        {
          "name": "stdout",
          "output_type": "stream",
          "text": [
            "6250/6250 [==============================] - 51s 8ms/step\n"
          ]
        }
      ],
      "source": [
        "# Make predictions on the test set\n",
        "predictions = model.predict(X_test)"
      ]
    },
    {
      "cell_type": "code",
      "execution_count": null,
      "metadata": {
        "id": "9WN68xpkAZhx"
      },
      "outputs": [],
      "source": [
        "y_test = test[\"rating\"].astype(int)\n",
        "mse = np.mean((predictions.argmax(axis=1)- y_test)**2)\n",
        "sd = np.std((predictions.argmax(axis=1)- y_test)**2)\n",
        "\n",
        "print(\"MSE\", mse)\n",
        "print(\"SD\", sd)\n"
      ]
    },
    {
      "cell_type": "code",
      "execution_count": null,
      "metadata": {
        "id": "dLCvhWepdTqR"
      },
      "outputs": [],
      "source": [
        "predicted_ratings = np.argmax(predictions, axis=1)"
      ]
    },
    {
      "cell_type": "code",
      "execution_count": null,
      "metadata": {
        "id": "-CczoQU-dWC_"
      },
      "outputs": [],
      "source": [
        "test['predicted_rating'] = predicted_ratings"
      ]
    },
    {
      "cell_type": "code",
      "execution_count": null,
      "metadata": {
        "colab": {
          "base_uri": "https://localhost:8080/"
        },
        "id": "LdK_IayDdUEi",
        "outputId": "84708b09-c795-4850-f9a3-cf03ce14fc0f"
      },
      "outputs": [
        {
          "name": "stdout",
          "output_type": "stream",
          "text": [
            "[3 5 4 4 2 4 4 4 3 3]\n"
          ]
        }
      ],
      "source": [
        "print(predicted_ratings[:10])"
      ]
    },
    {
      "cell_type": "code",
      "execution_count": null,
      "metadata": {
        "id": "n_dwuIYKwJQu"
      },
      "outputs": [],
      "source": []
    },
    {
      "cell_type": "code",
      "execution_count": null,
      "metadata": {
        "id": "4rK-fKqQ7HnZ"
      },
      "outputs": [],
      "source": [
        "df_output=test[['review_id','predicted_rating']]\n",
        "df_output.to_csv(\"/content/drive/MyDrive/GRU.csv\",index=False)"
      ]
    },
    {
      "cell_type": "markdown",
      "metadata": {
        "id": "LGhjDGemTef1"
      },
      "source": [
        "# BERT\n",
        "\n",
        "I used the Bidirectional Encoder Representations from Transformer (BERT), a pre-trained deep learning model, because I found it incredibly effective for language processing tasks. I chose it as I believe it's a powerful tool for handling large amounts of data. However, I also realized that it has a significant drawback: it requires substantial computational resources to train and enhance the model's performance."
      ]
    },
    {
      "cell_type": "code",
      "execution_count": null,
      "metadata": {
        "id": "Wu3mM6k5TgNY"
      },
      "outputs": [],
      "source": [
        "!pip install transformers"
      ]
    },
    {
      "cell_type": "code",
      "execution_count": null,
      "metadata": {
        "id": "BXi104ReTmmq"
      },
      "outputs": [],
      "source": [
        "import pandas as pd\n",
        "import numpy as np\n",
        "from tqdm.auto import tqdm\n",
        "import tensorflow as tf\n",
        "from transformers import BertTokenizer"
      ]
    },
    {
      "cell_type": "code",
      "execution_count": null,
      "metadata": {
        "id": "q_xaBmTU3PhB"
      },
      "outputs": [],
      "source": [
        "train = pd.read_csv(\"/content/drive/MyDrive/my_goodreads_train.csv\")\n",
        "test = pd.read_csv(\"/content/drive/MyDrive/my_goodreads_test.csv\")"
      ]
    },
    {
      "cell_type": "code",
      "execution_count": null,
      "metadata": {
        "colab": {
          "base_uri": "https://localhost:8080/"
        },
        "id": "-nsxcQRefZmA",
        "outputId": "7cbf8994-68cf-4977-c401-56f11c464343"
      },
      "outputs": [
        {
          "name": "stdout",
          "output_type": "stream",
          "text": [
            "Looking in indexes: https://pypi.org/simple, https://us-python.pkg.dev/colab-wheels/public/simple/\n",
            "Requirement already satisfied: neattext in /usr/local/lib/python3.9/dist-packages (0.1.3)\n"
          ]
        }
      ],
      "source": [
        "!pip install neattext"
      ]
    },
    {
      "cell_type": "code",
      "execution_count": null,
      "metadata": {
        "id": "41q6Uy7Ug0vE"
      },
      "outputs": [],
      "source": [
        "import neattext as nt\n",
        "import neattext.functions as nfx"
      ]
    },
    {
      "cell_type": "code",
      "execution_count": null,
      "metadata": {
        "id": "uq8UB8mkg2YD"
      },
      "outputs": [],
      "source": [
        "#removing custom patterns like $&\\+\n",
        "train['review_text_clean']=train['review_text'].apply(lambda x:nfx.remove_custom_pattern(x,term_pattern=r'$&\\+'))\n",
        "\n",
        "#removing new lines\n",
        "train['review_text_clean']=train['review_text_clean'].apply(lambda x:nfx.remove_custom_pattern(x,term_pattern=r'\\n'))\n",
        "\n",
        "#ewmoving special characters\n",
        "train['review_text_clean']=train['review_text_clean'].apply(nfx.remove_special_characters)\n",
        "\n",
        "#removing multiple spacing\n",
        "train['review_text_clean']=train['review_text_clean'].apply(nfx.remove_multiple_spaces)\n",
        "\n",
        "#removing stopwords\n",
        "train['review_text_clean']=train['review_text_clean'].apply(nfx.remove_stopwords)"
      ]
    },
    {
      "cell_type": "code",
      "execution_count": null,
      "metadata": {
        "id": "X9DP_kJ_g4w3"
      },
      "outputs": [],
      "source": [
        "#removing custom patterns like $&\\+\n",
        "test['review_text_clean']=test['review_text'].apply(lambda x:nfx.remove_custom_pattern(x,term_pattern=r'$&\\+'))\n",
        "\n",
        "#removing new lines\n",
        "test['review_text_clean']=test['review_text_clean'].apply(lambda x:nfx.remove_custom_pattern(x,term_pattern=r'\\n'))\n",
        "\n",
        "#ewmoving special characters\n",
        "test['review_text_clean']=test['review_text_clean'].apply(nfx.remove_special_characters)\n",
        "\n",
        "#removing multiple spacing\n",
        "test['review_text_clean']=test['review_text_clean'].apply(nfx.remove_multiple_spaces)\n",
        "\n",
        "#removing stopwords\n",
        "test['review_text_clean']=test['review_text_clean'].apply(nfx.remove_stopwords)"
      ]
    },
    {
      "cell_type": "code",
      "execution_count": null,
      "metadata": {
        "id": "JHC9f2ZtYIqF"
      },
      "outputs": [],
      "source": [
        "# Divide dataset into train and test sets\n",
        "train_size = int(len(train) * 0.8) # 80% for training, 20% for testing\n",
        "train_t = train[:train_size]\n",
        "test_t = train[train_size:]"
      ]
    },
    {
      "cell_type": "code",
      "execution_count": null,
      "metadata": {
        "colab": {
          "base_uri": "https://localhost:8080/",
          "height": 1000
        },
        "id": "V6JcO4hqXBLc",
        "outputId": "01468e9a-3495-4152-c878-ab9f8cfe3934"
      },
      "outputs": [
        {
          "data": {
            "text/html": [
              "\n",
              "  <div id=\"df-385229e4-a8ff-4d73-983c-e27e8f2e01ef\">\n",
              "    <div class=\"colab-df-container\">\n",
              "      <div>\n",
              "<style scoped>\n",
              "    .dataframe tbody tr th:only-of-type {\n",
              "        vertical-align: middle;\n",
              "    }\n",
              "\n",
              "    .dataframe tbody tr th {\n",
              "        vertical-align: top;\n",
              "    }\n",
              "\n",
              "    .dataframe thead th {\n",
              "        text-align: right;\n",
              "    }\n",
              "</style>\n",
              "<table border=\"1\" class=\"dataframe\">\n",
              "  <thead>\n",
              "    <tr style=\"text-align: right;\">\n",
              "      <th></th>\n",
              "      <th>user_id</th>\n",
              "      <th>book_id</th>\n",
              "      <th>review_id</th>\n",
              "      <th>rating</th>\n",
              "      <th>review_text</th>\n",
              "      <th>date_added</th>\n",
              "      <th>date_updated</th>\n",
              "      <th>read_at</th>\n",
              "      <th>started_at</th>\n",
              "      <th>n_votes</th>\n",
              "      <th>n_comments</th>\n",
              "      <th>review_text_clean</th>\n",
              "    </tr>\n",
              "  </thead>\n",
              "  <tbody>\n",
              "    <tr>\n",
              "      <th>0</th>\n",
              "      <td>1da3dcc13cf360b9ecb06251e86237535</td>\n",
              "      <td>182091851</td>\n",
              "      <td>1c949b5dedf860514ec8b97ad158c9f4f</td>\n",
              "      <td>5</td>\n",
              "      <td>I thought this was a very good historical fant...</td>\n",
              "      <td>Fri Feb 01 16:44:16 -0800 2013</td>\n",
              "      <td>Tue Oct 25 18:49:25 -0700 2016</td>\n",
              "      <td>Sat May 04 00:00:00 -0700 2013</td>\n",
              "      <td>Thu Apr 25 00:00:00 -0700 2013</td>\n",
              "      <td>5</td>\n",
              "      <td>6</td>\n",
              "      <td>thought good historical fantasy set New York C...</td>\n",
              "    </tr>\n",
              "    <tr>\n",
              "      <th>1</th>\n",
              "      <td>1ae436441b6153473ef907aed1006a159</td>\n",
              "      <td>1451461</td>\n",
              "      <td>112ee86a20d7e4308c0a054f8b03128cd</td>\n",
              "      <td>5</td>\n",
              "      <td>I've had this book recommended to me more than...</td>\n",
              "      <td>Sun Nov 08 12:10:16 -0800 2015</td>\n",
              "      <td>Sun Nov 08 12:24:59 -0800 2015</td>\n",
              "      <td>Tue May 05 00:00:00 -0700 2015</td>\n",
              "      <td>Sun May 03 00:00:00 -0700 2015</td>\n",
              "      <td>0</td>\n",
              "      <td>0</td>\n",
              "      <td>Ive book recommended decided shot Turns pretty...</td>\n",
              "    </tr>\n",
              "    <tr>\n",
              "      <th>2</th>\n",
              "      <td>1aa5e9d859b0c0737f4b99a07edf19c88</td>\n",
              "      <td>13483572</td>\n",
              "      <td>1253729b67f301b75a0f26e85f6d6fb31</td>\n",
              "      <td>5</td>\n",
              "      <td>Seriously! You go and throw that twist into th...</td>\n",
              "      <td>Wed Oct 10 02:07:19 -0700 2012</td>\n",
              "      <td>Sat Apr 27 00:40:19 -0700 2013</td>\n",
              "      <td>Sat Apr 27 00:40:19 -0700 2013</td>\n",
              "      <td>Thu Apr 25 00:00:00 -0700 2013</td>\n",
              "      <td>0</td>\n",
              "      <td>0</td>\n",
              "      <td>Seriously throw twist story kills love series ...</td>\n",
              "    </tr>\n",
              "    <tr>\n",
              "      <th>3</th>\n",
              "      <td>1940c22aba67c3d49ccd37891c52c9f51</td>\n",
              "      <td>131585171</td>\n",
              "      <td>1ae0005e94dce0dc5c18d6ae2b4a329ab</td>\n",
              "      <td>4</td>\n",
              "      <td>Gosh!!! I'm still not recovering from the effi...</td>\n",
              "      <td>Thu Dec 05 00:45:29 -0800 2013</td>\n",
              "      <td>Thu Dec 05 00:50:17 -0800 2013</td>\n",
              "      <td>Thu Dec 05 00:50:17 -0800 2013</td>\n",
              "      <td>Wed Dec 04 00:00:00 -0800 2013</td>\n",
              "      <td>5</td>\n",
              "      <td>0</td>\n",
              "      <td>Gosh Im recovering effing CLIFFHANGER book WAY...</td>\n",
              "    </tr>\n",
              "    <tr>\n",
              "      <th>4</th>\n",
              "      <td>15e03534fccd0e7e1849d712ab9e44342</td>\n",
              "      <td>195643271</td>\n",
              "      <td>1d8357d2abdcc656635c5459c1feec761</td>\n",
              "      <td>3</td>\n",
              "      <td>3.5 stars rounded down. I can't help it, I jus...</td>\n",
              "      <td>Wed Mar 15 18:08:14 -0700 2017</td>\n",
              "      <td>Wed Jul 05 12:55:32 -0700 2017</td>\n",
              "      <td>Wed Apr 12 12:17:07 -0700 2017</td>\n",
              "      <td>Tue Apr 11 00:00:00 -0700 2017</td>\n",
              "      <td>0</td>\n",
              "      <td>0</td>\n",
              "      <td>35 stars rounded cant help dont connect Theo P...</td>\n",
              "    </tr>\n",
              "    <tr>\n",
              "      <th>...</th>\n",
              "      <td>...</td>\n",
              "      <td>...</td>\n",
              "      <td>...</td>\n",
              "      <td>...</td>\n",
              "      <td>...</td>\n",
              "      <td>...</td>\n",
              "      <td>...</td>\n",
              "      <td>...</td>\n",
              "      <td>...</td>\n",
              "      <td>...</td>\n",
              "      <td>...</td>\n",
              "      <td>...</td>\n",
              "    </tr>\n",
              "    <tr>\n",
              "      <th>559995</th>\n",
              "      <td>1bade0c12e5863b976c6fe42140f58d15</td>\n",
              "      <td>18097469</td>\n",
              "      <td>177e626270bd35177c6a7019277c9953d</td>\n",
              "      <td>3</td>\n",
              "      <td>Fun, frilly, light read for a lazy summer day....</td>\n",
              "      <td>Wed Jun 15 08:29:01 -0700 2011</td>\n",
              "      <td>Tue Dec 04 20:36:52 -0800 2012</td>\n",
              "      <td>Sat Jul 23 00:00:00 -0700 2011</td>\n",
              "      <td>NaN</td>\n",
              "      <td>0</td>\n",
              "      <td>0</td>\n",
              "      <td>Fun frilly light read lazy summer day Finished...</td>\n",
              "    </tr>\n",
              "    <tr>\n",
              "      <th>559996</th>\n",
              "      <td>1e924d41fd40849709b715942ada74a35</td>\n",
              "      <td>176297431</td>\n",
              "      <td>15ab5ce698b6f55e0d20f984db059456c</td>\n",
              "      <td>2</td>\n",
              "      <td>Kind of a let down for an ending. I am sick of...</td>\n",
              "      <td>Thu Sep 05 17:55:25 -0700 2013</td>\n",
              "      <td>Sat Aug 16 10:55:52 -0700 2014</td>\n",
              "      <td>Sat Aug 16 10:55:52 -0700 2014</td>\n",
              "      <td>Sat Aug 09 00:00:00 -0700 2014</td>\n",
              "      <td>0</td>\n",
              "      <td>0</td>\n",
              "      <td>Kind let ending sick love sight wrap convenien...</td>\n",
              "    </tr>\n",
              "    <tr>\n",
              "      <th>559997</th>\n",
              "      <td>10b12a4cf5bc6e5b5df773dcba11eb7a2</td>\n",
              "      <td>12234287</td>\n",
              "      <td>19a4794f6f29cb4f7fd5e019ddbd381d6</td>\n",
              "      <td>4</td>\n",
              "      <td>An important story. I only vaguely knew about ...</td>\n",
              "      <td>Mon Sep 23 14:34:24 -0700 2013</td>\n",
              "      <td>Sat Oct 05 11:52:41 -0700 2013</td>\n",
              "      <td>Sat Oct 05 11:52:41 -0700 2013</td>\n",
              "      <td>NaN</td>\n",
              "      <td>0</td>\n",
              "      <td>0</td>\n",
              "      <td>important story vaguely knew millions people S...</td>\n",
              "    </tr>\n",
              "    <tr>\n",
              "      <th>559998</th>\n",
              "      <td>1e9af13168c3293675a2a167204c88fc6</td>\n",
              "      <td>138953711</td>\n",
              "      <td>158870fcd43527f84ba91f5dce4b0ab72</td>\n",
              "      <td>2</td>\n",
              "      <td>Nope, it's bad this time, disorganized, some e...</td>\n",
              "      <td>Wed May 03 08:18:09 -0700 2017</td>\n",
              "      <td>Fri May 05 02:54:03 -0700 2017</td>\n",
              "      <td>Fri May 05 02:54:03 -0700 2017</td>\n",
              "      <td>Wed May 03 08:18:09 -0700 2017</td>\n",
              "      <td>0</td>\n",
              "      <td>0</td>\n",
              "      <td>Nope bad time disorganized events English magi...</td>\n",
              "    </tr>\n",
              "    <tr>\n",
              "      <th>559999</th>\n",
              "      <td>1a19bfad70658caa759b5936fbdc322a6</td>\n",
              "      <td>197713751</td>\n",
              "      <td>17c5e3f3e0ec5279b5d1d8e6f9727dfa6</td>\n",
              "      <td>4</td>\n",
              "      <td>The third book in the crossfire series. \\n Gid...</td>\n",
              "      <td>Thu Mar 17 06:48:32 -0700 2016</td>\n",
              "      <td>Sat May 28 02:58:53 -0700 2016</td>\n",
              "      <td>Thu Mar 17 00:00:00 -0700 2016</td>\n",
              "      <td>NaN</td>\n",
              "      <td>2</td>\n",
              "      <td>0</td>\n",
              "      <td>book crossfire series Gideon Eva try pretend h...</td>\n",
              "    </tr>\n",
              "  </tbody>\n",
              "</table>\n",
              "<p>560000 rows × 12 columns</p>\n",
              "</div>\n",
              "      <button class=\"colab-df-convert\" onclick=\"convertToInteractive('df-385229e4-a8ff-4d73-983c-e27e8f2e01ef')\"\n",
              "              title=\"Convert this dataframe to an interactive table.\"\n",
              "              style=\"display:none;\">\n",
              "        \n",
              "  <svg xmlns=\"http://www.w3.org/2000/svg\" height=\"24px\"viewBox=\"0 0 24 24\"\n",
              "       width=\"24px\">\n",
              "    <path d=\"M0 0h24v24H0V0z\" fill=\"none\"/>\n",
              "    <path d=\"M18.56 5.44l.94 2.06.94-2.06 2.06-.94-2.06-.94-.94-2.06-.94 2.06-2.06.94zm-11 1L8.5 8.5l.94-2.06 2.06-.94-2.06-.94L8.5 2.5l-.94 2.06-2.06.94zm10 10l.94 2.06.94-2.06 2.06-.94-2.06-.94-.94-2.06-.94 2.06-2.06.94z\"/><path d=\"M17.41 7.96l-1.37-1.37c-.4-.4-.92-.59-1.43-.59-.52 0-1.04.2-1.43.59L10.3 9.45l-7.72 7.72c-.78.78-.78 2.05 0 2.83L4 21.41c.39.39.9.59 1.41.59.51 0 1.02-.2 1.41-.59l7.78-7.78 2.81-2.81c.8-.78.8-2.07 0-2.86zM5.41 20L4 18.59l7.72-7.72 1.47 1.35L5.41 20z\"/>\n",
              "  </svg>\n",
              "      </button>\n",
              "      \n",
              "  <style>\n",
              "    .colab-df-container {\n",
              "      display:flex;\n",
              "      flex-wrap:wrap;\n",
              "      gap: 12px;\n",
              "    }\n",
              "\n",
              "    .colab-df-convert {\n",
              "      background-color: #E8F0FE;\n",
              "      border: none;\n",
              "      border-radius: 50%;\n",
              "      cursor: pointer;\n",
              "      display: none;\n",
              "      fill: #1967D2;\n",
              "      height: 32px;\n",
              "      padding: 0 0 0 0;\n",
              "      width: 32px;\n",
              "    }\n",
              "\n",
              "    .colab-df-convert:hover {\n",
              "      background-color: #E2EBFA;\n",
              "      box-shadow: 0px 1px 2px rgba(60, 64, 67, 0.3), 0px 1px 3px 1px rgba(60, 64, 67, 0.15);\n",
              "      fill: #174EA6;\n",
              "    }\n",
              "\n",
              "    [theme=dark] .colab-df-convert {\n",
              "      background-color: #3B4455;\n",
              "      fill: #D2E3FC;\n",
              "    }\n",
              "\n",
              "    [theme=dark] .colab-df-convert:hover {\n",
              "      background-color: #434B5C;\n",
              "      box-shadow: 0px 1px 3px 1px rgba(0, 0, 0, 0.15);\n",
              "      filter: drop-shadow(0px 1px 2px rgba(0, 0, 0, 0.3));\n",
              "      fill: #FFFFFF;\n",
              "    }\n",
              "  </style>\n",
              "\n",
              "      <script>\n",
              "        const buttonEl =\n",
              "          document.querySelector('#df-385229e4-a8ff-4d73-983c-e27e8f2e01ef button.colab-df-convert');\n",
              "        buttonEl.style.display =\n",
              "          google.colab.kernel.accessAllowed ? 'block' : 'none';\n",
              "\n",
              "        async function convertToInteractive(key) {\n",
              "          const element = document.querySelector('#df-385229e4-a8ff-4d73-983c-e27e8f2e01ef');\n",
              "          const dataTable =\n",
              "            await google.colab.kernel.invokeFunction('convertToInteractive',\n",
              "                                                     [key], {});\n",
              "          if (!dataTable) return;\n",
              "\n",
              "          const docLinkHtml = 'Like what you see? Visit the ' +\n",
              "            '<a target=\"_blank\" href=https://colab.research.google.com/notebooks/data_table.ipynb>data table notebook</a>'\n",
              "            + ' to learn more about interactive tables.';\n",
              "          element.innerHTML = '';\n",
              "          dataTable['output_type'] = 'display_data';\n",
              "          await google.colab.output.renderOutput(dataTable, element);\n",
              "          const docLink = document.createElement('div');\n",
              "          docLink.innerHTML = docLinkHtml;\n",
              "          element.appendChild(docLink);\n",
              "        }\n",
              "      </script>\n",
              "    </div>\n",
              "  </div>\n",
              "  "
            ],
            "text/plain": [
              "                                  user_id    book_id  \\\n",
              "0       1da3dcc13cf360b9ecb06251e86237535  182091851   \n",
              "1       1ae436441b6153473ef907aed1006a159    1451461   \n",
              "2       1aa5e9d859b0c0737f4b99a07edf19c88   13483572   \n",
              "3       1940c22aba67c3d49ccd37891c52c9f51  131585171   \n",
              "4       15e03534fccd0e7e1849d712ab9e44342  195643271   \n",
              "...                                   ...        ...   \n",
              "559995  1bade0c12e5863b976c6fe42140f58d15   18097469   \n",
              "559996  1e924d41fd40849709b715942ada74a35  176297431   \n",
              "559997  10b12a4cf5bc6e5b5df773dcba11eb7a2   12234287   \n",
              "559998  1e9af13168c3293675a2a167204c88fc6  138953711   \n",
              "559999  1a19bfad70658caa759b5936fbdc322a6  197713751   \n",
              "\n",
              "                                review_id  rating  \\\n",
              "0       1c949b5dedf860514ec8b97ad158c9f4f       5   \n",
              "1       112ee86a20d7e4308c0a054f8b03128cd       5   \n",
              "2       1253729b67f301b75a0f26e85f6d6fb31       5   \n",
              "3       1ae0005e94dce0dc5c18d6ae2b4a329ab       4   \n",
              "4       1d8357d2abdcc656635c5459c1feec761       3   \n",
              "...                                   ...     ...   \n",
              "559995  177e626270bd35177c6a7019277c9953d       3   \n",
              "559996  15ab5ce698b6f55e0d20f984db059456c       2   \n",
              "559997  19a4794f6f29cb4f7fd5e019ddbd381d6       4   \n",
              "559998  158870fcd43527f84ba91f5dce4b0ab72       2   \n",
              "559999  17c5e3f3e0ec5279b5d1d8e6f9727dfa6       4   \n",
              "\n",
              "                                              review_text  \\\n",
              "0       I thought this was a very good historical fant...   \n",
              "1       I've had this book recommended to me more than...   \n",
              "2       Seriously! You go and throw that twist into th...   \n",
              "3       Gosh!!! I'm still not recovering from the effi...   \n",
              "4       3.5 stars rounded down. I can't help it, I jus...   \n",
              "...                                                   ...   \n",
              "559995  Fun, frilly, light read for a lazy summer day....   \n",
              "559996  Kind of a let down for an ending. I am sick of...   \n",
              "559997  An important story. I only vaguely knew about ...   \n",
              "559998  Nope, it's bad this time, disorganized, some e...   \n",
              "559999  The third book in the crossfire series. \\n Gid...   \n",
              "\n",
              "                            date_added                    date_updated  \\\n",
              "0       Fri Feb 01 16:44:16 -0800 2013  Tue Oct 25 18:49:25 -0700 2016   \n",
              "1       Sun Nov 08 12:10:16 -0800 2015  Sun Nov 08 12:24:59 -0800 2015   \n",
              "2       Wed Oct 10 02:07:19 -0700 2012  Sat Apr 27 00:40:19 -0700 2013   \n",
              "3       Thu Dec 05 00:45:29 -0800 2013  Thu Dec 05 00:50:17 -0800 2013   \n",
              "4       Wed Mar 15 18:08:14 -0700 2017  Wed Jul 05 12:55:32 -0700 2017   \n",
              "...                                ...                             ...   \n",
              "559995  Wed Jun 15 08:29:01 -0700 2011  Tue Dec 04 20:36:52 -0800 2012   \n",
              "559996  Thu Sep 05 17:55:25 -0700 2013  Sat Aug 16 10:55:52 -0700 2014   \n",
              "559997  Mon Sep 23 14:34:24 -0700 2013  Sat Oct 05 11:52:41 -0700 2013   \n",
              "559998  Wed May 03 08:18:09 -0700 2017  Fri May 05 02:54:03 -0700 2017   \n",
              "559999  Thu Mar 17 06:48:32 -0700 2016  Sat May 28 02:58:53 -0700 2016   \n",
              "\n",
              "                               read_at                      started_at  \\\n",
              "0       Sat May 04 00:00:00 -0700 2013  Thu Apr 25 00:00:00 -0700 2013   \n",
              "1       Tue May 05 00:00:00 -0700 2015  Sun May 03 00:00:00 -0700 2015   \n",
              "2       Sat Apr 27 00:40:19 -0700 2013  Thu Apr 25 00:00:00 -0700 2013   \n",
              "3       Thu Dec 05 00:50:17 -0800 2013  Wed Dec 04 00:00:00 -0800 2013   \n",
              "4       Wed Apr 12 12:17:07 -0700 2017  Tue Apr 11 00:00:00 -0700 2017   \n",
              "...                                ...                             ...   \n",
              "559995  Sat Jul 23 00:00:00 -0700 2011                             NaN   \n",
              "559996  Sat Aug 16 10:55:52 -0700 2014  Sat Aug 09 00:00:00 -0700 2014   \n",
              "559997  Sat Oct 05 11:52:41 -0700 2013                             NaN   \n",
              "559998  Fri May 05 02:54:03 -0700 2017  Wed May 03 08:18:09 -0700 2017   \n",
              "559999  Thu Mar 17 00:00:00 -0700 2016                             NaN   \n",
              "\n",
              "        n_votes  n_comments                                  review_text_clean  \n",
              "0             5           6  thought good historical fantasy set New York C...  \n",
              "1             0           0  Ive book recommended decided shot Turns pretty...  \n",
              "2             0           0  Seriously throw twist story kills love series ...  \n",
              "3             5           0  Gosh Im recovering effing CLIFFHANGER book WAY...  \n",
              "4             0           0  35 stars rounded cant help dont connect Theo P...  \n",
              "...         ...         ...                                                ...  \n",
              "559995        0           0  Fun frilly light read lazy summer day Finished...  \n",
              "559996        0           0  Kind let ending sick love sight wrap convenien...  \n",
              "559997        0           0  important story vaguely knew millions people S...  \n",
              "559998        0           0  Nope bad time disorganized events English magi...  \n",
              "559999        2           0  book crossfire series Gideon Eva try pretend h...  \n",
              "\n",
              "[560000 rows x 12 columns]"
            ]
          },
          "execution_count": 42,
          "metadata": {},
          "output_type": "execute_result"
        }
      ],
      "source": [
        "train_t"
      ]
    },
    {
      "cell_type": "code",
      "execution_count": null,
      "metadata": {
        "id": "dAn89hidYKUt"
      },
      "outputs": [],
      "source": [
        "tokenizer = BertTokenizer.from_pretrained('bert-base-cased')"
      ]
    },
    {
      "cell_type": "code",
      "execution_count": null,
      "metadata": {
        "id": "epOJ_ldqYMCZ"
      },
      "outputs": [],
      "source": [
        "# Tokenize train and test data separately\n",
        "train_tokens = tokenizer.batch_encode_plus(\n",
        "    train_t['review_text_clean'].tolist(),\n",
        "    max_length=256,\n",
        "    truncation=True,\n",
        "    padding='max_length',\n",
        "    add_special_tokens=True,\n",
        "    return_tensors='tf'\n",
        ")\n",
        "test_tokens = tokenizer.batch_encode_plus(\n",
        "    test_t['review_text_clean'].tolist(),\n",
        "    max_length=256,\n",
        "    truncation=True,\n",
        "    padding='max_length',\n",
        "    add_special_tokens=True,\n",
        "    return_tensors='tf'\n",
        ")"
      ]
    },
    {
      "cell_type": "code",
      "execution_count": null,
      "metadata": {
        "id": "cE0ck7izYOUA"
      },
      "outputs": [],
      "source": [
        "# Create input and attention mask arrays for train and test data\n",
        "X_train_input_ids = np.array(train_tokens['input_ids'])\n",
        "X_train_attn_masks = np.array(train_tokens['attention_mask'])\n",
        "X_test_input_ids = np.array(test_tokens['input_ids'])\n",
        "X_test_attn_masks = np.array(test_tokens['attention_mask'])"
      ]
    },
    {
      "cell_type": "code",
      "execution_count": null,
      "metadata": {
        "id": "T27g0U76YQZw"
      },
      "outputs": [],
      "source": [
        "y_train = tf.keras.utils.to_categorical(train_t['rating'], num_classes=6) # one-hot encoded target tensor\n",
        "y_test = tf.keras.utils.to_categorical(test_t['rating'], num_classes=6)"
      ]
    },
    {
      "cell_type": "code",
      "execution_count": null,
      "metadata": {
        "id": "D4-vWpoMYUBy"
      },
      "outputs": [],
      "source": [
        "train_dataset = tf.data.Dataset.from_tensor_slices((X_train_input_ids, X_train_attn_masks, y_train))\n",
        "\n",
        "test_dataset = tf.data.Dataset.from_tensor_slices((X_test_input_ids, X_test_attn_masks, y_test))"
      ]
    },
    {
      "cell_type": "code",
      "execution_count": null,
      "metadata": {
        "id": "asGqpIgzYVjm"
      },
      "outputs": [],
      "source": [
        "def SentimentDatasetMapFunction(input_ids, attn_masks, labels):\n",
        "    return {\n",
        "        'input_ids': input_ids,\n",
        "        'attention_mask': attn_masks\n",
        "    }, labels"
      ]
    },
    {
      "cell_type": "code",
      "execution_count": null,
      "metadata": {
        "id": "L2_v-3KdYX3r"
      },
      "outputs": [],
      "source": [
        "train_dataset = train_dataset.map(SentimentDatasetMapFunction)\n",
        "\n",
        "test_dataset = test_dataset.map(SentimentDatasetMapFunction)\n",
        "\n",
        "train_dataset = train_dataset.shuffle(10000).batch(16, drop_remainder=True)\n",
        "\n",
        "test_dataset = test_dataset.batch(16)"
      ]
    },
    {
      "cell_type": "code",
      "execution_count": null,
      "metadata": {
        "colab": {
          "base_uri": "https://localhost:8080/",
          "height": 694,
          "referenced_widgets": [
            "c90856656cc74d9ea68a18b5ed0a539a",
            "bd49f5936af14d668c0e413017634d86",
            "f8d1a3cb7bef4b4a80b11b1b25f5af6c",
            "9a3c768d5b784186979891edab057ed5",
            "c0b023b013164db9b25fe9aa9103b08e",
            "f9cd8c7c84e54261b8f2ac11332efc7e",
            "02f7ce9289164aeb8aa6252eace150fb",
            "5671b0c254d54613a6978ee5b17a497b",
            "66c85a6e0ad34c6e9b71abc1a57ce091",
            "d163f1dff1094192ab79865578d59d6e",
            "d65058443c114b7ca2a960a444a6a7cb"
          ]
        },
        "id": "ElZlnoquYZ80",
        "outputId": "e8ed31fd-3201-407e-b96e-4c303d1f9d30"
      },
      "outputs": [
        {
          "data": {
            "application/vnd.jupyter.widget-view+json": {
              "model_id": "c90856656cc74d9ea68a18b5ed0a539a",
              "version_major": 2,
              "version_minor": 0
            },
            "text/plain": [
              "Downloading tf_model.h5:   0%|          | 0.00/527M [00:00<?, ?B/s]"
            ]
          },
          "metadata": {},
          "output_type": "display_data"
        },
        {
          "name": "stderr",
          "output_type": "stream",
          "text": [
            "Some layers from the model checkpoint at bert-base-cased were not used when initializing TFBertModel: ['mlm___cls', 'nsp___cls']\n",
            "- This IS expected if you are initializing TFBertModel from the checkpoint of a model trained on another task or with another architecture (e.g. initializing a BertForSequenceClassification model from a BertForPreTraining model).\n",
            "- This IS NOT expected if you are initializing TFBertModel from the checkpoint of a model that you expect to be exactly identical (initializing a BertForSequenceClassification model from a BertForSequenceClassification model).\n",
            "All the layers of TFBertModel were initialized from the model checkpoint at bert-base-cased.\n",
            "If your task is similar to the task the model of the checkpoint was trained on, you can already use TFBertModel for predictions without further training.\n"
          ]
        },
        {
          "name": "stdout",
          "output_type": "stream",
          "text": [
            "Model: \"model\"\n",
            "__________________________________________________________________________________________________\n",
            " Layer (type)                   Output Shape         Param #     Connected to                     \n",
            "==================================================================================================\n",
            " input_ids (InputLayer)         [(None, 256)]        0           []                               \n",
            "                                                                                                  \n",
            " attention_mask (InputLayer)    [(None, 256)]        0           []                               \n",
            "                                                                                                  \n",
            " bert (TFBertMainLayer)         TFBaseModelOutputWi  108310272   ['input_ids[0][0]',              \n",
            "                                thPoolingAndCrossAt               'attention_mask[0][0]']         \n",
            "                                tentions(last_hidde                                               \n",
            "                                n_state=(None, 256,                                               \n",
            "                                 768),                                                            \n",
            "                                 pooler_output=(Non                                               \n",
            "                                e, 768),                                                          \n",
            "                                 past_key_values=No                                               \n",
            "                                ne, hidden_states=N                                               \n",
            "                                one, attentions=Non                                               \n",
            "                                e, cross_attentions                                               \n",
            "                                =None)                                                            \n",
            "                                                                                                  \n",
            " intermediate_layer (Dense)     (None, 512)          393728      ['bert[0][1]']                   \n",
            "                                                                                                  \n",
            " output_layer (Dense)           (None, 6)            3078        ['intermediate_layer[0][0]']     \n",
            "                                                                                                  \n",
            "==================================================================================================\n",
            "Total params: 108,707,078\n",
            "Trainable params: 108,707,078\n",
            "Non-trainable params: 0\n",
            "__________________________________________________________________________________________________\n"
          ]
        }
      ],
      "source": [
        "from transformers import TFBertModel\n",
        "model = TFBertModel.from_pretrained('bert-base-cased')\n",
        "\n",
        "input_ids = tf.keras.layers.Input(shape=(256,), name='input_ids', dtype='int32')\n",
        "attn_masks = tf.keras.layers.Input(shape=(256,), name='attention_mask', dtype='int32')\n",
        "\n",
        "bert_embds = model.bert(input_ids, attention_mask=attn_masks)[1]\n",
        "intermediate_layer = tf.keras.layers.Dense(512, activation='relu', name='intermediate_layer')(bert_embds)\n",
        "output_layer = tf.keras.layers.Dense(6, activation='softmax', name='output_layer')(intermediate_layer)\n",
        "\n",
        "sentiment_model = tf.keras.Model(inputs=[input_ids, attn_masks], outputs=output_layer)\n",
        "sentiment_model.summary()"
      ]
    },
    {
      "cell_type": "code",
      "execution_count": null,
      "metadata": {
        "id": "HWtyt3LrYaaC"
      },
      "outputs": [],
      "source": [
        "optim = tf.keras.optimizers.Adam(learning_rate=1e-5)\n",
        "loss_func = tf.keras.losses.CategoricalCrossentropy()\n",
        "acc = tf.keras.metrics.CategoricalAccuracy('accuracy')\n",
        "sentiment_model.compile(optimizer=optim, loss=loss_func, metrics=[acc])"
      ]
    },
    {
      "cell_type": "code",
      "execution_count": null,
      "metadata": {
        "colab": {
          "base_uri": "https://localhost:8080/",
          "height": 35
        },
        "id": "zQuyQZNLYdzO",
        "outputId": "1b523f1e-a01f-498d-e830-c7db204d3384"
      },
      "outputs": [
        {
          "data": {
            "application/vnd.google.colaboratory.intrinsic+json": {
              "type": "string"
            },
            "text/plain": [
              "'hist = sentiment_model.fit(\\n    train_dataset,\\n    validation_data=test_dataset,\\n    epochs=2\\n)'"
            ]
          },
          "execution_count": 52,
          "metadata": {},
          "output_type": "execute_result"
        }
      ],
      "source": [
        "# '''hist = sentiment_model.fit(\n",
        "#     train_dataset,\n",
        "#     validation_data=test_dataset,\n",
        "#     epochs=2\n",
        "# )'''"
      ]
    },
    {
      "cell_type": "code",
      "execution_count": null,
      "metadata": {
        "colab": {
          "base_uri": "https://localhost:8080/",
          "height": 35
        },
        "id": "EXBYiCI1huQ3",
        "outputId": "00fc3849-fd84-470d-ada8-e97b02003420"
      },
      "outputs": [
        {
          "data": {
            "application/vnd.google.colaboratory.intrinsic+json": {
              "type": "string"
            },
            "text/plain": [
              "'loss: 0.8658     accuracy:   0.6189       val_loss    0.9091        Val_accuracy 0.6034'"
            ]
          },
          "execution_count": 53,
          "metadata": {},
          "output_type": "execute_result"
        }
      ],
      "source": [
        "# '''loss: 0.8658     accuracy:   0.6189       val_loss    0.9091        Val_accuracy 0.6034'''"
      ]
    },
    {
      "cell_type": "code",
      "execution_count": null,
      "metadata": {
        "id": "TLnutfGlhV7w"
      },
      "outputs": [],
      "source": [
        "# import keras\n",
        "# from keras.models import load_model\n",
        "\n",
        "# sentiment_model = load_model('/content/drive/MyDrive/Dataset/BERT_model.h5')"
      ]
    },
    {
      "cell_type": "code",
      "execution_count": null,
      "metadata": {
        "colab": {
          "base_uri": "https://localhost:8080/"
        },
        "id": "h0_Of6qf2TAQ",
        "outputId": "32300e5e-612d-48ae-899e-9bf9a3498a8c"
      },
      "outputs": [
        {
          "name": "stdout",
          "output_type": "stream",
          "text": [
            "Epoch 1/2\n",
            "35000/35000 [==============================] - 3749s 106ms/step - loss: 0.9785 - accuracy: 0.5697 - val_loss: 0.9523 - val_accuracy: 0.5818\n",
            "Epoch 2/2\n",
            "35000/35000 [==============================] - 3539s 101ms/step - loss: 0.8727 - accuracy: 0.6195 - val_loss: 0.9133 - val_accuracy: 0.6064\n"
          ]
        }
      ],
      "source": [
        "hist = sentiment_model.fit(\n",
        "    train_dataset,\n",
        "    validation_data=test_dataset,\n",
        "    epochs=2\n",
        ")"
      ]
    },
    {
      "cell_type": "code",
      "execution_count": null,
      "metadata": {
        "id": "uDpLtUyX5PT1"
      },
      "outputs": [],
      "source": [
        "# test['predicted_rating'] .shape"
      ]
    },
    {
      "cell_type": "code",
      "execution_count": null,
      "metadata": {
        "id": "diVfxlfihZpq"
      },
      "outputs": [],
      "source": [
        "import string\n",
        "\n",
        "# Define a function to remove non-printable characters\n",
        "def remove_nonprintable(text):\n",
        "    printable = [char for char in text if char in string.printable]\n",
        "    return ''.join(printable).replace('\\u00A0', ' ')\n",
        "\n",
        "\n",
        "\n",
        "# Clean the text data\n",
        "test['review_text_clean'] = test['review_text_clean'].apply(remove_nonprintable)\n",
        "test_tokens = tokenizer.batch_encode_plus(\n",
        "    test['review_text_clean'].tolist(),\n",
        "    max_length=256,\n",
        "    truncation=True,\n",
        "    padding='max_length',\n",
        "    add_special_tokens=True,\n",
        "    return_tensors='tf'\n",
        ")\n",
        "\n"
      ]
    },
    {
      "cell_type": "code",
      "execution_count": null,
      "metadata": {
        "id": "2_8MyprYhwfn"
      },
      "outputs": [],
      "source": [
        "# Convert the test data to input tensors for the model\n",
        "X_test_input_ids = np.array(test_tokens['input_ids'])\n",
        "X_test_attn_masks = np.array(test_tokens['attention_mask'])\n",
        "\n",
        "# Define a function to map the test data to input/output tensors for the model\n",
        "def SentimentDatasetMapFunction(input_ids, attention_masks, labels=None):\n",
        "    inputs = {\n",
        "        'input_ids': input_ids,\n",
        "        'attention_mask': attention_masks\n",
        "    }\n",
        "    if labels is not None:\n",
        "        return inputs, labels\n",
        "    else:\n",
        "        return inputs\n",
        "\n",
        "\n",
        "\n"
      ]
    },
    {
      "cell_type": "code",
      "execution_count": null,
      "metadata": {
        "colab": {
          "base_uri": "https://localhost:8080/"
        },
        "id": "t551vNmVZWIb",
        "outputId": "c631777e-6391-4b5e-dd0e-c748419fea1a"
      },
      "outputs": [
        {
          "name": "stdout",
          "output_type": "stream",
          "text": [
            "6250/6250 [==============================] - 444s 70ms/step\n",
            "[3 5 4 ... 3 4 4]\n"
          ]
        }
      ],
      "source": [
        "# Create a dataset from the test input tensors and map it using the SentimentDatasetMapFunction\n",
        "test_dataset = tf.data.Dataset.from_tensor_slices((X_test_input_ids, X_test_attn_masks))\n",
        "test_dataset = test_dataset.batch(32)\n",
        "test_dataset = test_dataset.map(SentimentDatasetMapFunction)\n",
        "test_dataset = test_dataset.prefetch(tf.data.AUTOTUNE)\n",
        "\n",
        "# Run the test data through the model to generate predictions\n",
        "y_pred = sentiment_model.predict(test_dataset)\n",
        "\n",
        "# Convert the predictions to class labels\n",
        "y_pred_labels = np.argmax(y_pred, axis=1)\n",
        "print(y_pred_labels)"
      ]
    },
    {
      "cell_type": "code",
      "execution_count": null,
      "metadata": {
        "id": "2aENM4x15MAG"
      },
      "outputs": [],
      "source": [
        "test['rating']= y_pred_labels\n",
        "df_output=test[['review_id','rating']]\n",
        "df_output.to_csv(\"/content/drive/MyDrive/BERT6.csv\",index=False)"
      ]
    },
    {
      "cell_type": "markdown",
      "metadata": {
        "id": "7f_5f7EFwXlX"
      },
      "source": [
        "![image.png](data:image/png;base64,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)"
      ]
    },
    {
      "cell_type": "markdown",
      "metadata": {
        "id": "FmoBtvD2wfj3"
      },
      "source": [
        "![image.png](data:image/png;base64,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)"
      ]
    },
    {
      "cell_type": "markdown",
      "metadata": {
        "id": "zn5Xropbuuhr"
      },
      "source": [
        "# Result:\n",
        "\n",
        "After performing the given task, I clearly saw that the Bidirectional Encoder Representations from Transformer Model (BERT) outperformed all the other models I used. I would highly recommend using it because of its superior ability to understand the contextual meaning of words in a sentence and its efficiency in handling large datasets.\n",
        "\n",
        "The models I would not recommend are the Recurrent Neural Networks Model (RNN) and Deep Neural Networks Model (DNN) due to their inefficient performance and their inability to effectively process my dataset.\n",
        "\n",
        "The mean and standard deviation of all the models I tested are 0.331 and 0.227, respectively. Through my approach and learnings, I discovered the importance of a model's efficiency in managing sequential datasets that are large in volume. Additionally, it's crucial that the model executes the required task well and predicts outcomes accurately.\n",
        "\n",
        "I experimented with various models, including the Logistic Regression Model, 3 Layers Neural Networks Model (CNN), Recurrent Neural Networks Model (RNN), Deep Neural Networks Model (DNN), Gated Recurrent Units (GRUs), and Bidirectional Encoder Representation from Transformer Model (BERT). Among these, I found that adjusting the number of epochs settings was challenging. I couldn't run the models as efficiently as I wanted due to Random Access Memory (RAM) and user interface limitations, particularly in Google Colab. Furthermore, I learned that increasing the number of epochs tended to improve the accuracy score. However, due to the mentioned limitations, I was unable to execute the models at the desired level of epochs, which prevented me from achieving optimum accuracy.\n"
      ]
    },
    {
      "cell_type": "markdown",
      "metadata": {
        "id": "M7vz23oMuxdc"
      },
      "source": [
        "# Summary\n",
        "\n",
        "\n",
        "\n",
        "In my analysis, the table I reviewed showcases the model and its respective accuracy, leading me to conclude that the Bidirectional Encoder Representations from Transformers (BERT) stands out. I can explain this as follows:\n",
        "\n",
        "Firstly, BERT is incredibly adept at grasping the contextual meanings of words in sentences, from which it meticulously extracts useful features. Secondly, its capacity to process vast amounts of data allows me to efficiently train the dataset with BERT. Lastly, because BERT is pre-trained on extensive data collections, it effortlessly learns language patterns, which I can then fine-tune to perform any specific classification task.\n",
        "\n",
        "After uploading the file on Kaggle, I achieved a score of 0.5808, which is decent considering I only set the training model to run for 2 epochs. However, I believe this could be significantly improved by increasing the number of epochs. This would likely enhance the accuracy score further. Therefore, I've observed that the number of epochs is directly proportional to the accuracy score. To achieve better results in the task, setting the epochs to a higher number, like 50, could potentially increase the score by approximately 20%.\n",
        "\n"
      ]
    },
    {
      "cell_type": "markdown",
      "metadata": {
        "id": "Gdtwzadxwt9B"
      },
      "source": [
        "### **#References: **\n",
        "#www.w3school.com\n",
        "#www.github.com\n",
        "#www.stackoverflow.com\n",
        "#www.geeksforgeeks.org\n"
      ]
    }
  ],
  "metadata": {
    "accelerator": "GPU",
    "colab": {
      "machine_shape": "hm",
      "provenance": [],
      "gpuClass": "premium",
      "include_colab_link": true
    },
    "gpuClass": "premium",
    "kernelspec": {
      "display_name": "Python 3 (ipykernel)",
      "language": "python",
      "name": "python3"
    },
    "language_info": {
      "codemirror_mode": {
        "name": "ipython",
        "version": 3
      },
      "file_extension": ".py",
      "mimetype": "text/x-python",
      "name": "python",
      "nbconvert_exporter": "python",
      "pygments_lexer": "ipython3",
      "version": "3.11.4"
    },
    "widgets": {
      "application/vnd.jupyter.widget-state+json": {
        "02f7ce9289164aeb8aa6252eace150fb": {
          "model_module": "@jupyter-widgets/controls",
          "model_module_version": "1.5.0",
          "model_name": "DescriptionStyleModel",
          "state": {
            "_model_module": "@jupyter-widgets/controls",
            "_model_module_version": "1.5.0",
            "_model_name": "DescriptionStyleModel",
            "_view_count": null,
            "_view_module": "@jupyter-widgets/base",
            "_view_module_version": "1.2.0",
            "_view_name": "StyleView",
            "description_width": ""
          }
        },
        "074966743b6c4434ace0ef4e8ebae020": {
          "model_module": "@jupyter-widgets/controls",
          "model_module_version": "1.5.0",
          "model_name": "DescriptionStyleModel",
          "state": {
            "_model_module": "@jupyter-widgets/controls",
            "_model_module_version": "1.5.0",
            "_model_name": "DescriptionStyleModel",
            "_view_count": null,
            "_view_module": "@jupyter-widgets/base",
            "_view_module_version": "1.2.0",
            "_view_name": "StyleView",
            "description_width": ""
          }
        },
        "08c390e04bf44c68abe64826196520c7": {
          "model_module": "@jupyter-widgets/controls",
          "model_module_version": "1.5.0",
          "model_name": "DescriptionStyleModel",
          "state": {
            "_model_module": "@jupyter-widgets/controls",
            "_model_module_version": "1.5.0",
            "_model_name": "DescriptionStyleModel",
            "_view_count": null,
            "_view_module": "@jupyter-widgets/base",
            "_view_module_version": "1.2.0",
            "_view_name": "StyleView",
            "description_width": ""
          }
        },
        "0ab91c4d1c5d42a18be82fd8631f52fa": {
          "model_module": "@jupyter-widgets/controls",
          "model_module_version": "1.5.0",
          "model_name": "FloatProgressModel",
          "state": {
            "_dom_classes": [],
            "_model_module": "@jupyter-widgets/controls",
            "_model_module_version": "1.5.0",
            "_model_name": "FloatProgressModel",
            "_view_count": null,
            "_view_module": "@jupyter-widgets/controls",
            "_view_module_version": "1.5.0",
            "_view_name": "ProgressView",
            "bar_style": "success",
            "description": "",
            "description_tooltip": null,
            "layout": "IPY_MODEL_1bfd68a88ee8444fa379731b17a341e8",
            "max": 224278,
            "min": 0,
            "orientation": "horizontal",
            "style": "IPY_MODEL_0c53f98d4bfc42afa9c03ec03d8ac570",
            "value": 224278
          }
        },
        "0c53f98d4bfc42afa9c03ec03d8ac570": {
          "model_module": "@jupyter-widgets/controls",
          "model_module_version": "1.5.0",
          "model_name": "ProgressStyleModel",
          "state": {
            "_model_module": "@jupyter-widgets/controls",
            "_model_module_version": "1.5.0",
            "_model_name": "ProgressStyleModel",
            "_view_count": null,
            "_view_module": "@jupyter-widgets/base",
            "_view_module_version": "1.2.0",
            "_view_name": "StyleView",
            "bar_color": null,
            "description_width": ""
          }
        },
        "10e274fb48fe43c88eb40a68b41c3c12": {
          "model_module": "@jupyter-widgets/base",
          "model_module_version": "1.2.0",
          "model_name": "LayoutModel",
          "state": {
            "_model_module": "@jupyter-widgets/base",
            "_model_module_version": "1.2.0",
            "_model_name": "LayoutModel",
            "_view_count": null,
            "_view_module": "@jupyter-widgets/base",
            "_view_module_version": "1.2.0",
            "_view_name": "LayoutView",
            "align_content": null,
            "align_items": null,
            "align_self": null,
            "border": null,
            "bottom": null,
            "display": null,
            "flex": null,
            "flex_flow": null,
            "grid_area": null,
            "grid_auto_columns": null,
            "grid_auto_flow": null,
            "grid_auto_rows": null,
            "grid_column": null,
            "grid_gap": null,
            "grid_row": null,
            "grid_template_areas": null,
            "grid_template_columns": null,
            "grid_template_rows": null,
            "height": null,
            "justify_content": null,
            "justify_items": null,
            "left": null,
            "margin": null,
            "max_height": null,
            "max_width": null,
            "min_height": null,
            "min_width": null,
            "object_fit": null,
            "object_position": null,
            "order": null,
            "overflow": null,
            "overflow_x": null,
            "overflow_y": null,
            "padding": null,
            "right": null,
            "top": null,
            "visibility": null,
            "width": null
          }
        },
        "18eea12738e64dd9beaf0f7ba5aae240": {
          "model_module": "@jupyter-widgets/controls",
          "model_module_version": "1.5.0",
          "model_name": "FloatProgressModel",
          "state": {
            "_dom_classes": [],
            "_model_module": "@jupyter-widgets/controls",
            "_model_module_version": "1.5.0",
            "_model_name": "FloatProgressModel",
            "_view_count": null,
            "_view_module": "@jupyter-widgets/controls",
            "_view_module_version": "1.5.0",
            "_view_name": "ProgressView",
            "bar_style": "success",
            "description": "",
            "description_tooltip": null,
            "layout": "IPY_MODEL_a6b5bb7711d74cea935b80c35897b194",
            "max": 224278,
            "min": 0,
            "orientation": "horizontal",
            "style": "IPY_MODEL_d847fa011d984b668a8b2ded25422a22",
            "value": 224278
          }
        },
        "1bfd68a88ee8444fa379731b17a341e8": {
          "model_module": "@jupyter-widgets/base",
          "model_module_version": "1.2.0",
          "model_name": "LayoutModel",
          "state": {
            "_model_module": "@jupyter-widgets/base",
            "_model_module_version": "1.2.0",
            "_model_name": "LayoutModel",
            "_view_count": null,
            "_view_module": "@jupyter-widgets/base",
            "_view_module_version": "1.2.0",
            "_view_name": "LayoutView",
            "align_content": null,
            "align_items": null,
            "align_self": null,
            "border": null,
            "bottom": null,
            "display": null,
            "flex": null,
            "flex_flow": null,
            "grid_area": null,
            "grid_auto_columns": null,
            "grid_auto_flow": null,
            "grid_auto_rows": null,
            "grid_column": null,
            "grid_gap": null,
            "grid_row": null,
            "grid_template_areas": null,
            "grid_template_columns": null,
            "grid_template_rows": null,
            "height": null,
            "justify_content": null,
            "justify_items": null,
            "left": null,
            "margin": null,
            "max_height": null,
            "max_width": null,
            "min_height": null,
            "min_width": null,
            "object_fit": null,
            "object_position": null,
            "order": null,
            "overflow": null,
            "overflow_x": null,
            "overflow_y": null,
            "padding": null,
            "right": null,
            "top": null,
            "visibility": null,
            "width": null
          }
        },
        "22a5631ac93b42b2bf6bb9263343ce40": {
          "model_module": "@jupyter-widgets/base",
          "model_module_version": "1.2.0",
          "model_name": "LayoutModel",
          "state": {
            "_model_module": "@jupyter-widgets/base",
            "_model_module_version": "1.2.0",
            "_model_name": "LayoutModel",
            "_view_count": null,
            "_view_module": "@jupyter-widgets/base",
            "_view_module_version": "1.2.0",
            "_view_name": "LayoutView",
            "align_content": null,
            "align_items": null,
            "align_self": null,
            "border": null,
            "bottom": null,
            "display": null,
            "flex": null,
            "flex_flow": null,
            "grid_area": null,
            "grid_auto_columns": null,
            "grid_auto_flow": null,
            "grid_auto_rows": null,
            "grid_column": null,
            "grid_gap": null,
            "grid_row": null,
            "grid_template_areas": null,
            "grid_template_columns": null,
            "grid_template_rows": null,
            "height": null,
            "justify_content": null,
            "justify_items": null,
            "left": null,
            "margin": null,
            "max_height": null,
            "max_width": null,
            "min_height": null,
            "min_width": null,
            "object_fit": null,
            "object_position": null,
            "order": null,
            "overflow": null,
            "overflow_x": null,
            "overflow_y": null,
            "padding": null,
            "right": null,
            "top": null,
            "visibility": null,
            "width": null
          }
        },
        "26ed9e79462342af80a0b880bf7ac9fc": {
          "model_module": "@jupyter-widgets/base",
          "model_module_version": "1.2.0",
          "model_name": "LayoutModel",
          "state": {
            "_model_module": "@jupyter-widgets/base",
            "_model_module_version": "1.2.0",
            "_model_name": "LayoutModel",
            "_view_count": null,
            "_view_module": "@jupyter-widgets/base",
            "_view_module_version": "1.2.0",
            "_view_name": "LayoutView",
            "align_content": null,
            "align_items": null,
            "align_self": null,
            "border": null,
            "bottom": null,
            "display": null,
            "flex": null,
            "flex_flow": null,
            "grid_area": null,
            "grid_auto_columns": null,
            "grid_auto_flow": null,
            "grid_auto_rows": null,
            "grid_column": null,
            "grid_gap": null,
            "grid_row": null,
            "grid_template_areas": null,
            "grid_template_columns": null,
            "grid_template_rows": null,
            "height": null,
            "justify_content": null,
            "justify_items": null,
            "left": null,
            "margin": null,
            "max_height": null,
            "max_width": null,
            "min_height": null,
            "min_width": null,
            "object_fit": null,
            "object_position": null,
            "order": null,
            "overflow": null,
            "overflow_x": null,
            "overflow_y": null,
            "padding": null,
            "right": null,
            "top": null,
            "visibility": null,
            "width": null
          }
        },
        "2db1ccf51fa24b85b265281598dcd0f0": {
          "model_module": "@jupyter-widgets/controls",
          "model_module_version": "1.5.0",
          "model_name": "HBoxModel",
          "state": {
            "_dom_classes": [],
            "_model_module": "@jupyter-widgets/controls",
            "_model_module_version": "1.5.0",
            "_model_name": "HBoxModel",
            "_view_count": null,
            "_view_module": "@jupyter-widgets/controls",
            "_view_module_version": "1.5.0",
            "_view_name": "HBoxView",
            "box_style": "",
            "children": [
              "IPY_MODEL_787e15bf9620478ca43410a501d09b5c",
              "IPY_MODEL_18eea12738e64dd9beaf0f7ba5aae240",
              "IPY_MODEL_9c69310ab97149149380aa7907d078ff"
            ],
            "layout": "IPY_MODEL_fd8df7e64eed4853a74e1a528eecfd97"
          }
        },
        "2fa020f29b564636866875f377acc974": {
          "model_module": "@jupyter-widgets/controls",
          "model_module_version": "1.5.0",
          "model_name": "ProgressStyleModel",
          "state": {
            "_model_module": "@jupyter-widgets/controls",
            "_model_module_version": "1.5.0",
            "_model_name": "ProgressStyleModel",
            "_view_count": null,
            "_view_module": "@jupyter-widgets/base",
            "_view_module_version": "1.2.0",
            "_view_name": "StyleView",
            "bar_color": null,
            "description_width": ""
          }
        },
        "31c27114a031462ab6d67dafce677a0f": {
          "model_module": "@jupyter-widgets/controls",
          "model_module_version": "1.5.0",
          "model_name": "DescriptionStyleModel",
          "state": {
            "_model_module": "@jupyter-widgets/controls",
            "_model_module_version": "1.5.0",
            "_model_name": "DescriptionStyleModel",
            "_view_count": null,
            "_view_module": "@jupyter-widgets/base",
            "_view_module_version": "1.2.0",
            "_view_name": "StyleView",
            "description_width": ""
          }
        },
        "38edc07d7bdd44fca1bcb36529c13f09": {
          "model_module": "@jupyter-widgets/base",
          "model_module_version": "1.2.0",
          "model_name": "LayoutModel",
          "state": {
            "_model_module": "@jupyter-widgets/base",
            "_model_module_version": "1.2.0",
            "_model_name": "LayoutModel",
            "_view_count": null,
            "_view_module": "@jupyter-widgets/base",
            "_view_module_version": "1.2.0",
            "_view_name": "LayoutView",
            "align_content": null,
            "align_items": null,
            "align_self": null,
            "border": null,
            "bottom": null,
            "display": null,
            "flex": null,
            "flex_flow": null,
            "grid_area": null,
            "grid_auto_columns": null,
            "grid_auto_flow": null,
            "grid_auto_rows": null,
            "grid_column": null,
            "grid_gap": null,
            "grid_row": null,
            "grid_template_areas": null,
            "grid_template_columns": null,
            "grid_template_rows": null,
            "height": null,
            "justify_content": null,
            "justify_items": null,
            "left": null,
            "margin": null,
            "max_height": null,
            "max_width": null,
            "min_height": null,
            "min_width": null,
            "object_fit": null,
            "object_position": null,
            "order": null,
            "overflow": null,
            "overflow_x": null,
            "overflow_y": null,
            "padding": null,
            "right": null,
            "top": null,
            "visibility": null,
            "width": null
          }
        },
        "4132ecc3e7734b8f92b3a32c3366c512": {
          "model_module": "@jupyter-widgets/controls",
          "model_module_version": "1.5.0",
          "model_name": "HTMLModel",
          "state": {
            "_dom_classes": [],
            "_model_module": "@jupyter-widgets/controls",
            "_model_module_version": "1.5.0",
            "_model_name": "HTMLModel",
            "_view_count": null,
            "_view_module": "@jupyter-widgets/controls",
            "_view_module_version": "1.5.0",
            "_view_name": "HTMLView",
            "description": "",
            "description_tooltip": null,
            "layout": "IPY_MODEL_b92e78bd686e4533aed5f55974ae414f",
            "placeholder": "​",
            "style": "IPY_MODEL_de345f63e4e94a928c01a3b33b6b4996",
            "value": "Pandas Apply: 100%"
          }
        },
        "41a7431738e848439a15f03b0087f1da": {
          "model_module": "@jupyter-widgets/controls",
          "model_module_version": "1.5.0",
          "model_name": "HTMLModel",
          "state": {
            "_dom_classes": [],
            "_model_module": "@jupyter-widgets/controls",
            "_model_module_version": "1.5.0",
            "_model_name": "HTMLModel",
            "_view_count": null,
            "_view_module": "@jupyter-widgets/controls",
            "_view_module_version": "1.5.0",
            "_view_name": "HTMLView",
            "description": "",
            "description_tooltip": null,
            "layout": "IPY_MODEL_6a68aa6067454e108a933831632a94af",
            "placeholder": "​",
            "style": "IPY_MODEL_08c390e04bf44c68abe64826196520c7",
            "value": " 224278/224278 [01:08&lt;00:00, 3292.36it/s]"
          }
        },
        "41ed0b3cf5d743ceb228d56944a1a1e1": {
          "model_module": "@jupyter-widgets/controls",
          "model_module_version": "1.5.0",
          "model_name": "HTMLModel",
          "state": {
            "_dom_classes": [],
            "_model_module": "@jupyter-widgets/controls",
            "_model_module_version": "1.5.0",
            "_model_name": "HTMLModel",
            "_view_count": null,
            "_view_module": "@jupyter-widgets/controls",
            "_view_module_version": "1.5.0",
            "_view_name": "HTMLView",
            "description": "",
            "description_tooltip": null,
            "layout": "IPY_MODEL_dcb3354043bf483887954e5d939ae63e",
            "placeholder": "​",
            "style": "IPY_MODEL_d2f54aa9ae884e3492e6939a10baf77f",
            "value": "Pandas Apply: 100%"
          }
        },
        "42d0603a70034b8eb4123ee52598b690": {
          "model_module": "@jupyter-widgets/controls",
          "model_module_version": "1.5.0",
          "model_name": "FloatProgressModel",
          "state": {
            "_dom_classes": [],
            "_model_module": "@jupyter-widgets/controls",
            "_model_module_version": "1.5.0",
            "_model_name": "FloatProgressModel",
            "_view_count": null,
            "_view_module": "@jupyter-widgets/controls",
            "_view_module_version": "1.5.0",
            "_view_name": "ProgressView",
            "bar_style": "success",
            "description": "",
            "description_tooltip": null,
            "layout": "IPY_MODEL_22a5631ac93b42b2bf6bb9263343ce40",
            "max": 224278,
            "min": 0,
            "orientation": "horizontal",
            "style": "IPY_MODEL_dee149c05f1444d2b69834134c8beeeb",
            "value": 224278
          }
        },
        "4e52b90fe5084caf8a69034b12187274": {
          "model_module": "@jupyter-widgets/controls",
          "model_module_version": "1.5.0",
          "model_name": "FloatProgressModel",
          "state": {
            "_dom_classes": [],
            "_model_module": "@jupyter-widgets/controls",
            "_model_module_version": "1.5.0",
            "_model_name": "FloatProgressModel",
            "_view_count": null,
            "_view_module": "@jupyter-widgets/controls",
            "_view_module_version": "1.5.0",
            "_view_name": "ProgressView",
            "bar_style": "success",
            "description": "",
            "description_tooltip": null,
            "layout": "IPY_MODEL_5baf0bb2e5f24faebed561d1092f2c51",
            "max": 224278,
            "min": 0,
            "orientation": "horizontal",
            "style": "IPY_MODEL_2fa020f29b564636866875f377acc974",
            "value": 224278
          }
        },
        "4e7283a6c1614bd9a1b4ecdf5be2b21e": {
          "model_module": "@jupyter-widgets/controls",
          "model_module_version": "1.5.0",
          "model_name": "HBoxModel",
          "state": {
            "_dom_classes": [],
            "_model_module": "@jupyter-widgets/controls",
            "_model_module_version": "1.5.0",
            "_model_name": "HBoxModel",
            "_view_count": null,
            "_view_module": "@jupyter-widgets/controls",
            "_view_module_version": "1.5.0",
            "_view_name": "HBoxView",
            "box_style": "",
            "children": [
              "IPY_MODEL_4132ecc3e7734b8f92b3a32c3366c512",
              "IPY_MODEL_0ab91c4d1c5d42a18be82fd8631f52fa",
              "IPY_MODEL_5874f5bd5ef34b05a580399eed64730c"
            ],
            "layout": "IPY_MODEL_5d824562190a4e0badadd53f02ed463b"
          }
        },
        "5671b0c254d54613a6978ee5b17a497b": {
          "model_module": "@jupyter-widgets/base",
          "model_module_version": "1.2.0",
          "model_name": "LayoutModel",
          "state": {
            "_model_module": "@jupyter-widgets/base",
            "_model_module_version": "1.2.0",
            "_model_name": "LayoutModel",
            "_view_count": null,
            "_view_module": "@jupyter-widgets/base",
            "_view_module_version": "1.2.0",
            "_view_name": "LayoutView",
            "align_content": null,
            "align_items": null,
            "align_self": null,
            "border": null,
            "bottom": null,
            "display": null,
            "flex": null,
            "flex_flow": null,
            "grid_area": null,
            "grid_auto_columns": null,
            "grid_auto_flow": null,
            "grid_auto_rows": null,
            "grid_column": null,
            "grid_gap": null,
            "grid_row": null,
            "grid_template_areas": null,
            "grid_template_columns": null,
            "grid_template_rows": null,
            "height": null,
            "justify_content": null,
            "justify_items": null,
            "left": null,
            "margin": null,
            "max_height": null,
            "max_width": null,
            "min_height": null,
            "min_width": null,
            "object_fit": null,
            "object_position": null,
            "order": null,
            "overflow": null,
            "overflow_x": null,
            "overflow_y": null,
            "padding": null,
            "right": null,
            "top": null,
            "visibility": null,
            "width": null
          }
        },
        "5874f5bd5ef34b05a580399eed64730c": {
          "model_module": "@jupyter-widgets/controls",
          "model_module_version": "1.5.0",
          "model_name": "HTMLModel",
          "state": {
            "_dom_classes": [],
            "_model_module": "@jupyter-widgets/controls",
            "_model_module_version": "1.5.0",
            "_model_name": "HTMLModel",
            "_view_count": null,
            "_view_module": "@jupyter-widgets/controls",
            "_view_module_version": "1.5.0",
            "_view_name": "HTMLView",
            "description": "",
            "description_tooltip": null,
            "layout": "IPY_MODEL_66f512c978f949eca17f46a5a60ce7bb",
            "placeholder": "​",
            "style": "IPY_MODEL_31c27114a031462ab6d67dafce677a0f",
            "value": " 224278/224278 [17:29&lt;00:00, 195.97it/s]"
          }
        },
        "59197cb2752642feb475f7faa92f6120": {
          "model_module": "@jupyter-widgets/base",
          "model_module_version": "1.2.0",
          "model_name": "LayoutModel",
          "state": {
            "_model_module": "@jupyter-widgets/base",
            "_model_module_version": "1.2.0",
            "_model_name": "LayoutModel",
            "_view_count": null,
            "_view_module": "@jupyter-widgets/base",
            "_view_module_version": "1.2.0",
            "_view_name": "LayoutView",
            "align_content": null,
            "align_items": null,
            "align_self": null,
            "border": null,
            "bottom": null,
            "display": null,
            "flex": null,
            "flex_flow": null,
            "grid_area": null,
            "grid_auto_columns": null,
            "grid_auto_flow": null,
            "grid_auto_rows": null,
            "grid_column": null,
            "grid_gap": null,
            "grid_row": null,
            "grid_template_areas": null,
            "grid_template_columns": null,
            "grid_template_rows": null,
            "height": null,
            "justify_content": null,
            "justify_items": null,
            "left": null,
            "margin": null,
            "max_height": null,
            "max_width": null,
            "min_height": null,
            "min_width": null,
            "object_fit": null,
            "object_position": null,
            "order": null,
            "overflow": null,
            "overflow_x": null,
            "overflow_y": null,
            "padding": null,
            "right": null,
            "top": null,
            "visibility": null,
            "width": null
          }
        },
        "5baf0bb2e5f24faebed561d1092f2c51": {
          "model_module": "@jupyter-widgets/base",
          "model_module_version": "1.2.0",
          "model_name": "LayoutModel",
          "state": {
            "_model_module": "@jupyter-widgets/base",
            "_model_module_version": "1.2.0",
            "_model_name": "LayoutModel",
            "_view_count": null,
            "_view_module": "@jupyter-widgets/base",
            "_view_module_version": "1.2.0",
            "_view_name": "LayoutView",
            "align_content": null,
            "align_items": null,
            "align_self": null,
            "border": null,
            "bottom": null,
            "display": null,
            "flex": null,
            "flex_flow": null,
            "grid_area": null,
            "grid_auto_columns": null,
            "grid_auto_flow": null,
            "grid_auto_rows": null,
            "grid_column": null,
            "grid_gap": null,
            "grid_row": null,
            "grid_template_areas": null,
            "grid_template_columns": null,
            "grid_template_rows": null,
            "height": null,
            "justify_content": null,
            "justify_items": null,
            "left": null,
            "margin": null,
            "max_height": null,
            "max_width": null,
            "min_height": null,
            "min_width": null,
            "object_fit": null,
            "object_position": null,
            "order": null,
            "overflow": null,
            "overflow_x": null,
            "overflow_y": null,
            "padding": null,
            "right": null,
            "top": null,
            "visibility": null,
            "width": null
          }
        },
        "5d824562190a4e0badadd53f02ed463b": {
          "model_module": "@jupyter-widgets/base",
          "model_module_version": "1.2.0",
          "model_name": "LayoutModel",
          "state": {
            "_model_module": "@jupyter-widgets/base",
            "_model_module_version": "1.2.0",
            "_model_name": "LayoutModel",
            "_view_count": null,
            "_view_module": "@jupyter-widgets/base",
            "_view_module_version": "1.2.0",
            "_view_name": "LayoutView",
            "align_content": null,
            "align_items": null,
            "align_self": null,
            "border": null,
            "bottom": null,
            "display": null,
            "flex": null,
            "flex_flow": null,
            "grid_area": null,
            "grid_auto_columns": null,
            "grid_auto_flow": null,
            "grid_auto_rows": null,
            "grid_column": null,
            "grid_gap": null,
            "grid_row": null,
            "grid_template_areas": null,
            "grid_template_columns": null,
            "grid_template_rows": null,
            "height": null,
            "justify_content": null,
            "justify_items": null,
            "left": null,
            "margin": null,
            "max_height": null,
            "max_width": null,
            "min_height": null,
            "min_width": null,
            "object_fit": null,
            "object_position": null,
            "order": null,
            "overflow": null,
            "overflow_x": null,
            "overflow_y": null,
            "padding": null,
            "right": null,
            "top": null,
            "visibility": null,
            "width": null
          }
        },
        "66c85a6e0ad34c6e9b71abc1a57ce091": {
          "model_module": "@jupyter-widgets/controls",
          "model_module_version": "1.5.0",
          "model_name": "ProgressStyleModel",
          "state": {
            "_model_module": "@jupyter-widgets/controls",
            "_model_module_version": "1.5.0",
            "_model_name": "ProgressStyleModel",
            "_view_count": null,
            "_view_module": "@jupyter-widgets/base",
            "_view_module_version": "1.2.0",
            "_view_name": "StyleView",
            "bar_color": null,
            "description_width": ""
          }
        },
        "66f512c978f949eca17f46a5a60ce7bb": {
          "model_module": "@jupyter-widgets/base",
          "model_module_version": "1.2.0",
          "model_name": "LayoutModel",
          "state": {
            "_model_module": "@jupyter-widgets/base",
            "_model_module_version": "1.2.0",
            "_model_name": "LayoutModel",
            "_view_count": null,
            "_view_module": "@jupyter-widgets/base",
            "_view_module_version": "1.2.0",
            "_view_name": "LayoutView",
            "align_content": null,
            "align_items": null,
            "align_self": null,
            "border": null,
            "bottom": null,
            "display": null,
            "flex": null,
            "flex_flow": null,
            "grid_area": null,
            "grid_auto_columns": null,
            "grid_auto_flow": null,
            "grid_auto_rows": null,
            "grid_column": null,
            "grid_gap": null,
            "grid_row": null,
            "grid_template_areas": null,
            "grid_template_columns": null,
            "grid_template_rows": null,
            "height": null,
            "justify_content": null,
            "justify_items": null,
            "left": null,
            "margin": null,
            "max_height": null,
            "max_width": null,
            "min_height": null,
            "min_width": null,
            "object_fit": null,
            "object_position": null,
            "order": null,
            "overflow": null,
            "overflow_x": null,
            "overflow_y": null,
            "padding": null,
            "right": null,
            "top": null,
            "visibility": null,
            "width": null
          }
        },
        "6a68aa6067454e108a933831632a94af": {
          "model_module": "@jupyter-widgets/base",
          "model_module_version": "1.2.0",
          "model_name": "LayoutModel",
          "state": {
            "_model_module": "@jupyter-widgets/base",
            "_model_module_version": "1.2.0",
            "_model_name": "LayoutModel",
            "_view_count": null,
            "_view_module": "@jupyter-widgets/base",
            "_view_module_version": "1.2.0",
            "_view_name": "LayoutView",
            "align_content": null,
            "align_items": null,
            "align_self": null,
            "border": null,
            "bottom": null,
            "display": null,
            "flex": null,
            "flex_flow": null,
            "grid_area": null,
            "grid_auto_columns": null,
            "grid_auto_flow": null,
            "grid_auto_rows": null,
            "grid_column": null,
            "grid_gap": null,
            "grid_row": null,
            "grid_template_areas": null,
            "grid_template_columns": null,
            "grid_template_rows": null,
            "height": null,
            "justify_content": null,
            "justify_items": null,
            "left": null,
            "margin": null,
            "max_height": null,
            "max_width": null,
            "min_height": null,
            "min_width": null,
            "object_fit": null,
            "object_position": null,
            "order": null,
            "overflow": null,
            "overflow_x": null,
            "overflow_y": null,
            "padding": null,
            "right": null,
            "top": null,
            "visibility": null,
            "width": null
          }
        },
        "787e15bf9620478ca43410a501d09b5c": {
          "model_module": "@jupyter-widgets/controls",
          "model_module_version": "1.5.0",
          "model_name": "HTMLModel",
          "state": {
            "_dom_classes": [],
            "_model_module": "@jupyter-widgets/controls",
            "_model_module_version": "1.5.0",
            "_model_name": "HTMLModel",
            "_view_count": null,
            "_view_module": "@jupyter-widgets/controls",
            "_view_module_version": "1.5.0",
            "_view_name": "HTMLView",
            "description": "",
            "description_tooltip": null,
            "layout": "IPY_MODEL_26ed9e79462342af80a0b880bf7ac9fc",
            "placeholder": "​",
            "style": "IPY_MODEL_f04e055e05f14cb984a9bd97c5261ae6",
            "value": "Pandas Apply: 100%"
          }
        },
        "84b73a4b926d4c2dbb83a3a04742ba4f": {
          "model_module": "@jupyter-widgets/controls",
          "model_module_version": "1.5.0",
          "model_name": "HTMLModel",
          "state": {
            "_dom_classes": [],
            "_model_module": "@jupyter-widgets/controls",
            "_model_module_version": "1.5.0",
            "_model_name": "HTMLModel",
            "_view_count": null,
            "_view_module": "@jupyter-widgets/controls",
            "_view_module_version": "1.5.0",
            "_view_name": "HTMLView",
            "description": "",
            "description_tooltip": null,
            "layout": "IPY_MODEL_38edc07d7bdd44fca1bcb36529c13f09",
            "placeholder": "​",
            "style": "IPY_MODEL_aec939121307473d887265ab70d2b1ee",
            "value": "Pandas Apply: 100%"
          }
        },
        "8d29ba20fe1748c28786cb3503625ee0": {
          "model_module": "@jupyter-widgets/controls",
          "model_module_version": "1.5.0",
          "model_name": "HBoxModel",
          "state": {
            "_dom_classes": [],
            "_model_module": "@jupyter-widgets/controls",
            "_model_module_version": "1.5.0",
            "_model_name": "HBoxModel",
            "_view_count": null,
            "_view_module": "@jupyter-widgets/controls",
            "_view_module_version": "1.5.0",
            "_view_name": "HBoxView",
            "box_style": "",
            "children": [
              "IPY_MODEL_84b73a4b926d4c2dbb83a3a04742ba4f",
              "IPY_MODEL_4e52b90fe5084caf8a69034b12187274",
              "IPY_MODEL_41a7431738e848439a15f03b0087f1da"
            ],
            "layout": "IPY_MODEL_d8696bb25e8c46f9b99eb6d2b23561e1"
          }
        },
        "9a3c768d5b784186979891edab057ed5": {
          "model_module": "@jupyter-widgets/controls",
          "model_module_version": "1.5.0",
          "model_name": "HTMLModel",
          "state": {
            "_dom_classes": [],
            "_model_module": "@jupyter-widgets/controls",
            "_model_module_version": "1.5.0",
            "_model_name": "HTMLModel",
            "_view_count": null,
            "_view_module": "@jupyter-widgets/controls",
            "_view_module_version": "1.5.0",
            "_view_name": "HTMLView",
            "description": "",
            "description_tooltip": null,
            "layout": "IPY_MODEL_d163f1dff1094192ab79865578d59d6e",
            "placeholder": "​",
            "style": "IPY_MODEL_d65058443c114b7ca2a960a444a6a7cb",
            "value": " 527M/527M [00:02&lt;00:00, 213MB/s]"
          }
        },
        "9c69310ab97149149380aa7907d078ff": {
          "model_module": "@jupyter-widgets/controls",
          "model_module_version": "1.5.0",
          "model_name": "HTMLModel",
          "state": {
            "_dom_classes": [],
            "_model_module": "@jupyter-widgets/controls",
            "_model_module_version": "1.5.0",
            "_model_name": "HTMLModel",
            "_view_count": null,
            "_view_module": "@jupyter-widgets/controls",
            "_view_module_version": "1.5.0",
            "_view_name": "HTMLView",
            "description": "",
            "description_tooltip": null,
            "layout": "IPY_MODEL_59197cb2752642feb475f7faa92f6120",
            "placeholder": "​",
            "style": "IPY_MODEL_074966743b6c4434ace0ef4e8ebae020",
            "value": " 224278/224278 [01:20&lt;00:00, 2842.91it/s]"
          }
        },
        "a6b5bb7711d74cea935b80c35897b194": {
          "model_module": "@jupyter-widgets/base",
          "model_module_version": "1.2.0",
          "model_name": "LayoutModel",
          "state": {
            "_model_module": "@jupyter-widgets/base",
            "_model_module_version": "1.2.0",
            "_model_name": "LayoutModel",
            "_view_count": null,
            "_view_module": "@jupyter-widgets/base",
            "_view_module_version": "1.2.0",
            "_view_name": "LayoutView",
            "align_content": null,
            "align_items": null,
            "align_self": null,
            "border": null,
            "bottom": null,
            "display": null,
            "flex": null,
            "flex_flow": null,
            "grid_area": null,
            "grid_auto_columns": null,
            "grid_auto_flow": null,
            "grid_auto_rows": null,
            "grid_column": null,
            "grid_gap": null,
            "grid_row": null,
            "grid_template_areas": null,
            "grid_template_columns": null,
            "grid_template_rows": null,
            "height": null,
            "justify_content": null,
            "justify_items": null,
            "left": null,
            "margin": null,
            "max_height": null,
            "max_width": null,
            "min_height": null,
            "min_width": null,
            "object_fit": null,
            "object_position": null,
            "order": null,
            "overflow": null,
            "overflow_x": null,
            "overflow_y": null,
            "padding": null,
            "right": null,
            "top": null,
            "visibility": null,
            "width": null
          }
        },
        "aec939121307473d887265ab70d2b1ee": {
          "model_module": "@jupyter-widgets/controls",
          "model_module_version": "1.5.0",
          "model_name": "DescriptionStyleModel",
          "state": {
            "_model_module": "@jupyter-widgets/controls",
            "_model_module_version": "1.5.0",
            "_model_name": "DescriptionStyleModel",
            "_view_count": null,
            "_view_module": "@jupyter-widgets/base",
            "_view_module_version": "1.2.0",
            "_view_name": "StyleView",
            "description_width": ""
          }
        },
        "b92e78bd686e4533aed5f55974ae414f": {
          "model_module": "@jupyter-widgets/base",
          "model_module_version": "1.2.0",
          "model_name": "LayoutModel",
          "state": {
            "_model_module": "@jupyter-widgets/base",
            "_model_module_version": "1.2.0",
            "_model_name": "LayoutModel",
            "_view_count": null,
            "_view_module": "@jupyter-widgets/base",
            "_view_module_version": "1.2.0",
            "_view_name": "LayoutView",
            "align_content": null,
            "align_items": null,
            "align_self": null,
            "border": null,
            "bottom": null,
            "display": null,
            "flex": null,
            "flex_flow": null,
            "grid_area": null,
            "grid_auto_columns": null,
            "grid_auto_flow": null,
            "grid_auto_rows": null,
            "grid_column": null,
            "grid_gap": null,
            "grid_row": null,
            "grid_template_areas": null,
            "grid_template_columns": null,
            "grid_template_rows": null,
            "height": null,
            "justify_content": null,
            "justify_items": null,
            "left": null,
            "margin": null,
            "max_height": null,
            "max_width": null,
            "min_height": null,
            "min_width": null,
            "object_fit": null,
            "object_position": null,
            "order": null,
            "overflow": null,
            "overflow_x": null,
            "overflow_y": null,
            "padding": null,
            "right": null,
            "top": null,
            "visibility": null,
            "width": null
          }
        },
        "bd49f5936af14d668c0e413017634d86": {
          "model_module": "@jupyter-widgets/controls",
          "model_module_version": "1.5.0",
          "model_name": "HTMLModel",
          "state": {
            "_dom_classes": [],
            "_model_module": "@jupyter-widgets/controls",
            "_model_module_version": "1.5.0",
            "_model_name": "HTMLModel",
            "_view_count": null,
            "_view_module": "@jupyter-widgets/controls",
            "_view_module_version": "1.5.0",
            "_view_name": "HTMLView",
            "description": "",
            "description_tooltip": null,
            "layout": "IPY_MODEL_f9cd8c7c84e54261b8f2ac11332efc7e",
            "placeholder": "​",
            "style": "IPY_MODEL_02f7ce9289164aeb8aa6252eace150fb",
            "value": "Downloading tf_model.h5: 100%"
          }
        },
        "c0b023b013164db9b25fe9aa9103b08e": {
          "model_module": "@jupyter-widgets/base",
          "model_module_version": "1.2.0",
          "model_name": "LayoutModel",
          "state": {
            "_model_module": "@jupyter-widgets/base",
            "_model_module_version": "1.2.0",
            "_model_name": "LayoutModel",
            "_view_count": null,
            "_view_module": "@jupyter-widgets/base",
            "_view_module_version": "1.2.0",
            "_view_name": "LayoutView",
            "align_content": null,
            "align_items": null,
            "align_self": null,
            "border": null,
            "bottom": null,
            "display": null,
            "flex": null,
            "flex_flow": null,
            "grid_area": null,
            "grid_auto_columns": null,
            "grid_auto_flow": null,
            "grid_auto_rows": null,
            "grid_column": null,
            "grid_gap": null,
            "grid_row": null,
            "grid_template_areas": null,
            "grid_template_columns": null,
            "grid_template_rows": null,
            "height": null,
            "justify_content": null,
            "justify_items": null,
            "left": null,
            "margin": null,
            "max_height": null,
            "max_width": null,
            "min_height": null,
            "min_width": null,
            "object_fit": null,
            "object_position": null,
            "order": null,
            "overflow": null,
            "overflow_x": null,
            "overflow_y": null,
            "padding": null,
            "right": null,
            "top": null,
            "visibility": null,
            "width": null
          }
        },
        "c90856656cc74d9ea68a18b5ed0a539a": {
          "model_module": "@jupyter-widgets/controls",
          "model_module_version": "1.5.0",
          "model_name": "HBoxModel",
          "state": {
            "_dom_classes": [],
            "_model_module": "@jupyter-widgets/controls",
            "_model_module_version": "1.5.0",
            "_model_name": "HBoxModel",
            "_view_count": null,
            "_view_module": "@jupyter-widgets/controls",
            "_view_module_version": "1.5.0",
            "_view_name": "HBoxView",
            "box_style": "",
            "children": [
              "IPY_MODEL_bd49f5936af14d668c0e413017634d86",
              "IPY_MODEL_f8d1a3cb7bef4b4a80b11b1b25f5af6c",
              "IPY_MODEL_9a3c768d5b784186979891edab057ed5"
            ],
            "layout": "IPY_MODEL_c0b023b013164db9b25fe9aa9103b08e"
          }
        },
        "d163f1dff1094192ab79865578d59d6e": {
          "model_module": "@jupyter-widgets/base",
          "model_module_version": "1.2.0",
          "model_name": "LayoutModel",
          "state": {
            "_model_module": "@jupyter-widgets/base",
            "_model_module_version": "1.2.0",
            "_model_name": "LayoutModel",
            "_view_count": null,
            "_view_module": "@jupyter-widgets/base",
            "_view_module_version": "1.2.0",
            "_view_name": "LayoutView",
            "align_content": null,
            "align_items": null,
            "align_self": null,
            "border": null,
            "bottom": null,
            "display": null,
            "flex": null,
            "flex_flow": null,
            "grid_area": null,
            "grid_auto_columns": null,
            "grid_auto_flow": null,
            "grid_auto_rows": null,
            "grid_column": null,
            "grid_gap": null,
            "grid_row": null,
            "grid_template_areas": null,
            "grid_template_columns": null,
            "grid_template_rows": null,
            "height": null,
            "justify_content": null,
            "justify_items": null,
            "left": null,
            "margin": null,
            "max_height": null,
            "max_width": null,
            "min_height": null,
            "min_width": null,
            "object_fit": null,
            "object_position": null,
            "order": null,
            "overflow": null,
            "overflow_x": null,
            "overflow_y": null,
            "padding": null,
            "right": null,
            "top": null,
            "visibility": null,
            "width": null
          }
        },
        "d2f54aa9ae884e3492e6939a10baf77f": {
          "model_module": "@jupyter-widgets/controls",
          "model_module_version": "1.5.0",
          "model_name": "DescriptionStyleModel",
          "state": {
            "_model_module": "@jupyter-widgets/controls",
            "_model_module_version": "1.5.0",
            "_model_name": "DescriptionStyleModel",
            "_view_count": null,
            "_view_module": "@jupyter-widgets/base",
            "_view_module_version": "1.2.0",
            "_view_name": "StyleView",
            "description_width": ""
          }
        },
        "d65058443c114b7ca2a960a444a6a7cb": {
          "model_module": "@jupyter-widgets/controls",
          "model_module_version": "1.5.0",
          "model_name": "DescriptionStyleModel",
          "state": {
            "_model_module": "@jupyter-widgets/controls",
            "_model_module_version": "1.5.0",
            "_model_name": "DescriptionStyleModel",
            "_view_count": null,
            "_view_module": "@jupyter-widgets/base",
            "_view_module_version": "1.2.0",
            "_view_name": "StyleView",
            "description_width": ""
          }
        },
        "d847fa011d984b668a8b2ded25422a22": {
          "model_module": "@jupyter-widgets/controls",
          "model_module_version": "1.5.0",
          "model_name": "ProgressStyleModel",
          "state": {
            "_model_module": "@jupyter-widgets/controls",
            "_model_module_version": "1.5.0",
            "_model_name": "ProgressStyleModel",
            "_view_count": null,
            "_view_module": "@jupyter-widgets/base",
            "_view_module_version": "1.2.0",
            "_view_name": "StyleView",
            "bar_color": null,
            "description_width": ""
          }
        },
        "d8696bb25e8c46f9b99eb6d2b23561e1": {
          "model_module": "@jupyter-widgets/base",
          "model_module_version": "1.2.0",
          "model_name": "LayoutModel",
          "state": {
            "_model_module": "@jupyter-widgets/base",
            "_model_module_version": "1.2.0",
            "_model_name": "LayoutModel",
            "_view_count": null,
            "_view_module": "@jupyter-widgets/base",
            "_view_module_version": "1.2.0",
            "_view_name": "LayoutView",
            "align_content": null,
            "align_items": null,
            "align_self": null,
            "border": null,
            "bottom": null,
            "display": null,
            "flex": null,
            "flex_flow": null,
            "grid_area": null,
            "grid_auto_columns": null,
            "grid_auto_flow": null,
            "grid_auto_rows": null,
            "grid_column": null,
            "grid_gap": null,
            "grid_row": null,
            "grid_template_areas": null,
            "grid_template_columns": null,
            "grid_template_rows": null,
            "height": null,
            "justify_content": null,
            "justify_items": null,
            "left": null,
            "margin": null,
            "max_height": null,
            "max_width": null,
            "min_height": null,
            "min_width": null,
            "object_fit": null,
            "object_position": null,
            "order": null,
            "overflow": null,
            "overflow_x": null,
            "overflow_y": null,
            "padding": null,
            "right": null,
            "top": null,
            "visibility": null,
            "width": null
          }
        },
        "dafb450ffc884a2eab2cd096502acd47": {
          "model_module": "@jupyter-widgets/base",
          "model_module_version": "1.2.0",
          "model_name": "LayoutModel",
          "state": {
            "_model_module": "@jupyter-widgets/base",
            "_model_module_version": "1.2.0",
            "_model_name": "LayoutModel",
            "_view_count": null,
            "_view_module": "@jupyter-widgets/base",
            "_view_module_version": "1.2.0",
            "_view_name": "LayoutView",
            "align_content": null,
            "align_items": null,
            "align_self": null,
            "border": null,
            "bottom": null,
            "display": null,
            "flex": null,
            "flex_flow": null,
            "grid_area": null,
            "grid_auto_columns": null,
            "grid_auto_flow": null,
            "grid_auto_rows": null,
            "grid_column": null,
            "grid_gap": null,
            "grid_row": null,
            "grid_template_areas": null,
            "grid_template_columns": null,
            "grid_template_rows": null,
            "height": null,
            "justify_content": null,
            "justify_items": null,
            "left": null,
            "margin": null,
            "max_height": null,
            "max_width": null,
            "min_height": null,
            "min_width": null,
            "object_fit": null,
            "object_position": null,
            "order": null,
            "overflow": null,
            "overflow_x": null,
            "overflow_y": null,
            "padding": null,
            "right": null,
            "top": null,
            "visibility": null,
            "width": null
          }
        },
        "dcb3354043bf483887954e5d939ae63e": {
          "model_module": "@jupyter-widgets/base",
          "model_module_version": "1.2.0",
          "model_name": "LayoutModel",
          "state": {
            "_model_module": "@jupyter-widgets/base",
            "_model_module_version": "1.2.0",
            "_model_name": "LayoutModel",
            "_view_count": null,
            "_view_module": "@jupyter-widgets/base",
            "_view_module_version": "1.2.0",
            "_view_name": "LayoutView",
            "align_content": null,
            "align_items": null,
            "align_self": null,
            "border": null,
            "bottom": null,
            "display": null,
            "flex": null,
            "flex_flow": null,
            "grid_area": null,
            "grid_auto_columns": null,
            "grid_auto_flow": null,
            "grid_auto_rows": null,
            "grid_column": null,
            "grid_gap": null,
            "grid_row": null,
            "grid_template_areas": null,
            "grid_template_columns": null,
            "grid_template_rows": null,
            "height": null,
            "justify_content": null,
            "justify_items": null,
            "left": null,
            "margin": null,
            "max_height": null,
            "max_width": null,
            "min_height": null,
            "min_width": null,
            "object_fit": null,
            "object_position": null,
            "order": null,
            "overflow": null,
            "overflow_x": null,
            "overflow_y": null,
            "padding": null,
            "right": null,
            "top": null,
            "visibility": null,
            "width": null
          }
        },
        "dcb7150bf66d41b487a62052cab04be5": {
          "model_module": "@jupyter-widgets/controls",
          "model_module_version": "1.5.0",
          "model_name": "HTMLModel",
          "state": {
            "_dom_classes": [],
            "_model_module": "@jupyter-widgets/controls",
            "_model_module_version": "1.5.0",
            "_model_name": "HTMLModel",
            "_view_count": null,
            "_view_module": "@jupyter-widgets/controls",
            "_view_module_version": "1.5.0",
            "_view_name": "HTMLView",
            "description": "",
            "description_tooltip": null,
            "layout": "IPY_MODEL_dafb450ffc884a2eab2cd096502acd47",
            "placeholder": "​",
            "style": "IPY_MODEL_eded7ec892e14eccb65baafd2ac60b92",
            "value": " 224278/224278 [00:04&lt;00:00, 83867.23it/s]"
          }
        },
        "de345f63e4e94a928c01a3b33b6b4996": {
          "model_module": "@jupyter-widgets/controls",
          "model_module_version": "1.5.0",
          "model_name": "DescriptionStyleModel",
          "state": {
            "_model_module": "@jupyter-widgets/controls",
            "_model_module_version": "1.5.0",
            "_model_name": "DescriptionStyleModel",
            "_view_count": null,
            "_view_module": "@jupyter-widgets/base",
            "_view_module_version": "1.2.0",
            "_view_name": "StyleView",
            "description_width": ""
          }
        },
        "dee149c05f1444d2b69834134c8beeeb": {
          "model_module": "@jupyter-widgets/controls",
          "model_module_version": "1.5.0",
          "model_name": "ProgressStyleModel",
          "state": {
            "_model_module": "@jupyter-widgets/controls",
            "_model_module_version": "1.5.0",
            "_model_name": "ProgressStyleModel",
            "_view_count": null,
            "_view_module": "@jupyter-widgets/base",
            "_view_module_version": "1.2.0",
            "_view_name": "StyleView",
            "bar_color": null,
            "description_width": ""
          }
        },
        "dfc5f44a92ce4f959b024c10639f74d7": {
          "model_module": "@jupyter-widgets/controls",
          "model_module_version": "1.5.0",
          "model_name": "HBoxModel",
          "state": {
            "_dom_classes": [],
            "_model_module": "@jupyter-widgets/controls",
            "_model_module_version": "1.5.0",
            "_model_name": "HBoxModel",
            "_view_count": null,
            "_view_module": "@jupyter-widgets/controls",
            "_view_module_version": "1.5.0",
            "_view_name": "HBoxView",
            "box_style": "",
            "children": [
              "IPY_MODEL_41ed0b3cf5d743ceb228d56944a1a1e1",
              "IPY_MODEL_42d0603a70034b8eb4123ee52598b690",
              "IPY_MODEL_dcb7150bf66d41b487a62052cab04be5"
            ],
            "layout": "IPY_MODEL_10e274fb48fe43c88eb40a68b41c3c12"
          }
        },
        "eded7ec892e14eccb65baafd2ac60b92": {
          "model_module": "@jupyter-widgets/controls",
          "model_module_version": "1.5.0",
          "model_name": "DescriptionStyleModel",
          "state": {
            "_model_module": "@jupyter-widgets/controls",
            "_model_module_version": "1.5.0",
            "_model_name": "DescriptionStyleModel",
            "_view_count": null,
            "_view_module": "@jupyter-widgets/base",
            "_view_module_version": "1.2.0",
            "_view_name": "StyleView",
            "description_width": ""
          }
        },
        "f04e055e05f14cb984a9bd97c5261ae6": {
          "model_module": "@jupyter-widgets/controls",
          "model_module_version": "1.5.0",
          "model_name": "DescriptionStyleModel",
          "state": {
            "_model_module": "@jupyter-widgets/controls",
            "_model_module_version": "1.5.0",
            "_model_name": "DescriptionStyleModel",
            "_view_count": null,
            "_view_module": "@jupyter-widgets/base",
            "_view_module_version": "1.2.0",
            "_view_name": "StyleView",
            "description_width": ""
          }
        },
        "f8d1a3cb7bef4b4a80b11b1b25f5af6c": {
          "model_module": "@jupyter-widgets/controls",
          "model_module_version": "1.5.0",
          "model_name": "FloatProgressModel",
          "state": {
            "_dom_classes": [],
            "_model_module": "@jupyter-widgets/controls",
            "_model_module_version": "1.5.0",
            "_model_name": "FloatProgressModel",
            "_view_count": null,
            "_view_module": "@jupyter-widgets/controls",
            "_view_module_version": "1.5.0",
            "_view_name": "ProgressView",
            "bar_style": "success",
            "description": "",
            "description_tooltip": null,
            "layout": "IPY_MODEL_5671b0c254d54613a6978ee5b17a497b",
            "max": 526681800,
            "min": 0,
            "orientation": "horizontal",
            "style": "IPY_MODEL_66c85a6e0ad34c6e9b71abc1a57ce091",
            "value": 526681800
          }
        },
        "f9cd8c7c84e54261b8f2ac11332efc7e": {
          "model_module": "@jupyter-widgets/base",
          "model_module_version": "1.2.0",
          "model_name": "LayoutModel",
          "state": {
            "_model_module": "@jupyter-widgets/base",
            "_model_module_version": "1.2.0",
            "_model_name": "LayoutModel",
            "_view_count": null,
            "_view_module": "@jupyter-widgets/base",
            "_view_module_version": "1.2.0",
            "_view_name": "LayoutView",
            "align_content": null,
            "align_items": null,
            "align_self": null,
            "border": null,
            "bottom": null,
            "display": null,
            "flex": null,
            "flex_flow": null,
            "grid_area": null,
            "grid_auto_columns": null,
            "grid_auto_flow": null,
            "grid_auto_rows": null,
            "grid_column": null,
            "grid_gap": null,
            "grid_row": null,
            "grid_template_areas": null,
            "grid_template_columns": null,
            "grid_template_rows": null,
            "height": null,
            "justify_content": null,
            "justify_items": null,
            "left": null,
            "margin": null,
            "max_height": null,
            "max_width": null,
            "min_height": null,
            "min_width": null,
            "object_fit": null,
            "object_position": null,
            "order": null,
            "overflow": null,
            "overflow_x": null,
            "overflow_y": null,
            "padding": null,
            "right": null,
            "top": null,
            "visibility": null,
            "width": null
          }
        },
        "fd8df7e64eed4853a74e1a528eecfd97": {
          "model_module": "@jupyter-widgets/base",
          "model_module_version": "1.2.0",
          "model_name": "LayoutModel",
          "state": {
            "_model_module": "@jupyter-widgets/base",
            "_model_module_version": "1.2.0",
            "_model_name": "LayoutModel",
            "_view_count": null,
            "_view_module": "@jupyter-widgets/base",
            "_view_module_version": "1.2.0",
            "_view_name": "LayoutView",
            "align_content": null,
            "align_items": null,
            "align_self": null,
            "border": null,
            "bottom": null,
            "display": null,
            "flex": null,
            "flex_flow": null,
            "grid_area": null,
            "grid_auto_columns": null,
            "grid_auto_flow": null,
            "grid_auto_rows": null,
            "grid_column": null,
            "grid_gap": null,
            "grid_row": null,
            "grid_template_areas": null,
            "grid_template_columns": null,
            "grid_template_rows": null,
            "height": null,
            "justify_content": null,
            "justify_items": null,
            "left": null,
            "margin": null,
            "max_height": null,
            "max_width": null,
            "min_height": null,
            "min_width": null,
            "object_fit": null,
            "object_position": null,
            "order": null,
            "overflow": null,
            "overflow_x": null,
            "overflow_y": null,
            "padding": null,
            "right": null,
            "top": null,
            "visibility": null,
            "width": null
          }
        }
      }
    }
  },
  "nbformat": 4,
  "nbformat_minor": 0
}